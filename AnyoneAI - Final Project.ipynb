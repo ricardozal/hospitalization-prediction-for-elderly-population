{
 "cells": [
  {
   "cell_type": "markdown",
   "metadata": {},
   "source": [
    "# AnyoneAI - Final Project\n",
    "> Hospitalization Prediction for Elderly Population\n",
    "\n",
    "The project aims to predict the probability of hospitalization for elderly Mexican individuals using machine learning algorithms and data such as demographics, health indicators, and medical history. The model can help healthcare providers identify high-risk patients and allocate resources accordingly. This project is similar to what you have implemented in the last few sprints but with a focus on building a model that can use a few features to make accurate predictions."
   ]
  },
  {
   "cell_type": "markdown",
   "metadata": {},
   "source": [
    "### Goal:\n",
    "The main goal of this project is to ask users to complete a form and use the provided information to predict the risk of hospitalization for that person in the next year. For that task, a Machine Learning model must be trained to make that prediction. Keep in mind the dataset we are going to use has thousands of features but, we can't ask users to complete such amount of fields in the form. We suggest you start using some classic models like Decision Trees, Random Forests, or Gradient Boosting, identify the most important features, and try to refine your model input based on that.\n",
    "\n",
    "### Main Deliverables:\n",
    "- Exploratory Dataset Analysis (EDA)\n",
    "- Scripts used for data pre-processing and data preparation\n",
    "- Training scripts and trained models. Description of how to reproduce results\n",
    "- Implementation and training of model for hospitalization prediction\n",
    "- The final model should need less than 50 features to make predictions\n",
    "- The final model AUC Score must be over 0.9\n",
    "- Present results and a demo of the model doing predictions in real time using an API\n",
    "- Everything must be containerized using Docker\n",
    "\n",
    "### Additional Optional Deliverables:\n",
    "- Experiment using Transformer models, you can convert the data to a string, experiment using certain subsets of features, and evaluate how good are the predictions with few input variables.\n",
    "- Make a UI in which users must complete a form to get the prediction for the demo."
   ]
  },
  {
   "cell_type": "code",
   "execution_count": 1,
   "metadata": {},
   "outputs": [],
   "source": [
    "# Import libraries\n",
    "import numpy as np\n",
    "import pandas as pd\n",
    "import seaborn as sns\n",
    "import os\n",
    "\n",
    "import matplotlib.pyplot as plt\n",
    "\n",
    "from src import config, data_utils, data_eda, preprocessing"
   ]
  },
  {
   "cell_type": "markdown",
   "metadata": {},
   "source": [
    "## 1. Introduction\n",
    "The dataset comprises multiple files with information about aging, health, and retirement from the Mexican Family of Health and Retirement surveys:\n",
    "`H_MHAS_c2.sas7bdat`, `H_MHAS_EOL_b.sas7bdat`  and `H_MEX_COG_A2_2016.dta`. <br>\n",
    "In this section, we will load the data corresponding to the `H_MHAS_c2.sas7bdat` file and perform a manual filtering of all features based on apriori knowledge of the problem to be solved."
   ]
  },
  {
   "cell_type": "markdown",
   "metadata": {},
   "source": [
    "### Getting the data\n",
    "\n",
    "To access the data for this project, you only need to execute the code below. This will download one sas7bdat file inside the `dataset` folder:\n",
    "\n",
    "- `H_MHAS_c2.sas7bdat`: The MHAS Dataset is public and free of charge for use but you will have to register on their website to get full access. You can see all the available data in the following link: https://www.mhasweb.org/DataProducts/HarmonizedData.aspx. This file consolidates information throughout the survey duration and is linked by user ID."
   ]
  },
  {
   "cell_type": "code",
   "execution_count": 2,
   "metadata": {},
   "outputs": [
    {
     "name": "stderr",
     "output_type": "stream",
     "text": [
      "[H_MHAS_c2.sas7bdat] column count mismatch\n"
     ]
    }
   ],
   "source": [
    "h_mhas_c2 = data_utils.get_datasets()"
   ]
  },
  {
   "cell_type": "code",
   "execution_count": 3,
   "metadata": {},
   "outputs": [
    {
     "name": "stdout",
     "output_type": "stream",
     "text": [
      "In our dataset we have 26839 subjects\n",
      "In our dataset we have 5241 features\n"
     ]
    }
   ],
   "source": [
    "print('In our dataset we have',h_mhas_c2.shape[0],'subjects')\n",
    "print('In our dataset we have',h_mhas_c2.shape[1],'features')"
   ]
  },
  {
   "cell_type": "markdown",
   "metadata": {},
   "source": [
    "### Data and Features\n",
    "The dataset `H_MHAS_c2.sas7bdat` has 26839 rows and 5241 features.\n",
    "\n",
    "All features are divided into the following sections.\n",
    "\n",
    "- SECTION A: DEMOGRAPHICS, IDENTIFIERS, AND WEIGHTS (251 features)\n",
    "- SECTION B: HEALTH (1624 features)\n",
    "- SECTION C: HEALTH CARE UTILIZATION AND INSURANCE  (236 features)\n",
    "- SECTION D: COGNITION  (706 features)\n",
    "- SECTION E: FINANCIAL AND HOUSING WEALTH (148 features)\n",
    "- SECTION F: INCOME (212 features)\n",
    "- SECTION G: FAMILY STRUCTURE (223 features)\n",
    "- SECTION H: EMPLOYMENT HISTORY (110 features)\n",
    "- SECTION I: RETIREMENT (16 features)\n",
    "- SECTION J: PENSION (54 features)\n",
    "- SECTION K: PHYSICAL MEASURES (282 features)\n",
    "- SECTION L: ASSISTANCE AND CAREGIVING (1103 features)\n",
    "- SECTION M: STRESS (77 features)\n",
    "- SECTION O: END OF LIFE PLANNING (33 features)\n",
    "- SECTION Q: PSYCHOSOCIAL (166 features)"
   ]
  },
  {
   "cell_type": "markdown",
   "metadata": {},
   "source": [
    "<b> SOME IMPORTANT INSIGHTS </b><br>\n",
    "Data can be obtained at the link: https://www.mhasweb.org/DataProducts/HarmonizedData.aspx. in different formats.\n",
    "-   `H_MHAS_c2.sas7bdat` (downloaded for our project 470 MB)-> The disk size is larger, but it contains the data already coded and checked against the documentation, which allows easier data analysis.\n",
    "-   `H_MHAS_c2.sav` (166 MB) and `H_MHAS_c2.dta` (176 MB)-> smaller size but mostly categorical variables, which makes conversion and analysis more difficult."
   ]
  },
  {
   "cell_type": "code",
   "execution_count": 4,
   "metadata": {},
   "outputs": [
    {
     "name": "stdout",
     "output_type": "stream",
     "text": [
      "We have 14 categorical features in our dataset\n",
      "We have 5227 numerical features in our dataset\n",
      "We need to check if we can convert the following to numerical: \n",
      "Index(['rahhidnp', 'h1hhidc', 'h2hhidc', 'h3hhidc', 'h4hhidc', 'h5hhidc',\n",
      "       'acthog', 's5dyear', 's5dmonth', 's3wghtref', 'r3bpsft', 's3bpsft',\n",
      "       'r3bpref', 's3bpref'],\n",
      "      dtype='object')\n"
     ]
    }
   ],
   "source": [
    "categorical_vars = h_mhas_c2.select_dtypes(include=['object']).columns\n",
    "numerical_vars = h_mhas_c2.select_dtypes(include=['float64']).columns\n",
    "\n",
    "print('We have ' + str(len(categorical_vars)) + ' categorical features in our dataset')\n",
    "print('We have ' + str(len(numerical_vars)) + ' numerical features in our dataset')\n",
    "print('We need to check if we can convert the following to numerical: ')\n",
    "print(categorical_vars)"
   ]
  },
  {
   "cell_type": "markdown",
   "metadata": {},
   "source": [
    "Since 14 features are categorical, we reviewed the data and realized that it is possible to transform all 14 variables to numerical."
   ]
  },
  {
   "cell_type": "code",
   "execution_count": 5,
   "metadata": {},
   "outputs": [],
   "source": [
    "# List of column names to convert to numeric type\n",
    "columns_to_convert = ['rahhidnp', 'h1hhidc', 'h2hhidc', 'h3hhidc', 'h4hhidc', 'h5hhidc', \n",
    "                     'acthog', 's5dyear', 's5dmonth', 's3wghtref', 'r3bpsft', 's3bpsft', \n",
    "                     's3bpref', 'r3bpref']\n",
    "\n",
    "# convert each column to numeric type\n",
    "for col in columns_to_convert:\n",
    "    h_mhas_c2[col] = pd.to_numeric(h_mhas_c2[col], errors='coerce')"
   ]
  },
  {
   "cell_type": "markdown",
   "metadata": {},
   "source": [
    "Finally, we verify that the 5241 features have been transformed into numerics."
   ]
  },
  {
   "cell_type": "code",
   "execution_count": 6,
   "metadata": {},
   "outputs": [
    {
     "name": "stdout",
     "output_type": "stream",
     "text": [
      "Now, all 5241 features are numerical type variables\n"
     ]
    }
   ],
   "source": [
    "numerical_int_vars = h_mhas_c2.select_dtypes(include=['int64']).columns\n",
    "numerical_float_vars = h_mhas_c2.select_dtypes(include=['float64']).columns\n",
    "\n",
    "print('Now, all ' + str(len(numerical_int_vars)+len(numerical_float_vars)) + ' features are numerical type variables')\n"
   ]
  },
  {
   "cell_type": "markdown",
   "metadata": {},
   "source": [
    "<b> SOME IMPORTANT INSIGHTS </b>\n",
    "-   The first character of the majority of variables indicates whether the variable refers to the reference person (“r”), spouse (“s”), or household (“h”).\n",
    "-   The second character indicates the wave to which the variable pertains: “1”, “2”, “3”, “4”, “5”, or “A”. The “A” indicates “all,”"
   ]
  },
  {
   "cell_type": "code",
   "execution_count": 7,
   "metadata": {},
   "outputs": [
    {
     "name": "stdout",
     "output_type": "stream",
     "text": [
      "Number of columns starting with 's' from spouse: 2457\n",
      "Number of columns starting with 'r' from reference: 2398\n",
      "Number of columns starting with 'h' from household: 354\n"
     ]
    }
   ],
   "source": [
    "starts_with_s = sum(col.startswith('s') for col in h_mhas_c2.columns)\n",
    "starts_with_r = sum(col.startswith('r') for col in h_mhas_c2.columns)\n",
    "starts_with_h = sum(col.startswith('h') for col in h_mhas_c2.columns)\n",
    "\n",
    "print(f\"Number of columns starting with 's' from spouse: {starts_with_s}\")\n",
    "print(f\"Number of columns starting with 'r' from reference: {starts_with_r}\")\n",
    "print(f\"Number of columns starting with 'h' from household: {starts_with_h}\")"
   ]
  },
  {
   "cell_type": "markdown",
   "metadata": {},
   "source": [
    "<span style=\"font-size:0.8em;\">\n",
    "\n",
    "<h3><center> FEATURE PRESELECTION Section A - DEMOGRAPHICS, IDENTIFIERS, AND WEIGHTS </center></h3>\n",
    "\n",
    "This section consists of 26 subsections (245 features) which are shown below:\n",
    "-  <b> ` Person Specific Identifier ` </b>  \n",
    "-  <b> ` Household Identifier ` </b>   \n",
    "-  <b> ` Spouse Identifier ` </b>   \n",
    "-  <b> ` Wave Status: Response Indicator ` </b>   \n",
    "-  Wave Status: Interview Status  \n",
    "-  <b> ` Sample Cohort ` </b>   \n",
    "-  <b> ` Whether Proxy Interview ` </b>   \n",
    "-  Number of Household Respondents  \n",
    "-  Whether Couple Household  \n",
    "-  <b> ` Household Analysis Weight ` </b>   \n",
    "-  <b> ` Person-Level Analysis Weight ` </b> \n",
    "-  Interview Dates  \n",
    "-  Birth Date: Month and Year  \n",
    "-  <b> ` Death Date: Month and Year ` </b>  \n",
    "-  Age at Interview (Months and Years)  \n",
    "-  Gender  \n",
    "-  Education  \n",
    "-  Education: Categories by ISCED Codes  \n",
    "-  Education: Harmonized Education  \n",
    "-  <b> ` Literacy and Numeracy ` </b>   \n",
    "-  Indigenous Language  \n",
    "-  Current Marital Status: Current Partnership Status  \n",
    "-  Current Marital Status: With Partnership  \n",
    "-  Current Marital Status: Without Partnership  \n",
    "-  Number of Marriages  \n",
    "-  Urban or Rural\n",
    "</span>"
   ]
  },
  {
   "cell_type": "markdown",
   "metadata": {},
   "source": [
    "After a subjective discussion with the working group, it was determined that for the `Hospitalization Prediction for Elderly Population` project, we would not need the subsections highlighted in bold. Please refer to the [Feature Screening Document](https://docs.google.com/spreadsheets/d/1TuoJQKG6A5o5RMeKnKRhnNkAR5euQJ8z/edit?usp=sharing&ouid=108194837271105476000&rtpof=true&sd=true) for more information on this decision."
   ]
  },
  {
   "cell_type": "code",
   "execution_count": 8,
   "metadata": {},
   "outputs": [],
   "source": [
    "elimin_A = [\n",
    "    'Person Specific Identifier', # Person Specific Identifier  (MANDATORY)\n",
    "    'Household Identifier', # Household Identifier (MANDATORY) \n",
    "    'Spouse Identifier', # Spouse Identifier (MANDATORY)   \n",
    "    'Response Indicator', # Wave Status: Response Indicator (MANDATORY)   \n",
    "    # 'Interview Status', # Wave Status: Interview Status  \n",
    "    'Sample Cohort', # Sample Cohort  \n",
    "    'Whether Proxy Interview', # Whether Proxy Interview  \n",
    "    # 'Number of Household Respondents', # Number of Household Respondents  \n",
    "    # 'Whether Couple Household', # Whether Couple Household  \n",
    "    'Household Analysis Weight', # Household Analysis Weight (MANDATORY)  \n",
    "    'Person-Level Analysis Weight', # Person-Level Analysis Weight\n",
    "    # 'Interview Dates', # Interview Dates  \n",
    "    # 'Birth Date', # Birth Date: Month and Year  \n",
    "    'Death Date', # Death Date: Month and Year  \n",
    "    # 'Age at Interview', # Age at Interview (Months and Years)  \n",
    "    # 'Gender', # Gender  \n",
    "    # 'Education', # Education  \n",
    "    # 'Education_Cat', # Education: Categories by ISCED Codes  \n",
    "    # 'Education_ Harmon', # Education: Harmonized Education  \n",
    "    'Literacy and Numeracy', # Literacy and Numeracy  \n",
    "    # 'Indigenous Language', # Indigenous Language  \n",
    "    # 'Current Partnership Status', # Current Marital Status: Current Partnership Status  \n",
    "    # 'With Partnership', # Current Marital Status: With Partnership  \n",
    "    # 'Without Partnership', # Current Marital Status: Without Partnership  \n",
    "    # 'Number of Marriages', # Number of Marriages  \n",
    "    # 'Urban or Rural' # Urban or Rural\n",
    "]"
   ]
  },
  {
   "cell_type": "markdown",
   "metadata": {},
   "source": [
    "<span style=\"font-size:0.8em;\">\n",
    "\n",
    "<h3><center> FEATURE PRESELECTION Section B - HEALTH </center></h3>\n",
    "\n",
    "This section consists of 27 subsections (1624 features) which are shown below:\n",
    "\n",
    "-  Self-Report of Health  \n",
    "-  Activities of Daily Living (ADLs): Raw Recodes  \n",
    "-  Activities of Daily Living (ADLs): Some Difficulty \n",
    "-  Instrumental Activities of Daily Living (IADLs): Raw Recodes  \n",
    "-  Instrumental Activities of Daily Living (IADLs): Some Difficulty  \n",
    "-  Other Functional Limitations: Raw Recodes  \n",
    "-  Other Functional Limitations: Some Difficulty  \n",
    "-  ADL Summary: Sum ADLs Where Respondent Reports Any Difficulty  \n",
    "-  IADL Summary: Sum IADLs Where Respondent Reports Any Difficulty  \n",
    "-  Other Summary Indices: Mobility, Large Muscle, Gross, Fine Motor, Total, Upper, Lower Body Mobility, and NAGI Activities \n",
    "-  Doctor Diagnosed Health Problems: Ever Have Condition  \n",
    "-  Doctor Diagnosed Diseases: Whether Receives Treatment or Medication for Disease  \n",
    "-  Doctor Diagnosed Diseases: Whether Disease Limits Activity  \n",
    "-  Doctor Diagnosed Diseases: Age of Diagnosis  \n",
    "-  Vision  \n",
    "-  Hearing \n",
    "-  Falls  \n",
    "-  Urinary Incontinence  \n",
    "-  Persistent Health Problems  \n",
    "-  <b> ` Sleep ` </b>   \n",
    "-  Pain  \n",
    "-  <b> ` Menopause ` </b>   \n",
    "-  BMI  \n",
    "-  Health Behaviors: Physical Activity or Exercise  \n",
    "-  Health Behaviors: Drinking  \n",
    "-  Health Behaviors: Smoking (Cigarettes)  \n",
    "-  Health Behaviors: Preventive Care  \n",
    "</span>"
   ]
  },
  {
   "cell_type": "markdown",
   "metadata": {},
   "source": [
    "After a subjective discussion with the working group, it was determined that for the `Hospitalization Prediction for Elderly Population` project, we would not need the subsections highlighted in bold. Please refer to the [Feature Screening Document](https://docs.google.com/spreadsheets/d/1TuoJQKG6A5o5RMeKnKRhnNkAR5euQJ8z/edit?usp=sharing&ouid=108194837271105476000&rtpof=true&sd=true) for more information on this decision."
   ]
  },
  {
   "cell_type": "code",
   "execution_count": 9,
   "metadata": {},
   "outputs": [],
   "source": [
    "elimin_B = {\n",
    "    # 'Self-Report of Health',  # Self-Report of Health  \n",
    "    # 'ADLs Raw Recodes',  # Activities of Daily Living (ADLs): Raw Recodes  \n",
    "    # 'ADLs Some Difficulty',  # Activities of Daily Living (ADLs): Some Difficulty \n",
    "    # 'IADLs Raw Recodes',  # Instrumental Activities of Daily Living (IADLs): Raw Recodes  \n",
    "    # 'IADLs Some Difficulty',  # Instrumental Activities of Daily Living (IADLs): Some Difficulty  \n",
    "    # 'Other Limitations Raw Recodes',  # Other Functional Limitations: Raw Recodes  \n",
    "    # 'Other Limitations Some Difficulty',  # Other Functional Limitations: Some Difficulty  \n",
    "    'ADL Summary',  # ADL Summary: Sum ADLs Where Respondent Reports Any Difficulty  \n",
    "    'IADL Summary',  # IADL Summary: Sum IADLs Where Respondent Reports Any Difficulty  \n",
    "    # 'Other Summary Indices',  # Other Summary Indices: Mobility, Large Muscle, Gross, Fine Motor, Total, Upper, Lower Body Mobility, and NAGI Activities \n",
    "    # 'Doctor Diagnosed Health Problems',  # Doctor Diagnosed Health Problems: Ever Have Condition  \n",
    "    # 'Treatment or Medication for Disease',  # Doctor Diagnosed Diseases: Whether Receives Treatment or Medication for Disease  \n",
    "    # 'Whether Disease Limits Activity',  # Doctor Diagnosed Diseases: Whether Disease Limits Activity  \n",
    "    # 'Age of Diagnosis',  # Doctor Diagnosed Diseases: Age of Diagnosis  \n",
    "    # 'Vision',  # Vision  \n",
    "    # 'Hearing',  # Hearing \n",
    "    # 'Falls',  # Falls  \n",
    "    # 'Urinary Incontinence',  # Urinary Incontinence  \n",
    "    # 'Persistent Health Problems',  # Persistent Health Problems  \n",
    "    'Sleep',  # Sleep  \n",
    "    # 'Pain',  # Pain  \n",
    "    'Menopause',  # Menopause  \n",
    "    # 'BMI',  # BMI  \n",
    "    # 'Physical Activity or Exercise',  # Health Behaviors: Physical Activity or Exercise  \n",
    "    # 'Drinking',  # Health Behaviors: Drinking  \n",
    "    # 'Smoking (Cigarettes)',  # Health Behaviors: Smoking (Cigarettes)  \n",
    "    # 'Preventive Care',  # Health Behaviors: Preventive Care\n",
    "}"
   ]
  },
  {
   "cell_type": "markdown",
   "metadata": {},
   "source": [
    "<span style=\"font-size:0.8em;\">\n",
    "\n",
    "<h3><center> FEATURE PRESELECTION Section C - HEALTH CARE UTILIZATION AND INSURANCE </center></h3>\n",
    "\n",
    "This section consists of 8 subsections (236 features) which are shown below:\n",
    "\n",
    "-  Medical Care Utilization: Hospital  \n",
    "-  Medical Care Utilization: Doctor  \n",
    "-  Medical Care Utilization: Other Medical Care Utilization  \n",
    "-  Medical Expenditures: Out of Pocket and Total  \n",
    "-  Covered by Federal Government Health Insurance Program  \n",
    "-  Covered by Private Health Insurance  \n",
    "-  Covered by Health Insurance from a Current or Previous Employer  \n",
    "-  Number of Health Insurance Plans \n",
    "</span>"
   ]
  },
  {
   "cell_type": "markdown",
   "metadata": {},
   "source": [
    "After a subjective discussion with the working group, it was determined that for the `Hospitalization Prediction for Elderly Population` project, we would not need the subsections highlighted in bold. Please refer to the [Feature Screening Document](https://docs.google.com/spreadsheets/d/1TuoJQKG6A5o5RMeKnKRhnNkAR5euQJ8z/edit?usp=sharing&ouid=108194837271105476000&rtpof=true&sd=true) for more information on this decision."
   ]
  },
  {
   "cell_type": "code",
   "execution_count": 10,
   "metadata": {},
   "outputs": [],
   "source": [
    "elimin_C = {\n",
    "    # 'Medical Care Hospital',  # Medical Care Utilization: Hospital  \n",
    "    # 'Medical Care Doctor',  # Medical Care Utilization: Doctor  \n",
    "    # 'Medical Care Other',  # Medical Care Utilization: Other Medical Care Utilization  \n",
    "    'Medical Expenditures',  # Medical Expenditures: Out of Pocket and Total  \n",
    "    # 'Covered by Government',  # Covered by Federal Government Health Insurance Program  \n",
    "    # 'Covered by Private',  # Covered by Private Health Insurance  \n",
    "    # 'Covered by Employer',  # Covered by Health Insurance from a Current or Previous Employer  \n",
    "    # 'Number of Health Insurance Plans',  # Number of Health Insurance Plans\n",
    "}"
   ]
  },
  {
   "cell_type": "markdown",
   "metadata": {},
   "source": [
    "<span style=\"font-size:0.8em;\">\n",
    "\n",
    "<h3><center> FEATURE PRESELECTION Section D: COGNITION </center></h3>\n",
    "\n",
    "This section consists of 15 subsections (706 features) which are shown below:\n",
    " \n",
    "-  Cognition Testing Conditions \n",
    "-  Self-Reported Memory \n",
    "-  Immediate Word Recall \n",
    "-  Delayed Word Recall \n",
    "-  Summary Scores \n",
    "-  Picture Drawing \n",
    "-  Verbal Fluency \n",
    "-  Visual Scanning \n",
    "-  Backwards Counting From 20 \n",
    "-  Date Naming/Orientation \n",
    "-  <b> ` Serial 7’s `</b>  \n",
    "-  Proxy Cognition: JORM IQCODE \n",
    "-  Proxy Cognition: Ratings of Memory and Abilities \n",
    "-  Proxy Cognition: Cognitive Impairment \n",
    "-  Proxy Cognition: Problem Behaviors in Past Week \n",
    "</span>"
   ]
  },
  {
   "cell_type": "markdown",
   "metadata": {},
   "source": [
    "After a subjective discussion with the working group, it was determined that for the `Hospitalization Prediction for Elderly Population` project, we would not need the subsections highlighted in bold. Please refer to the [Feature Screening Document](https://docs.google.com/spreadsheets/d/1TuoJQKG6A5o5RMeKnKRhnNkAR5euQJ8z/edit?usp=sharing&ouid=108194837271105476000&rtpof=true&sd=true) for more information on this decision."
   ]
  },
  {
   "cell_type": "code",
   "execution_count": 11,
   "metadata": {},
   "outputs": [],
   "source": [
    "elimin_D = {\n",
    "    # 'Cognition Testing Conditions',  # Cognition Testing Conditions \n",
    "    # 'Self-Reported Memory',  # Self-Reported Memory \n",
    "    # 'Immediate Word Recall',  # Immediate Word Recall \n",
    "    # 'Delayed Word Recall',  # Delayed Word Recall \n",
    "    # 'Summary Scores',  # Summary Scores \n",
    "    # 'Picture Drawing',  # Picture Drawing \n",
    "    # 'Verbal Fluency',  # Verbal Fluency \n",
    "    # 'Visual Scanning',  # Visual Scanning \n",
    "    # 'Backwards Counting From 20',  # Backwards Counting From 20 \n",
    "    'Date Naming/Orientation',  # Date Naming/Orientation \n",
    "    # 'Serial 7s',  # Serial 7’s -> 'Serial 7s'\n",
    "    'JORM IQCODE',  # Proxy Cognition: JORM IQCODE \n",
    "    # 'Ratings of Memory and Abilities',  # Proxy Cognition: Ratings of Memory and Abilities \n",
    "    # 'Cognitive Impairment',  # Proxy Cognition: Cognitive Impairment \n",
    "    # 'Problem Behaviors in Past Week',  # Proxy Cognition: Problem Behaviors in Past Week\n",
    "}  "
   ]
  },
  {
   "cell_type": "markdown",
   "metadata": {},
   "source": [
    "<span style=\"font-size:0.8em;\">\n",
    "\n",
    "<h3><center> FEATURE PRESELECTION Section E - FINANCIAL AND HOUSING WEALTH </center></h3>\n",
    "\n",
    "This section consists of 15 subsections (148 features) which are shown below:\n",
    "\n",
    "-  <b> ` Inflation Multiplier  ` </b> \n",
    "-  <b> ` Net Value of Real Estate (Not Primary Residence)  ` </b>  \n",
    "-  <b> ` Net Value of Cars  ` </b>  \n",
    "-  <b> ` Net Value of Businesses  ` </b>  \n",
    "-  <b> ` Value of Stocks Shares and Bonds  ` </b>  \n",
    "-  <b> ` Value of Checking Savings Accounts  ` </b>  \n",
    "-  <b> ` Value of Other Assets  ` </b> \n",
    "-  <b> ` Value of Primary Residence  ` </b>  \n",
    "-  <b> ` Value of All Mortgages (Primary Residence)  ` </b> \n",
    "-  <b> ` Net Value of Primary Residence  ` </b> \n",
    "-  <b> ` Home ownership  ` </b> \n",
    "-  <b> ` Value of Other Debt  ` </b> \n",
    "-  <b> ` Value of Loans Lent  ` </b> \n",
    "-  <b> ` Net Value of Non-Housing Financial Wealth (Excluding IRAs)  ` </b> \n",
    "-  Total Wealth\n",
    "\n",
    "</span>"
   ]
  },
  {
   "cell_type": "markdown",
   "metadata": {},
   "source": [
    "After a subjective discussion with the working group, it was determined that for the `Hospitalization Prediction for Elderly Population` project, we would not need the subsections highlighted in bold. Please refer to the [Feature Screening Document](https://docs.google.com/spreadsheets/d/1TuoJQKG6A5o5RMeKnKRhnNkAR5euQJ8z/edit?usp=sharing&ouid=108194837271105476000&rtpof=true&sd=true) for more information on this decision."
   ]
  },
  {
   "cell_type": "code",
   "execution_count": 12,
   "metadata": {},
   "outputs": [],
   "source": [
    "elimin_E = {\n",
    "    'Inflation Multiplier',  # Inflation Multiplier (MANDATORY)\n",
    "    'Net Value of Real Estate',  # Net Value of Real Estate (Not Primary Residence) \n",
    "    'Net Value of Cars',  # Net Value of Cars \n",
    "    'Net Value of Businesses',  # Net Value of Businesses \n",
    "    'Value of Stocks',  # Value of Stocks Shares and Bonds \n",
    "    'Value of Accounts',  # Value of Checking Savings Accounts \n",
    "    'Value of Other',  # Value of Other Assets\n",
    "    'Value of Residence',  # Value of Primary Residence \n",
    "    'Value of Mortgages',  # Value of All Mortgages (Primary Residence)\n",
    "    'Net Value P Residence',  # Net Value of Primary Residence\n",
    "    'Home ownership',  # Home ownership\n",
    "    'Value of Other Debt',  # Value of Other Debt\n",
    "    'Value of Loans Lent',  # Value of Loans Lent\n",
    "    'Net Value Financial Wealth',  # Net Value of Non-Housing Financial Wealth (Excluding IRAs)\n",
    "    # 'Total Wealth',  # Total Wealth\n",
    "}   "
   ]
  },
  {
   "cell_type": "markdown",
   "metadata": {},
   "source": [
    "<span style=\"font-size:0.8em;\">\n",
    "\n",
    "<h3><center> FEATURE PRESELECTION Section F - INCOME </center></h3>\n",
    "\n",
    "This section consists of 10 subsections (212 features) which are shown below:\n",
    "\n",
    "-  <b> ` Individual Earnings  ` </b> \n",
    "-  <b> ` Household Capital Income  ` </b> \n",
    "-  <b> ` Individual Income from Private Pension  ` </b> \n",
    "-  <b> ` Individual Public Pension Income  ` </b> \n",
    "-  <b> ` Individual Other Pensions Income  ` </b> \n",
    "-  <b> ` Individual Total Pensions Income  ` </b> \n",
    "-  <b> ` Individual Income from Other Government Transfers  ` </b> \n",
    "-  <b> ` All Other Income  ` </b> \n",
    "-  Total Household Income (respondent & spouse)\n",
    "-  Total Household Consumption (full household)\n",
    "</span>"
   ]
  },
  {
   "cell_type": "markdown",
   "metadata": {},
   "source": [
    "After a subjective discussion with the working group, it was determined that for the `Hospitalization Prediction for Elderly Population` project, we would not need the subsections highlighted in bold. Please refer to the [Feature Screening Document](https://docs.google.com/spreadsheets/d/1TuoJQKG6A5o5RMeKnKRhnNkAR5euQJ8z/edit?usp=sharing&ouid=108194837271105476000&rtpof=true&sd=true) for more information on this decision."
   ]
  },
  {
   "cell_type": "code",
   "execution_count": 13,
   "metadata": {},
   "outputs": [],
   "source": [
    "elimin_F = {\n",
    "    'Individual Earnings',  # Individual Earnings\n",
    "    'Household Income',  # Household Capital Income\n",
    "    'Income from Private Pension',  # Individual Income from Private Pension\n",
    "    'Public Pension Income',  # Individual Public Pension Incomes\n",
    "    'Other Pensions Income',  # Individual Other Pensions Income\n",
    "    'Total Pensions Income',  # Individual Total Pensions Income\n",
    "    'Other Government Transfers',  # Individual Income from Other Government Transfers\n",
    "    'All Other Income',  # All Other Income\n",
    "    # 'Total Household Income r&s',  # Total Household Income (respondent & spouse)\n",
    "    # 'Total Household Consumption h',  # Total Household Consumption (full household)\n",
    "}"
   ]
  },
  {
   "cell_type": "markdown",
   "metadata": {},
   "source": [
    "<span style=\"font-size:0.8em;\">\n",
    "\n",
    "<h3><center> FEATURE PRESELECTION Section G - FAMILY STRUCTURE </center></h3>\n",
    "\n",
    "This section consists of 19 subsections (223 features) which are shown below:\n",
    "\n",
    "-  Number of People Living in Household\n",
    "-  Number of Living Children\n",
    "-  Number of Deceased Children\n",
    "-  Number of Children Ever Born\n",
    "-  Number of Grandchildren\n",
    "-  Number of Living Siblings\n",
    "-  Number of Deceased Siblings\n",
    "-  Number of Living Parents\n",
    "-  Parental Mortality\n",
    "-  Parents' Current Age or Age at Death\n",
    "-  Parents' Education\n",
    "-  Any Child Co-Resides with Respondent\n",
    "-  Any Children Living in the Same City\n",
    "-  Any Weekly Contact with Children\n",
    "-  Frequent or Weekly Contact with Relatives and Friends\n",
    "-  Any Weekly Social Activities or Participate in Religious Groups\n",
    "-  Financial Transfer from Children\n",
    "-  Financial Transfer to Children\n",
    "-  Financial Transfer to Parents\n",
    "</span>"
   ]
  },
  {
   "cell_type": "markdown",
   "metadata": {},
   "source": [
    "After a subjective discussion with the working group, it was determined that for the `Hospitalization Prediction for Elderly Population` project, we would not need the subsections highlighted in bold. Please refer to the [Feature Screening Document](https://docs.google.com/spreadsheets/d/1TuoJQKG6A5o5RMeKnKRhnNkAR5euQJ8z/edit?usp=sharing&ouid=108194837271105476000&rtpof=true&sd=true) for more information on this decision."
   ]
  },
  {
   "cell_type": "code",
   "execution_count": 14,
   "metadata": {},
   "outputs": [],
   "source": [
    "elimin_G = {\n",
    "    # 'N Living in Household',  # Number of People Living in Household\n",
    "    # 'N Living Children',  # Number of Living Children\n",
    "    # 'N Deceased Children',  # Number of Deceased Children\n",
    "    # 'N Children Ever Born',  # Number of Children Ever Born\n",
    "    # 'N Grandchildren',  # Number of Grandchildren\n",
    "    # 'N Living Siblings',  # Number of Living Siblings\n",
    "    # 'N Deceased Siblings',  # Number of Deceased Siblings\n",
    "    # 'N Living Parents',  # Number of Living Parents\n",
    "    # 'Parental Mortality',  # Parental Mortality\n",
    "    # 'Parents Age or Age at Death',  # Parents' Current Age or Age at Death\n",
    "    # 'Parents Education',  # Parents' Education\n",
    "    # 'Any Child with Respondent',  # Any Child Co-Resides with Respondent\n",
    "    # 'Any Children Same City',  # Any Children Living in the Same City\n",
    "    # 'Any Weekly Contact with Children',  # Any Weekly Contact with Children\n",
    "    # 'Frequent Contact with Relatives',  # Frequent or Weekly Contact with Relatives and Friends\n",
    "    # 'Weekly Social Activities',  # Any Weekly Social Activities or Participate in Religious Groups\n",
    "    # 'Financial Transfer from Children',  # Financial Transfer from Children\n",
    "    # 'Financial Transfer to Children',  # Financial Transfer to Children\n",
    "    # 'Financial Transfer to Parents',  # Financial Transfer to Parents\n",
    "}"
   ]
  },
  {
   "cell_type": "markdown",
   "metadata": {},
   "source": [
    "<span style=\"font-size:0.8em;\">\n",
    "\n",
    "<h3><center> FEATURE PRESELECTION Section H - EMPLOYMENT HISTORY </center></h3>\n",
    "\n",
    "This section consists of 12 subsections (110 features) which are shown below:\n",
    "\n",
    "-  <b> ` Currently Working for Pay ` <b>  \n",
    "-  <b> ` Whether Self-Employed ` <b>\n",
    "-  <b> ` Labor Force Status ` <b>\n",
    "-  <b> ` In the Labor Force ` <b>\n",
    "-  Unemployment Status\n",
    "-  <b> ` Retired Employment Status ` <b>\n",
    "-  <b> ` Hours at Main Job ` <b>\n",
    "-  <b> ` Main Activity Years of Tenure ` <b>\n",
    "-  <b> ` Job Allows Move to Less Demanding Work ` <b>\n",
    "-  <b> ` Occupation Code for Job with Longest Reported Tenure ` <b>\n",
    "-  Year Last Job Ended\n",
    "-  Reason Job Ended\n",
    "</span>"
   ]
  },
  {
   "cell_type": "markdown",
   "metadata": {},
   "source": [
    "After a subjective discussion with the working group, it was determined that for the `Hospitalization Prediction for Elderly Population` project, we would not need the subsections highlighted in bold. Please refer to the [Feature Screening Document](https://docs.google.com/spreadsheets/d/1TuoJQKG6A5o5RMeKnKRhnNkAR5euQJ8z/edit?usp=sharing&ouid=108194837271105476000&rtpof=true&sd=true) for more information on this decision."
   ]
  },
  {
   "cell_type": "code",
   "execution_count": 15,
   "metadata": {},
   "outputs": [],
   "source": [
    "elimin_H = {\n",
    "    'Currently Working for Pay',  # Currently Working for Pay\n",
    "    'Whether Self-Employed',  # Whether Self-Employed\n",
    "    'Labor Force Status',  # Labor Force Status\n",
    "    'In the Labor Force',  # In the Labor Force\n",
    "    # 'Unemployment Status',  # Unemployment Status\n",
    "    'Retired Employment Status',  # Retired Employment Status\n",
    "    'Hours at Main Job',  # Hours at Main Job\n",
    "    'Main Activity Years of Tenure',  # Main Activity Years of Tenure\n",
    "    'Job Allows Move',  # Job Allows Move to Less Demanding Work\n",
    "    'Occupation Code with Longest',  # Occupation Code for Job with Longest Reported Tenure\n",
    "    # 'Year Last Job Ended',  # Year Last Job Ended\n",
    "    # 'Reason Job Ended',  # Reason Job Ended\n",
    "}"
   ]
  },
  {
   "cell_type": "markdown",
   "metadata": {},
   "source": [
    "<span style=\"font-size:0.8em;\">\n",
    "\n",
    "<h3><center> FEATURE PRESELECTION Section I - RETIREMENT </center></h3>\n",
    "\n",
    "This section consists of 2 subsections (16 features) which are shown below:\n",
    "\n",
    "-  <b> ` Whether Retired: Retirement year, if says retired ` </b>\n",
    "-  Whether Retired: Retirement age, if says retired\n",
    "</span>"
   ]
  },
  {
   "cell_type": "markdown",
   "metadata": {},
   "source": [
    "After a subjective discussion with the working group, it was determined that for the `Hospitalization Prediction for Elderly Population` project, we would not need the subsections highlighted in bold. Please refer to the [Feature Screening Document](https://docs.google.com/spreadsheets/d/1TuoJQKG6A5o5RMeKnKRhnNkAR5euQJ8z/edit?usp=sharing&ouid=108194837271105476000&rtpof=true&sd=true) for more information on this decision."
   ]
  },
  {
   "cell_type": "code",
   "execution_count": 16,
   "metadata": {},
   "outputs": [],
   "source": [
    "elimin_I = {\n",
    "    'Retirement year',  # Whether Retired: Retirement year, if says retired\n",
    "    # 'Retirement age',  # Whether Retired: Retirement age, if says retired\n",
    "}\n"
   ]
  },
  {
   "cell_type": "markdown",
   "metadata": {},
   "source": [
    "<span style=\"font-size:0.8em;\">\n",
    "\n",
    "<h3><center> FEATURE PRESELECTION Section J - PENSION </center></h3>\n",
    "\n",
    "This section consists of 7 subsections (54 features) which are shown below:\n",
    "\n",
    "-  <b> ` Whether Receives Public Pension ` </b>\n",
    "-  <b> ` Whether Receives Private Pension ` </b>\n",
    "-  <b> ` Whether Receives Other Pension ` </b>\n",
    "-  <b> ` Age When Started to Receive a Public Pension ` </b>\n",
    "-  <b> ` Age When Started to Receive a Private Pension ` </b>\n",
    "-  <b> ` Whether Current Public Pension(s) Can Continue ` </b>\n",
    "-  <b> ` Whether Current Private Pension Can Continue ` </b>\n",
    "</span>"
   ]
  },
  {
   "cell_type": "markdown",
   "metadata": {},
   "source": [
    "After a subjective discussion with the working group, it was determined that for the `Hospitalization Prediction for Elderly Population` project, we would not need the subsections highlighted in bold. Please refer to the [Feature Screening Document](https://docs.google.com/spreadsheets/d/1TuoJQKG6A5o5RMeKnKRhnNkAR5euQJ8z/edit?usp=sharing&ouid=108194837271105476000&rtpof=true&sd=true) for more information on this decision."
   ]
  },
  {
   "cell_type": "code",
   "execution_count": 17,
   "metadata": {},
   "outputs": [],
   "source": [
    "elimin_J = {\n",
    "    'Public Pension',  # Whether Receives Public Pension\n",
    "    'Private Pension',  # Whether Receives Private Pension\n",
    "    'Other Pension',  # Whether Receives Other Pension\n",
    "    'Age Public Pension',  # Age When Started to Receive a Public Pension\n",
    "    'Age Private Pension',  # Age When Started to Receive a Private Pension\n",
    "    'Public Pension Continuity',  # Whether Current Public Pension(s) Can Continue\n",
    "    'Private Pension Continuity',  # Whether Current Private Pension Can Continue\n",
    "}"
   ]
  },
  {
   "cell_type": "markdown",
   "metadata": {},
   "source": [
    "<span style=\"font-size:0.8em;\">\n",
    "\n",
    "<h3><center> FEATURE PRESELECTION Section K - PHYSICAL MEASURES </center></h3>\n",
    "\n",
    "This section consists of 8 subsections (282 features) which are shown below:\n",
    " \n",
    "-  Height, Weight, Waist and Hip Circumference Measurements\n",
    "-  Height, Weight, Waist and Hip Circumference Measurements: Reason Didn't Complete\n",
    "-  <b> ` Sitting Height ` <b>  \n",
    "-  <b> ` Sitting Height: Reason Didn't Complete ` <b>\n",
    "-  Balance Test\n",
    "-  Balance Test: Reason Didn't Complete\n",
    "-  <b> ` Blood Pressure Measurements ` <b>\n",
    "-  <b> ` Blood Pressure Measurements: Reason Didn't Complete ` <b>\n",
    "-  <b> ` Timed Walk Measurements ` <b>\n",
    "-  <b> ` Timed Walk Measurements: Reason Didn't Complete ` <b>\n",
    "-  <b> ` Hand Grip Strength Measurements ` <b>\n",
    "-  <b> ` Hand Grip Strength Measurements: Reason Didn't Complete ` <b>\n",
    "</span>"
   ]
  },
  {
   "cell_type": "markdown",
   "metadata": {},
   "source": [
    "After a subjective discussion with the working group, it was determined that for the `Hospitalization Prediction for Elderly Population` project, we would not need the subsections highlighted in bold. Please refer to the [Feature Screening Document](https://docs.google.com/spreadsheets/d/1TuoJQKG6A5o5RMeKnKRhnNkAR5euQJ8z/edit?usp=sharing&ouid=108194837271105476000&rtpof=true&sd=true) for more information on this decision."
   ]
  },
  {
   "cell_type": "code",
   "execution_count": 18,
   "metadata": {},
   "outputs": [],
   "source": [
    "elimin_K = {\n",
    "    # 'Waist and Hip Measure',  # Height, Weight, Waist and Hip Circumference Measurements\n",
    "    # 'Waist and Hip Measure Incomplete',  # Height, Weight, Waist and Hip Circumference Measurements: Reason Didn't Complete\n",
    "    'Sitting Height',  # Sitting Height\n",
    "    'Sitting Height Incomplete',  # Sitting Height: Reason Didn't Complete\n",
    "    # 'Balance Test',  # Balance Test\n",
    "    # 'Balance Test Incomplete',  # Balance Test: Reason Didn't Complete\n",
    "    'Blood Pressure Measure',  # Blood Pressure Measurements\n",
    "    'Blood Pressure Measure Incomplete',  # Blood Pressure Measurements: Reason Didn't Complete\n",
    "    'Timed Walk Measure',  # Timed Walk Measurements\n",
    "    'Timed Walk Measure Incomplete',  # Timed Walk Measurements: Reason Didn't Complete\n",
    "    'Hand Grip Measure',  # Hand Grip Strength Measurements\n",
    "    'Hand Grip Measure Incomplete',  # Hand Grip Strength Measurements: Reason Didn't Complete\n",
    "}"
   ]
  },
  {
   "cell_type": "markdown",
   "metadata": {},
   "source": [
    "<span style=\"font-size:0.8em;\">\n",
    "\n",
    "<h3><center> FEATURE PRESELECTION Section L - ASSISTANCE AND CAREGIVING </center></h3>\n",
    "\n",
    "This section consists of 31 subsections (1103 features) which are shown below:\n",
    " \n",
    "-  ADL Help\n",
    "-  IADL Help\n",
    "-  Whether Uses Personal Aids\n",
    "-  Future ADL Help\n",
    "-  Activities of Daily Living: Whether Receives Any Care\n",
    "-  Activities of Daily Living: Whether Receives Any Informal Care\n",
    "-  Activities of Daily Living: Receives Informal Care from Spouse\n",
    "-  Activities of Daily Living: Receives Informal Care from Children or Grandchildren\n",
    "-  Activities of Daily Living: Receives Informal Care from Relatives\n",
    "-  Activities of Daily Living: Receives Informal Care from Other Individuals\n",
    "-  Activities of Daily Living: Whether Receives Any Formal Care\n",
    "-  Activities of Daily Living: Receives Formal Care from Paid Professional\n",
    "-  Instrumental Activities of Daily Living: Whether Receives Any Care\n",
    "-  Instrumental Activities of Daily Living: Whether Receives Any Informal Care\n",
    "-  Instrumental Activities of Daily Living: Receives Informal Care from Spouse\n",
    "-  Instrumental Activities of Daily Living: Receives Informal Care from Children or Grandchildren\n",
    "-  Instrumental Activities of Daily Living: Receives Informal Care from Relatives\n",
    "-  Instrumental Activities of Daily Living: Receives Informal Care from Other Individuals\n",
    "-  Instrumental Activities of Daily Living: Whether Receives Any Formal Care\n",
    "-  Instrumental Activities of Daily Living: Receives Formal Care from Paid Professional\n",
    "-  Activities of Daily Living and Instrumental Activities of Daily Living: Whether Receives Any Care\n",
    "-  Activities of Daily Living and Instrumental Activities of Daily Living: Whether Receives Any Informal Care\n",
    "-  Activities of Daily Living and Instrumental Activities of Daily Living: Receives Informal Care from Spouse\n",
    "-  Activities of Daily Living and Instrumental Activities of Daily Living: Receives Informal Care from Children or Grandchildren\n",
    "-  Activities of Daily Living and Instrumental Activities of Daily Living: Receives Informal Care from Relatives\n",
    "-  Activities of Daily Living and Instrumental Activities of Daily Living: Receives Informal Care from Other Individuals\n",
    "-  Activities of Daily Living and Instrumental Activities of Daily Living: Whether Receives Any Formal Care\n",
    "-  Activities of Daily Living and Instrumental Activities of Daily Living: Receives Formal Care from Paid Professional\n",
    "-  Receives Help with Chores from Children or Grandchildren\n",
    "-  Provides Informal Care to Children or Grandchildren\n",
    "-  Provides Personal Care to Parents\n",
    "-  Provides Informal Care for Sick or Disabled Adults\n",
    "</span>"
   ]
  },
  {
   "cell_type": "markdown",
   "metadata": {},
   "source": [
    "After a subjective discussion with the working group, it was determined that for the `Hospitalization Prediction for Elderly Population` project, we would not need the subsections highlighted in bold. Please refer to the [Feature Screening Document](https://docs.google.com/spreadsheets/d/1TuoJQKG6A5o5RMeKnKRhnNkAR5euQJ8z/edit?usp=sharing&ouid=108194837271105476000&rtpof=true&sd=true) for more information on this decision."
   ]
  },
  {
   "cell_type": "code",
   "execution_count": 19,
   "metadata": {},
   "outputs": [],
   "source": [
    "elimin_L = {\n",
    "    # 'ADL Help',  # ADL Help\n",
    "    # 'IADL Help',  # IADL Help\n",
    "    # 'Personal Aids',  # Whether Uses Personal Aids\n",
    "    # 'Future ADL Help',  # Future ADL Help\n",
    "    # 'ADL Any Care',  # Activities of Daily Living: Whether Receives Any Care\n",
    "    # 'ADL Informal Care',  # Activities of Daily Living: Whether Receives Any Informal Care\n",
    "    # 'ADL Informal Care Spouse',  # Activities of Daily Living: Receives Informal Care from Spouse\n",
    "    # 'ADL Care Children or Grandchildren',  # Activities of Daily Living: Receives Informal Care from Children or Grandchildren\n",
    "    # 'ADL Care Relatives',  # Activities of Daily Living: Receives Informal Care from Relatives\n",
    "    # 'ADL Care Other Individuals',  # Activities of Daily Living: Receives Informal Care from Other Individuals\n",
    "    # 'ADL Formal Care',  # Activities of Daily Living: Whether Receives Any Formal Care\n",
    "    # 'ADL Care Paid Professional',  # Activities of Daily Living: Receives Formal Care from Paid Professional\n",
    "    # 'IADL Any Care',  # Instrumental Activities of Daily Living: Whether Receives Any Care\n",
    "    # 'IADL Informal Care',  # Instrumental Activities of Daily Living: Whether Receives Any Informal Care\n",
    "    # 'IADL Informal Care Spouse',  # Instrumental Activities of Daily Living: Receives Informal Care from Spouse\n",
    "    # 'IADL Care Children or Grandchildren',  # Instrumental Activities of Daily Living: Receives Informal Care from Children or Grandchildren\n",
    "    # 'IADL Care Relatives',  # Instrumental Activities of Daily Living: Receives Informal Care from Relatives\n",
    "    # 'IADL Care Other Individuals',  # Instrumental Activities of Daily Living: Receives Informal Care from Other Individuals\n",
    "    # 'IADL Formal Care',  # Instrumental Activities of Daily Living: Whether Receives Any Formal Care\n",
    "    # 'IADL Care Paid Professional',  # Instrumental Activities of Daily Living: Receives Formal Care from Paid Professional\n",
    "    # 'ADL & IADL Any Care',  # Activities of Daily Living and Instrumental Activities of Daily Living: Whether Receives Any Care\n",
    "    # 'ADL & IADL Informal Care',  # Activities of Daily Living and Instrumental Activities of Daily Living: Whether Receives Any Informal Care\n",
    "    # 'ADL & IADL Care Spouse',  # Activities of Daily Living and Instrumental Activities of Daily Living: Receives Informal Care from Spouse\n",
    "    # 'ADL & IADL Care Children or Grandchildren',  # Activities of Daily Living and Instrumental Activities of Daily Living: Receives Informal Care from Children or Grandchildren\n",
    "    # 'ADL & IADL Care Relatives',  # Activities of Daily Living and Instrumental Activities of Daily Living: Receives Informal Care from Relatives\n",
    "    # 'ADL & IADL Care Other Individuals',  # Activities of Daily Living and Instrumental Activities of Daily Living: Receives Informal Care from Other Individuals\n",
    "    # 'ADL & IADL Formal Care',  # Activities of Daily Living and Instrumental Activities of Daily Living: Whether Receives Any Formal Care\n",
    "    # 'ADL & IADL Care Paid Professional',  # Activities of Daily Living and Instrumental Activities of Daily Living: Receives Formal Care from Paid Professional\n",
    "    # 'Help Children or Grandchildren',  # Receives Help with Chores from Children or Grandchildren\n",
    "    # 'Provides Care to Children or Grandchildren',  # Provides Informal Care to Children or Grandchildren\n",
    "    # 'Provides Care to Parents',  # Provides Personal Care to Parents\n",
    "    # 'Provides Care for Sick or Disabled Adults',  # Provides Informal Care for Sick or Disabled Adults\n",
    "}"
   ]
  },
  {
   "cell_type": "markdown",
   "metadata": {},
   "source": [
    "<span style=\"font-size:0.8em;\">\n",
    "\n",
    "<h3><center> FEATURE PRESELECTION Section M - STRESS </center></h3>\n",
    "\n",
    "This section consists of 4 subsections (77 features) which are shown below:\n",
    "  \n",
    "-  Social Support: Spouse\n",
    "-  Social Support: Children\n",
    "-  Social Support: Friends\n",
    "-  Experienced Death of a Child\n",
    "</span>"
   ]
  },
  {
   "cell_type": "markdown",
   "metadata": {},
   "source": [
    "After a subjective discussion with the working group, it was determined that for the `Hospitalization Prediction for Elderly Population` project, we would not need the subsections highlighted in bold. Please refer to the [Feature Screening Document](https://docs.google.com/spreadsheets/d/1TuoJQKG6A5o5RMeKnKRhnNkAR5euQJ8z/edit?usp=sharing&ouid=108194837271105476000&rtpof=true&sd=true) for more information on this decision."
   ]
  },
  {
   "cell_type": "code",
   "execution_count": 20,
   "metadata": {},
   "outputs": [],
   "source": [
    "elimin_M = {\n",
    "    # 'Support Spouse',  # Social Support: Spouse\n",
    "    # 'Support Children',  # Social Support: Children\n",
    "    # 'Support: Friends',  # Social Support: Friends\n",
    "    # 'Experienced Death of a Child',  # Experienced Death of a Child\n",
    "}"
   ]
  },
  {
   "cell_type": "markdown",
   "metadata": {},
   "source": [
    "<span style=\"font-size:0.8em;\">\n",
    "\n",
    "<h3><center> FEATURE PRESELECTION Section O - END OF LIFE PLANNING </center></h3>\n",
    "\n",
    "This section consists of 3 subsections (33 features) which are shown below:\n",
    "\n",
    "-  <b> ` Will: Whether Has a Will ` </b>\n",
    "-  <b> ` Will: Beneficiaries of Will ` </b>\n",
    "-  <b> ` Covered by Life Insurance ` </b>\n",
    "</span>"
   ]
  },
  {
   "cell_type": "markdown",
   "metadata": {},
   "source": [
    "After a subjective discussion with the working group, it was determined that for the `Hospitalization Prediction for Elderly Population` project, we would not need the subsections highlighted in bold. Please refer to the [Feature Screening Document](https://docs.google.com/spreadsheets/d/1TuoJQKG6A5o5RMeKnKRhnNkAR5euQJ8z/edit?usp=sharing&ouid=108194837271105476000&rtpof=true&sd=true) for more information on this decision."
   ]
  },
  {
   "cell_type": "code",
   "execution_count": 21,
   "metadata": {},
   "outputs": [],
   "source": [
    "elimin_O = {\n",
    "    'Has a Will',  # Will: Whether Has a Will\n",
    "    'Beneficiaries Will',  # Will: Beneficiaries of Will\n",
    "    'Covered Life Insurance',  # Covered by Life Insurance\n",
    "}"
   ]
  },
  {
   "cell_type": "markdown",
   "metadata": {},
   "source": [
    "<span style=\"font-size:0.8em;\">\n",
    "\n",
    "<h3><center> FEATURE PRESELECTION Section Q - PSYCHOSOCIAL </center></h3>\n",
    "\n",
    "This section consists of 8 subsections (166 features) which are shown below:\n",
    "\n",
    "-  Depressive Symptoms: CESD\n",
    "-  Satisfaction with Life Scale\n",
    "-  Single Life Satisfaction Question\n",
    "-  <b> ` Cantril Ladder ` </b> \n",
    "</span>"
   ]
  },
  {
   "cell_type": "markdown",
   "metadata": {},
   "source": [
    "After a subjective discussion with the working group, it was determined that for the `Hospitalization Prediction for Elderly Population` project, we would not need the subsections highlighted in bold. Please refer to the [Feature Screening Document](https://docs.google.com/spreadsheets/d/1TuoJQKG6A5o5RMeKnKRhnNkAR5euQJ8z/edit?usp=sharing&ouid=108194837271105476000&rtpof=true&sd=true) for more information on this decision."
   ]
  },
  {
   "cell_type": "code",
   "execution_count": 22,
   "metadata": {},
   "outputs": [],
   "source": [
    "elimin_Q = {\n",
    "    # 'Depressive Symptoms',  # Depressive Symptoms: CESD\n",
    "    # 'Satisfaction Life',  # Satisfaction with Life Scale\n",
    "    # 'Single Life Satisfaction',  # Single Life Satisfaction Question\n",
    "    'Cantril Ladder',  # Cantril Ladder\n",
    "}"
   ]
  },
  {
   "cell_type": "markdown",
   "metadata": {},
   "source": [
    "### Loading of relevant features\n",
    "Now that we know which characteristics are the most important for our project, we generate a data frame only with the columns of interest; in the same way, we will unify all the waves of different data in one, considering that they are various interviews. Therefore, they can be handled as other subjects."
   ]
  },
  {
   "cell_type": "code",
   "execution_count": 23,
   "metadata": {},
   "outputs": [
    {
     "name": "stdout",
     "output_type": "stream",
     "text": [
      "In our new dataset we have 134195 people\n",
      "In our new dataset we have 875 features\n"
     ]
    }
   ],
   "source": [
    "elimins = [elimin_A, elimin_B, elimin_C, elimin_D, elimin_E, elimin_F, elimin_G, elimin_H, elimin_I, elimin_J, elimin_K, elimin_L, elimin_M, elimin_O, elimin_Q]\n",
    "\n",
    "app_train = data_utils.outline_dataframe(h_mhas_c2,elimins)\n",
    "print('In our new dataset we have',app_train.shape[0],'people')\n",
    "print('In our new dataset we have',app_train.shape[1],'features')\n"
   ]
  },
  {
   "cell_type": "markdown",
   "metadata": {},
   "source": [
    "Now, we can check the number of features that belong to each family member (spouse, reference, or household)."
   ]
  },
  {
   "cell_type": "code",
   "execution_count": 24,
   "metadata": {},
   "outputs": [
    {
     "name": "stdout",
     "output_type": "stream",
     "text": [
      "Number of columns starting with 's' from spouse: 421\n",
      "Number of columns starting with 'r' from reference: 421\n",
      "Number of columns starting with 'h' from household: 33\n"
     ]
    }
   ],
   "source": [
    "starts_with_s = sum(col.startswith('s') for col in app_train.columns)\n",
    "starts_with_r = sum(col.startswith('r') for col in app_train.columns)\n",
    "starts_with_h = sum(col.startswith('h') for col in app_train.columns)\n",
    "\n",
    "print(f\"Number of columns starting with 's' from spouse: {starts_with_s}\")\n",
    "print(f\"Number of columns starting with 'r' from reference: {starts_with_r}\")\n",
    "print(f\"Number of columns starting with 'h' from household: {starts_with_h}\")"
   ]
  },
  {
   "cell_type": "markdown",
   "metadata": {},
   "source": [
    "Since the spouse features are equal to reference features, we can separate these two persons, enabling us to have more subjects for our data frame."
   ]
  },
  {
   "cell_type": "code",
   "execution_count": 25,
   "metadata": {},
   "outputs": [
    {
     "data": {
      "text/plain": [
       "(124363, 454)"
      ]
     },
     "execution_count": 25,
     "metadata": {},
     "output_type": "execute_result"
    }
   ],
   "source": [
    "app_train = data_utils.unify_spousandref(app_train)\n",
    "app_train.shape"
   ]
  },
  {
   "cell_type": "markdown",
   "metadata": {},
   "source": [
    "Finally, we save the dataset in a .csv file to have it available and not have to perform this procedure every time we open the notebook."
   ]
  },
  {
   "cell_type": "code",
   "execution_count": 26,
   "metadata": {},
   "outputs": [],
   "source": [
    "app_train.to_csv(config.DATASET_TRAIN, index=False)"
   ]
  },
  {
   "cell_type": "markdown",
   "metadata": {},
   "source": [
    "## 2. Exploratory Data Analysis EDA\n",
    "In this stage, we will perform the exploratory data analysis (EDA) on our data frame. For this, we will include some of the essential techniques that will allow us not only to understand the structure of the data and summarize its main characteristics but also to give us a better understanding of the training model we will apply in the preprocessing."
   ]
  },
  {
   "cell_type": "markdown",
   "metadata": {},
   "source": [
    "### <b> WARNING: </b>\n",
    "The following code has been created to avoid having to perform part 1 of this notebook. Therefore, you are suggested to load only the libraries before running it to load the debugged data frame."
   ]
  },
  {
   "cell_type": "code",
   "execution_count": 92,
   "metadata": {},
   "outputs": [],
   "source": [
    "# Run the following code only if you want to start from here.\n",
    "app_train = data_utils.get_datatrain()"
   ]
  },
  {
   "cell_type": "markdown",
   "metadata": {},
   "source": [
    "### TARGET VARIABLE:\n",
    "\n",
    "As the first part of the EDA, we will analyze the target variable."
   ]
  },
  {
   "cell_type": "code",
   "execution_count": 93,
   "metadata": {},
   "outputs": [
    {
     "name": "stdout",
     "output_type": "stream",
     "text": [
      "Target Variable Distribution:\n",
      "0.0    109722\n",
      "1.0     14641\n",
      "Name: TARGET, dtype: int64\n",
      "\n",
      "Percentage of Each Value:\n",
      "0.0    88.2\n",
      "1.0    11.8\n",
      "Name: TARGET, dtype: float64\n"
     ]
    },
    {
     "data": {
      "image/png": "[encoded data removed]",
      "text/plain": [
       "<Figure size 800x600 with 1 Axes>"
      ]
     },
     "metadata": {},
     "output_type": "display_data"
    }
   ],
   "source": [
    "target_distribution = app_train.TARGET.value_counts()\n",
    "\n",
    "# Print total value count and percentage of each value\n",
    "print(\"Target Variable Distribution:\")\n",
    "print(target_distribution)\n",
    "print(\"\\nPercentage of Each Value:\")\n",
    "print(round(target_distribution/app_train.shape[0] * 100,1))\n",
    "\n",
    "# Plot the distribution\n",
    "plt.figure(figsize=(8, 6))\n",
    "(target_distribution/app_train.shape[0] * 100).plot(kind='bar', color='skyblue')\n",
    "plt.title('Distribution of Target Variable')\n",
    "plt.xlabel('Target Values')\n",
    "plt.ylabel('Percentage')\n",
    "plt.show()"
   ]
  },
  {
   "cell_type": "markdown",
   "metadata": {},
   "source": [
    "As expected, the target variable is quite unbalanced."
   ]
  },
  {
   "cell_type": "markdown",
   "metadata": {},
   "source": [
    "## Date Values\n",
    "necesitamos convertir los varores de fecha a formato datetime.\n"
   ]
  },
  {
   "cell_type": "code",
   "execution_count": 94,
   "metadata": {},
   "outputs": [],
   "source": [
    "# Convert 'rabyear' and 'rabmonth' to float first, round them, then convert to int, and ultimately to string\n",
    "app_train['rabyear'] = app_train['rabyear'].astype(float).round(0).fillna(0).astype(int).astype(str)\n",
    "app_train['rabmonth'] = app_train['rabmonth'].astype(float).round(0).fillna(0).astype(int).astype(str)\n",
    "\n",
    "# If 'rabmonth' is a single digit, pad with a 0 in front. This ensures the proper format.\n",
    "app_train['rabmonth'] = app_train['rabmonth'].str.pad(width=2, fillchar='0')\n",
    "\n",
    "# Combine 'rabyear' and 'rabmonth' to form 'birth_date' \n",
    "app_train['birth_date'] = pd.to_datetime(app_train['rabyear'] + app_train['rabmonth'], format='%Y%m', errors='coerce')\n",
    "\n",
    "# Remove 'rabyear' and 'rabmonth' columns\n",
    "app_train.drop(columns=['rabyear', 'rabmonth'], inplace=True)"
   ]
  },
  {
   "cell_type": "markdown",
   "metadata": {},
   "source": []
  },
  {
   "cell_type": "code",
   "execution_count": 95,
   "metadata": {},
   "outputs": [
    {
     "data": {
      "image/png": "[encoded data removed]",
      "text/plain": [
       "<Figure size 1200x600 with 1 Axes>"
      ]
     },
     "metadata": {},
     "output_type": "display_data"
    }
   ],
   "source": [
    "# Ensure the DataFrame is sorted by date\n",
    "df = app_train.sort_values(\"birth_date\")\n",
    "\n",
    "# Extract just the year from birth_date, we use dt.year to access the year component of the date\n",
    "df['birth_year'] = df['birth_date'].dt.year\n",
    "\n",
    "# Plot a histogram using the new 'birth_year' column\n",
    "plt.figure(figsize=(12,6))\n",
    "df['birth_year'].hist(rwidth=0.9, bins=30)\n",
    "plt.title('Birth Year Frequency')\n",
    "plt.xlabel('Year')\n",
    "plt.ylabel('Frequency')\n",
    "plt.show()"
   ]
  },
  {
   "cell_type": "markdown",
   "metadata": {},
   "source": []
  },
  {
   "cell_type": "code",
   "execution_count": 96,
   "metadata": {},
   "outputs": [],
   "source": [
    "# Convert 'rabyear' and 'rabmonth' to float first, round them, then convert to int, and ultimately to string\n",
    "app_train['rXiwy'] = app_train['rXiwy'].astype(float).round(0).fillna(0).astype(int).astype(str)\n",
    "app_train['rXiwm'] = app_train['rXiwm'].astype(float).round(0).fillna(0).astype(int).astype(str)\n",
    "\n",
    "# If 'rabmonth' is a single digit, pad with a 0 in front. This ensures the proper format.\n",
    "app_train['rXiwm'] = app_train['rXiwm'].str.pad(width=2, fillchar='0')\n",
    "\n",
    "# Combine 'rabyear' and 'rabmonth' to form 'birth_date' \n",
    "app_train['interview_date'] = pd.to_datetime(app_train['rXiwy'] + app_train['rXiwm'], format='%Y%m', errors='coerce')\n",
    "\n",
    "# Remove 'rabyear' and 'rabmonth' columns\n",
    "app_train.drop(columns=['rXiwy', 'rXiwm'], inplace=True)"
   ]
  },
  {
   "cell_type": "markdown",
   "metadata": {},
   "source": []
  },
  {
   "cell_type": "code",
   "execution_count": 97,
   "metadata": {},
   "outputs": [
    {
     "data": {
      "image/png": "[encoded data removed]",
      "text/plain": [
       "<Figure size 1200x600 with 1 Axes>"
      ]
     },
     "metadata": {},
     "output_type": "display_data"
    }
   ],
   "source": [
    "# Ensure the DataFrame is sorted by date\n",
    "df = app_train.sort_values(\"interview_date\")\n",
    "\n",
    "# Extract just the year from birth_date, we use dt.year to access the year component of the date\n",
    "df['interview_year'] = df['interview_date'].dt.year\n",
    "\n",
    "# Plot a histogram using the new 'birth_year' column\n",
    "plt.figure(figsize=(12,6))\n",
    "df['interview_year'].hist(rwidth=0.9, bins=30)\n",
    "plt.title('interview Year Frequency')\n",
    "plt.xlabel('Year')\n",
    "plt.ylabel('Frequency')\n",
    "plt.show()"
   ]
  },
  {
   "cell_type": "markdown",
   "metadata": {},
   "source": []
  },
  {
   "cell_type": "code",
   "execution_count": 98,
   "metadata": {},
   "outputs": [],
   "source": [
    "app_train[\"interview_date\"] = app_train[\"interview_date\"].values.astype(float)\n",
    "app_train[\"birth_date\"] = app_train[\"birth_date\"].values.astype(float)\n",
    "\n",
    "# Columns whose values are intended to estimate missing or imputed values are eliminated.\n",
    "cols_to_drop = ['hXiftot', 'rXgenderf', 'rXiwf', 'rXmpart', 'rXcagem', 'rXfineam', 'rXfbwc20_m', 'rXfddraw2', 'rXfddraw1', 'rXfdlrc8', 'rXfser7', 'hXaftotb', 'hXcftot1m', 'hXfcflag', 'hXtcflag', 'rXtpflag', 'hXhhres', 'rXiwstat', 'rXlgmusa', 'rXlgmusam', 'rXgrossa', 'rXgrossam', 'rXfinea', 'rXuppermob', 'rXlowermob', 'rXfimrc8', 'rXfidraw2', 'rXfidraw1', 'rXrscaredpmm', 'rXrscarehrm', 'rXssupport4m_m', 'rXfsupport4m_m', 'rXksupport4m_m', 'rXcesdm_m', 'rXlsatsc3m', 'rXfvscan', 'rXftr16', 'rXfverbf']\n",
    "app_train = app_train.drop(cols_to_drop, axis=1)"
   ]
  },
  {
   "cell_type": "markdown",
   "metadata": {},
   "source": [
    "### Dealing With Null Values\n",
    "A critical approach we can adopt at this stage is the search for null values. However, we indeed have many characteristics to analyze, and several of them could contain a high percentage of null data, which is counterproductive for the analysis and subsequent training of our model."
   ]
  },
  {
   "cell_type": "code",
   "execution_count": 99,
   "metadata": {},
   "outputs": [
    {
     "name": "stdout",
     "output_type": "stream",
     "text": [
      "Top 20 columns with higher missing percentage:\n",
      "              Total  Missing Percentage\n",
      "rXwghtref    123683                99.5\n",
      "rXhghtref    123618                99.4\n",
      "rXhiptryu    123609                99.4\n",
      "rXwstref     123610                99.4\n",
      "rXwghttryu   123644                99.4\n",
      "rXwghtsft    123644                99.4\n",
      "rXwsttryu    123610                99.4\n",
      "rXhghtsft    123618                99.4\n",
      "rXhghttryu   123618                99.4\n",
      "rXhipref     123609                99.4\n",
      "rXhipsft     123609                99.4\n",
      "rXwstsft     123610                99.4\n",
      "rXstroklmt   122252                98.3\n",
      "rXbaltryu    122186                98.2\n",
      "rXbalsft     122186                98.2\n",
      "rXbalref     122186                98.2\n",
      "rXmoneyhlp   121513                97.7\n",
      "rXeathlp     121006                97.3\n",
      "rXmedhlp     120970                97.3\n",
      "rXreccancr   120646                97.0\n",
      "rXhrtatlmt   120505                96.9\n",
      "rXrecstrok   120289                96.7\n",
      "rXretage     118986                95.7\n",
      "rXbathehlp   118726                95.5\n",
      "rXtoilethlp  118199                95.0\n"
     ]
    }
   ],
   "source": [
    "# Calculate the percentage of missing data for each column\n",
    "total_values = app_train.isnull().sum()\n",
    "\n",
    "missing_percentage = round((total_values / len(app_train)) * 100,1)\n",
    "\n",
    "# Create a DataFrame to store the results\n",
    "missing_data_df = pd.DataFrame({\n",
    "    'Total': total_values,\n",
    "    'Missing Percentage': missing_percentage\n",
    "})\n",
    "\n",
    "# Sort the DataFrame by missing percentage in descending order\n",
    "missing_data_df = missing_data_df.sort_values(by='Missing Percentage', ascending=False)\n",
    "\n",
    "# Display the top 20 columns with higher missing percentage\n",
    "top_missing_columns = missing_data_df.head(25)\n",
    "print(\"Top 20 columns with higher missing percentage:\")\n",
    "print(top_missing_columns)"
   ]
  },
  {
   "cell_type": "markdown",
   "metadata": {},
   "source": [
    "As we can see, some of the characteristics contain a percentage higher than `90%`, so we eliminated those columns with a rate of null values higher than `90%`."
   ]
  },
  {
   "cell_type": "code",
   "execution_count": 100,
   "metadata": {},
   "outputs": [
    {
     "name": "stdout",
     "output_type": "stream",
     "text": [
      "Are going to be eliminated 121 columns with a percentage of null values higher than 90%\n"
     ]
    },
    {
     "data": {
      "text/plain": [
       "(124363, 293)"
      ]
     },
     "execution_count": 100,
     "metadata": {},
     "output_type": "execute_result"
    }
   ],
   "source": [
    "var_high_null_percentage = missing_data_df[missing_data_df['Missing Percentage']>90].index.tolist()\n",
    "print('Are going to be eliminated ' + str(len(var_high_null_percentage)) + ' columns with a percentage of null values higher than 90%')\n",
    "\n",
    "app_train.drop(columns=var_high_null_percentage,inplace=True)\n",
    "app_train.shape"
   ]
  },
  {
   "cell_type": "markdown",
   "metadata": {},
   "source": [
    "### Correlational Analysis\n",
    "Another important analysis we can perform is to verify which variables are highly correlated to eliminate possible repeated variables that add to the processing and training lags.</br>\n",
    "As an example, we will illustrate the process of elimination of features by correlation; for this, we will take the features corresponding to section A, subsection 'Person Specific Identifier'."
   ]
  },
  {
   "cell_type": "code",
   "execution_count": 101,
   "metadata": {},
   "outputs": [
    {
     "data": {
      "image/png": "[encoded data removed]",
      "text/plain": [
       "<Figure size 1200x900 with 2 Axes>"
      ]
     },
     "metadata": {},
     "output_type": "display_data"
    }
   ],
   "source": [
    "# Person Specific Identifier\n",
    "# Self-Report of Health\n",
    "Health2 =['rXdress', 'rXwalkr', 'rXbed', 'rXwalkra', 'rXdressa', 'rXbeda']\n",
    "\n",
    "# Assume df is your DataFrame\n",
    "correlation_matrix = app_train[Health2].corr(numeric_only=True)\n",
    "\n",
    "plt.figure(figsize=(12, 9))\n",
    "sns.heatmap(correlation_matrix, annot=True, cmap='coolwarm')\n",
    "plt.show()"
   ]
  },
  {
   "cell_type": "markdown",
   "metadata": {},
   "source": [
    "As we can see, some features have a high correlation, so our next step is to identify these variables and then eliminate them."
   ]
  },
  {
   "cell_type": "code",
   "execution_count": 102,
   "metadata": {},
   "outputs": [
    {
     "name": "stdout",
     "output_type": "stream",
     "text": [
      "['rXdressa', 'rXbeda']\n"
     ]
    }
   ],
   "source": [
    "# Set correlation threshold\n",
    "corr_threshold = 0.9\n",
    "\n",
    "# Drop the features _unified\n",
    "corr = app_train[Health2].corr(numeric_only=True).abs()\n",
    "upper_tri = corr.where(np.triu(np.ones(corr.shape), k=1).astype(np.bool_)) \n",
    "to_drop = [col for col in upper_tri.columns if any(upper_tri[col] > corr_threshold)]\n",
    "print(to_drop)"
   ]
  },
  {
   "cell_type": "markdown",
   "metadata": {},
   "source": [
    "Since many features are distributed in 15 sections, we have developed an `elim_bycorr()` function to automate the process."
   ]
  },
  {
   "cell_type": "code",
   "execution_count": 103,
   "metadata": {},
   "outputs": [
    {
     "name": "stdout",
     "output_type": "stream",
     "text": [
      "We have eliminated 53 highly correlated variables.\n"
     ]
    },
    {
     "data": {
      "text/plain": [
       "(124363, 240)"
      ]
     },
     "execution_count": 103,
     "metadata": {},
     "output_type": "execute_result"
    }
   ],
   "source": [
    "#\n",
    "app_train_dropped = data_eda.elim_bycorr(app_train,0.9)\n",
    "dropped_var_correlation = app_train.shape[1] - app_train_dropped.shape[1]\n",
    "print('We have eliminated ' + str(dropped_var_correlation) + ' highly correlated variables.')\n",
    "app_train_dropped.shape"
   ]
  },
  {
   "cell_type": "markdown",
   "metadata": {},
   "source": [
    "Finally, we verify that we do not have features that are highly correlated with the target variable."
   ]
  },
  {
   "cell_type": "code",
   "execution_count": 104,
   "metadata": {},
   "outputs": [
    {
     "data": {
      "text/plain": [
       "(124363, 240)"
      ]
     },
     "execution_count": 104,
     "metadata": {},
     "output_type": "execute_result"
    }
   ],
   "source": [
    "df = data_eda.remove_highly_correlated(app_train_dropped, 'TARGET', 0.9)\n",
    "df.shape"
   ]
  },
  {
   "cell_type": "code",
   "execution_count": 105,
   "metadata": {},
   "outputs": [
    {
     "data": {
      "text/plain": [
       "['hXatotb',\n",
       " 'hXchdeathe',\n",
       " 'hXchild',\n",
       " 'hXcoresd',\n",
       " 'hXcpl',\n",
       " 'hXctot1m',\n",
       " 'hXdau',\n",
       " 'hXdchild',\n",
       " 'hXfcamt',\n",
       " 'hXfcany',\n",
       " 'hXgapcare',\n",
       " 'hXgapcarehr',\n",
       " 'hXgccare_m',\n",
       " 'hXgccarehr_m',\n",
       " 'hXgrchild',\n",
       " 'hXitot',\n",
       " 'hXkcnt',\n",
       " 'hXlvnear',\n",
       " 'hXrcchore',\n",
       " 'hXrcchorehr',\n",
       " 'hXrcchorenf',\n",
       " 'hXrural',\n",
       " 'hXson',\n",
       " 'hXtcamt',\n",
       " 'hXtcany',\n",
       " 'rXagey',\n",
       " 'rXarms',\n",
       " 'rXarthlmt',\n",
       " 'rXarthre',\n",
       " 'rXbath',\n",
       " 'rXbatha',\n",
       " 'rXbed',\n",
       " 'rXbede',\n",
       " 'rXbinged',\n",
       " 'rXbmi',\n",
       " 'rXbreast',\n",
       " 'rXbreath_m',\n",
       " 'rXbwc20',\n",
       " 'rXcage',\n",
       " 'rXcancre',\n",
       " 'rXcesd_m',\n",
       " 'rXchair',\n",
       " 'rXcholst',\n",
       " 'rXclim1',\n",
       " 'rXclims',\n",
       " 'rXcncrchem',\n",
       " 'rXcncrmeds',\n",
       " 'rXcncrothr',\n",
       " 'rXcncrradn',\n",
       " 'rXcncrsurg',\n",
       " 'rXcovr_m',\n",
       " 'rXcovs_m',\n",
       " 'rXdadage',\n",
       " 'rXdadliv',\n",
       " 'rXddraw1',\n",
       " 'rXddraw2',\n",
       " 'rXdecsib',\n",
       " 'rXdentim1y',\n",
       " 'rXdentst1y',\n",
       " 'rXdepres',\n",
       " 'rXdiabe',\n",
       " 'rXdime',\n",
       " 'rXdlrc8',\n",
       " 'rXdoctim1y',\n",
       " 'rXdoctor1y',\n",
       " 'rXdress',\n",
       " 'rXdrink',\n",
       " 'rXdrinkb',\n",
       " 'rXdrinkbd',\n",
       " 'rXdrinkcr',\n",
       " 'rXdrinkcut',\n",
       " 'rXdrinkd',\n",
       " 'rXdrinkn',\n",
       " 'rXdrinknr',\n",
       " 'rXeat',\n",
       " 'rXeata',\n",
       " 'rXeffort',\n",
       " 'rXenerg',\n",
       " 'rXenlife',\n",
       " 'rXfall',\n",
       " 'rXfallnum',\n",
       " 'rXfatigue',\n",
       " 'rXfineaa',\n",
       " 'rXfletdow_m',\n",
       " 'rXflone',\n",
       " 'rXflusht',\n",
       " 'rXfopenup_m',\n",
       " 'rXfrely_m',\n",
       " 'rXfsad',\n",
       " 'rXfsupport4_m',\n",
       " 'rXftired',\n",
       " 'rXftrhlp',\n",
       " 'rXfustdfe_m',\n",
       " 'rXgcaresck',\n",
       " 'rXglasses',\n",
       " 'rXhearaid',\n",
       " 'rXhearing',\n",
       " 'rXhearte',\n",
       " 'rXheight',\n",
       " 'rXhenum',\n",
       " 'rXhibpe',\n",
       " 'rXhigov',\n",
       " 'rXhip',\n",
       " 'rXhip50e',\n",
       " 'rXhip_m',\n",
       " 'rXhipriv',\n",
       " 'rXhltc',\n",
       " 'TARGET',\n",
       " 'rXhrtatte',\n",
       " 'rXhspnit1y',\n",
       " 'rXidraw1',\n",
       " 'rXidraw2',\n",
       " 'rXimrc8',\n",
       " 'rXjlasty',\n",
       " 'rXjog',\n",
       " 'rXjrsleft',\n",
       " 'rXkletdow_m',\n",
       " 'rXkopenup_m',\n",
       " 'rXkrely_m',\n",
       " 'rXksupport4_m',\n",
       " 'rXkustdfe_m',\n",
       " 'rXlchnot3',\n",
       " 'rXlexcl3',\n",
       " 'rXlgmusaa',\n",
       " 'rXlideal3',\n",
       " 'rXlift',\n",
       " 'rXlimptt3',\n",
       " 'rXlivpar',\n",
       " 'rXlivsib',\n",
       " 'rXlowermoba',\n",
       " 'rXlsatsc3',\n",
       " 'rXlstsf3',\n",
       " 'rXmammog',\n",
       " 'rXmeals',\n",
       " 'rXmeds',\n",
       " 'rXmobila',\n",
       " 'rXmobilsev',\n",
       " 'rXmomage',\n",
       " 'rXmomliv',\n",
       " 'rXmoney',\n",
       " 'rXmrct',\n",
       " 'rXmstat',\n",
       " 'rXnopencil',\n",
       " 'rXnovisual',\n",
       " 'rXoutpt1y',\n",
       " 'rXpaina',\n",
       " 'rXpainfr',\n",
       " 'rXpainlv',\n",
       " 'rXpapsm',\n",
       " 'rXprost',\n",
       " 'rXpstmem',\n",
       " 'rXpush',\n",
       " 'rXquitsmok',\n",
       " 'rXracaany',\n",
       " 'rXracany',\n",
       " 'rXrafaany',\n",
       " 'rXrcaany',\n",
       " 'rXrccare',\n",
       " 'rXrccaredpm',\n",
       " 'rXrccaredpmm',\n",
       " 'rXrccarehr',\n",
       " 'rXrccarehrm',\n",
       " 'rXrccaren',\n",
       " 'rXrelgimp',\n",
       " 'rXrelgwk',\n",
       " 'rXrespe',\n",
       " 'rXrfaany',\n",
       " 'rXrfcare',\n",
       " 'rXrfcaredpm',\n",
       " 'rXrfcaredpmm',\n",
       " 'rXrfcarehr',\n",
       " 'rXrfcarehrm',\n",
       " 'rXrfcnt',\n",
       " 'rXrpfcaredpm',\n",
       " 'rXrpfcaredpmm',\n",
       " 'rXrpfcarehr',\n",
       " 'rXrpfcarehrm',\n",
       " 'rXrrcare',\n",
       " 'rXrrcaredpm',\n",
       " 'rXrrcaredpmm',\n",
       " 'rXrrcarehr',\n",
       " 'rXrrcarehrm',\n",
       " 'rXrscare',\n",
       " 'rXrscaredpm',\n",
       " 'rXrscarehr',\n",
       " 'rXrxarthr',\n",
       " 'rXrxdiab',\n",
       " 'rXrxdiabi',\n",
       " 'rXrxhibp',\n",
       " 'rXrxhrtat',\n",
       " 'rXrxresp',\n",
       " 'rXrxstrok',\n",
       " 'rXser7',\n",
       " 'rXshlt',\n",
       " 'rXshop',\n",
       " 'rXsight',\n",
       " 'rXsit',\n",
       " 'rXsleepr',\n",
       " 'rXsletdow_m',\n",
       " 'rXslfmem',\n",
       " 'rXsmokef',\n",
       " 'rXsmoken',\n",
       " 'rXsmokev',\n",
       " 'rXsocact_m',\n",
       " 'rXsopenup_m',\n",
       " 'rXsrely_m',\n",
       " 'rXssupport4_m',\n",
       " 'rXstoop',\n",
       " 'rXstroke',\n",
       " 'rXstrtsmok',\n",
       " 'rXsustdfe_m',\n",
       " 'rXswell',\n",
       " 'rXtoilt',\n",
       " 'rXtoilta',\n",
       " 'rXtpamt',\n",
       " 'rXtpany',\n",
       " 'rXunemp',\n",
       " 'rXuppermoba',\n",
       " 'rXurina2y',\n",
       " 'rXurincgh2y',\n",
       " 'rXurinurg2y',\n",
       " 'rXverbf',\n",
       " 'rXvigact',\n",
       " 'rXvscan',\n",
       " 'rXwalk1',\n",
       " 'rXwalkr',\n",
       " 'rXwalkra',\n",
       " 'rXwalkre',\n",
       " 'rXwalks',\n",
       " 'rXweight',\n",
       " 'rXwhappy',\n",
       " 'rXwheeze',\n",
       " 'raedisced',\n",
       " 'raevbrn',\n",
       " 'rafeduc_m',\n",
       " 'ragender',\n",
       " 'raindlang',\n",
       " 'rameduc_m',\n",
       " 'birth_date',\n",
       " 'interview_date']"
      ]
     },
     "execution_count": 105,
     "metadata": {},
     "output_type": "execute_result"
    }
   ],
   "source": [
    "app_train_dropped.columns.tolist()\n",
    "Important_Columns = [item[2:] for item in app_train_dropped.columns.tolist()]\n",
    "Important_Columns\n",
    "app_train_dropped.columns.tolist()"
   ]
  },
  {
   "cell_type": "markdown",
   "metadata": {},
   "source": [
    "## 3. Preprocessing\n"
   ]
  },
  {
   "cell_type": "markdown",
   "metadata": {},
   "source": []
  },
  {
   "cell_type": "code",
   "execution_count": null,
   "metadata": {},
   "outputs": [],
   "source": [
    "df = preprocessing.preprocess_dataframe(df)"
   ]
  },
  {
   "cell_type": "code",
   "execution_count": 109,
   "metadata": {},
   "outputs": [],
   "source": [
    "working_train_df = df.drop(columns=\"TARGET\", axis=1)\n",
    "y_train = df[\"TARGET\"]"
   ]
  },
  {
   "cell_type": "code",
   "execution_count": 58,
   "metadata": {},
   "outputs": [
    {
     "data": {
      "text/plain": [
       "<module 'src.data_eda' from 'c:\\\\Users\\\\Carlos\\\\Documents\\\\Projects\\\\Final_project\\\\hospitalization-prediction-for-elderly-population\\\\src\\\\data_eda.py'>"
      ]
     },
     "execution_count": 58,
     "metadata": {},
     "output_type": "execute_result"
    }
   ],
   "source": [
    "import importlib\n",
    "importlib.reload(data_eda)\n"
   ]
  },
  {
   "cell_type": "markdown",
   "metadata": {},
   "source": [
    "### Feature Engineering (LGBM Classifier)"
   ]
  },
  {
   "cell_type": "code",
   "execution_count": 110,
   "metadata": {},
   "outputs": [
    {
     "name": "stderr",
     "output_type": "stream",
     "text": [
      "c:\\Users\\Carlos\\Documents\\Projects\\Final_project\\hospitalization-prediction-for-elderly-population\\testenv\\lib\\site-packages\\joblib\\externals\\loky\\backend\\context.py:136: UserWarning: Could not find the number of physical cores for the following reason:\n",
      "found 0 physical cores < 1\n",
      "Returning the number of logical cores instead. You can silence this warning by setting LOKY_MAX_CPU_COUNT to the number of cores you want to use.\n",
      "  warnings.warn(\n",
      "  File \"c:\\Users\\Carlos\\Documents\\Projects\\Final_project\\hospitalization-prediction-for-elderly-population\\testenv\\lib\\site-packages\\joblib\\externals\\loky\\backend\\context.py\", line 282, in _count_physical_cores\n",
      "    raise ValueError(f\"found {cpu_count_physical} physical cores < 1\")\n"
     ]
    },
    {
     "name": "stdout",
     "output_type": "stream",
     "text": [
      "[LightGBM] [Info] Number of positive: 14641, number of negative: 109722\n",
      "[LightGBM] [Info] Auto-choosing row-wise multi-threading, the overhead of testing was 0.069442 seconds.\n",
      "You can set `force_row_wise=true` to remove the overhead.\n",
      "And if memory is not enough, you can set `force_col_wise=true`.\n",
      "[LightGBM] [Info] Total Bins 5070\n",
      "[LightGBM] [Info] Number of data points in the train set: 124363, number of used features: 239\n",
      "[LightGBM] [Info] [binary:BoostFromScore]: pavg=0.117728 -> initscore=-2.014124\n",
      "[LightGBM] [Info] Start training from score -2.014124\n",
      "[LightGBM] [Warning] No further splits with positive gain, best gain: -inf\n",
      "[LightGBM] [Warning] No further splits with positive gain, best gain: -inf\n",
      "[LightGBM] [Warning] No further splits with positive gain, best gain: -inf\n",
      "[LightGBM] [Warning] No further splits with positive gain, best gain: -inf\n",
      "[LightGBM] [Warning] No further splits with positive gain, best gain: -inf\n",
      "[LightGBM] [Warning] No further splits with positive gain, best gain: -inf\n",
      "[LightGBM] [Warning] No further splits with positive gain, best gain: -inf\n",
      "[LightGBM] [Warning] No further splits with positive gain, best gain: -inf\n",
      "[LightGBM] [Warning] No further splits with positive gain, best gain: -inf\n",
      "[LightGBM] [Warning] No further splits with positive gain, best gain: -inf\n",
      "[LightGBM] [Warning] No further splits with positive gain, best gain: -inf\n",
      "[LightGBM] [Warning] No further splits with positive gain, best gain: -inf\n",
      "[LightGBM] [Warning] No further splits with positive gain, best gain: -inf\n",
      "[LightGBM] [Warning] No further splits with positive gain, best gain: -inf\n",
      "[LightGBM] [Warning] No further splits with positive gain, best gain: -inf\n",
      "[LightGBM] [Warning] No further splits with positive gain, best gain: -inf\n",
      "[LightGBM] [Warning] No further splits with positive gain, best gain: -inf\n",
      "[LightGBM] [Warning] No further splits with positive gain, best gain: -inf\n",
      "[LightGBM] [Warning] No further splits with positive gain, best gain: -inf\n",
      "[LightGBM] [Warning] No further splits with positive gain, best gain: -inf\n",
      "[LightGBM] [Warning] No further splits with positive gain, best gain: -inf\n",
      "[LightGBM] [Warning] No further splits with positive gain, best gain: -inf\n",
      "[LightGBM] [Warning] No further splits with positive gain, best gain: -inf\n",
      "[LightGBM] [Warning] No further splits with positive gain, best gain: -inf\n",
      "[LightGBM] [Warning] No further splits with positive gain, best gain: -inf\n",
      "[LightGBM] [Warning] No further splits with positive gain, best gain: -inf\n",
      "[LightGBM] [Warning] No further splits with positive gain, best gain: -inf\n",
      "[LightGBM] [Warning] No further splits with positive gain, best gain: -inf\n",
      "[LightGBM] [Warning] No further splits with positive gain, best gain: -inf\n",
      "[LightGBM] [Warning] No further splits with positive gain, best gain: -inf\n",
      "[LightGBM] [Warning] No further splits with positive gain, best gain: -inf\n",
      "[LightGBM] [Warning] No further splits with positive gain, best gain: -inf\n",
      "[LightGBM] [Warning] No further splits with positive gain, best gain: -inf\n",
      "[LightGBM] [Warning] No further splits with positive gain, best gain: -inf\n",
      "[LightGBM] [Warning] No further splits with positive gain, best gain: -inf\n",
      "[LightGBM] [Warning] No further splits with positive gain, best gain: -inf\n",
      "[LightGBM] [Warning] No further splits with positive gain, best gain: -inf\n",
      "[LightGBM] [Warning] No further splits with positive gain, best gain: -inf\n",
      "[LightGBM] [Warning] No further splits with positive gain, best gain: -inf\n",
      "[LightGBM] [Warning] No further splits with positive gain, best gain: -inf\n",
      "[LightGBM] [Warning] No further splits with positive gain, best gain: -inf\n",
      "[LightGBM] [Warning] No further splits with positive gain, best gain: -inf\n",
      "[LightGBM] [Warning] No further splits with positive gain, best gain: -inf\n",
      "[LightGBM] [Warning] No further splits with positive gain, best gain: -inf\n",
      "[LightGBM] [Warning] No further splits with positive gain, best gain: -inf\n",
      "[LightGBM] [Warning] No further splits with positive gain, best gain: -inf\n",
      "[LightGBM] [Warning] No further splits with positive gain, best gain: -inf\n",
      "[LightGBM] [Warning] No further splits with positive gain, best gain: -inf\n",
      "[LightGBM] [Warning] No further splits with positive gain, best gain: -inf\n",
      "[LightGBM] [Warning] No further splits with positive gain, best gain: -inf\n",
      "[LightGBM] [Warning] No further splits with positive gain, best gain: -inf\n",
      "[LightGBM] [Warning] No further splits with positive gain, best gain: -inf\n",
      "[LightGBM] [Warning] No further splits with positive gain, best gain: -inf\n",
      "[LightGBM] [Warning] No further splits with positive gain, best gain: -inf\n",
      "[LightGBM] [Warning] No further splits with positive gain, best gain: -inf\n",
      "[LightGBM] [Warning] No further splits with positive gain, best gain: -inf\n",
      "[LightGBM] [Warning] No further splits with positive gain, best gain: -inf\n",
      "[LightGBM] [Warning] No further splits with positive gain, best gain: -inf\n",
      "[LightGBM] [Warning] No further splits with positive gain, best gain: -inf\n",
      "[LightGBM] [Warning] No further splits with positive gain, best gain: -inf\n",
      "[LightGBM] [Warning] No further splits with positive gain, best gain: -inf\n",
      "[LightGBM] [Warning] No further splits with positive gain, best gain: -inf\n",
      "[LightGBM] [Warning] No further splits with positive gain, best gain: -inf\n",
      "[LightGBM] [Warning] No further splits with positive gain, best gain: -inf\n",
      "[LightGBM] [Warning] No further splits with positive gain, best gain: -inf\n",
      "[LightGBM] [Warning] No further splits with positive gain, best gain: -inf\n",
      "[LightGBM] [Warning] No further splits with positive gain, best gain: -inf\n",
      "[LightGBM] [Warning] No further splits with positive gain, best gain: -inf\n",
      "[LightGBM] [Warning] No further splits with positive gain, best gain: -inf\n",
      "[LightGBM] [Warning] No further splits with positive gain, best gain: -inf\n",
      "[LightGBM] [Warning] No further splits with positive gain, best gain: -inf\n",
      "[LightGBM] [Warning] No further splits with positive gain, best gain: -inf\n",
      "[LightGBM] [Warning] No further splits with positive gain, best gain: -inf\n",
      "[LightGBM] [Warning] No further splits with positive gain, best gain: -inf\n",
      "[LightGBM] [Warning] No further splits with positive gain, best gain: -inf\n",
      "[LightGBM] [Warning] No further splits with positive gain, best gain: -inf\n",
      "[LightGBM] [Warning] No further splits with positive gain, best gain: -inf\n",
      "[LightGBM] [Warning] No further splits with positive gain, best gain: -inf\n",
      "[LightGBM] [Warning] No further splits with positive gain, best gain: -inf\n",
      "[LightGBM] [Warning] No further splits with positive gain, best gain: -inf\n",
      "[LightGBM] [Warning] No further splits with positive gain, best gain: -inf\n",
      "[LightGBM] [Warning] No further splits with positive gain, best gain: -inf\n",
      "[LightGBM] [Warning] No further splits with positive gain, best gain: -inf\n",
      "[LightGBM] [Warning] No further splits with positive gain, best gain: -inf\n",
      "[LightGBM] [Warning] No further splits with positive gain, best gain: -inf\n",
      "[LightGBM] [Warning] No further splits with positive gain, best gain: -inf\n",
      "[LightGBM] [Warning] No further splits with positive gain, best gain: -inf\n",
      "[LightGBM] [Warning] No further splits with positive gain, best gain: -inf\n",
      "[LightGBM] [Warning] No further splits with positive gain, best gain: -inf\n",
      "[LightGBM] [Warning] No further splits with positive gain, best gain: -inf\n",
      "[LightGBM] [Warning] No further splits with positive gain, best gain: -inf\n",
      "[LightGBM] [Warning] No further splits with positive gain, best gain: -inf\n",
      "[LightGBM] [Warning] No further splits with positive gain, best gain: -inf\n",
      "[LightGBM] [Warning] No further splits with positive gain, best gain: -inf\n",
      "[LightGBM] [Warning] No further splits with positive gain, best gain: -inf\n",
      "[LightGBM] [Warning] No further splits with positive gain, best gain: -inf\n",
      "[LightGBM] [Warning] No further splits with positive gain, best gain: -inf\n",
      "[LightGBM] [Warning] No further splits with positive gain, best gain: -inf\n",
      "[LightGBM] [Warning] No further splits with positive gain, best gain: -inf\n",
      "[LightGBM] [Warning] No further splits with positive gain, best gain: -inf\n",
      "[LightGBM] [Warning] No further splits with positive gain, best gain: -inf\n",
      "[LightGBM] [Warning] No further splits with positive gain, best gain: -inf\n",
      "[LightGBM] [Warning] No further splits with positive gain, best gain: -inf\n",
      "[LightGBM] [Warning] No further splits with positive gain, best gain: -inf\n",
      "[LightGBM] [Warning] No further splits with positive gain, best gain: -inf\n",
      "[LightGBM] [Warning] No further splits with positive gain, best gain: -inf\n",
      "[LightGBM] [Warning] No further splits with positive gain, best gain: -inf\n",
      "[LightGBM] [Warning] No further splits with positive gain, best gain: -inf\n",
      "[LightGBM] [Warning] No further splits with positive gain, best gain: -inf\n",
      "[LightGBM] [Warning] No further splits with positive gain, best gain: -inf\n",
      "[LightGBM] [Warning] No further splits with positive gain, best gain: -inf\n",
      "[LightGBM] [Warning] No further splits with positive gain, best gain: -inf\n",
      "[LightGBM] [Warning] No further splits with positive gain, best gain: -inf\n",
      "[LightGBM] [Warning] No further splits with positive gain, best gain: -inf\n",
      "[LightGBM] [Warning] No further splits with positive gain, best gain: -inf\n",
      "[LightGBM] [Warning] No further splits with positive gain, best gain: -inf\n",
      "[LightGBM] [Warning] No further splits with positive gain, best gain: -inf\n",
      "[LightGBM] [Warning] No further splits with positive gain, best gain: -inf\n",
      "[LightGBM] [Warning] No further splits with positive gain, best gain: -inf\n",
      "[LightGBM] [Warning] No further splits with positive gain, best gain: -inf\n",
      "[LightGBM] [Warning] No further splits with positive gain, best gain: -inf\n",
      "[LightGBM] [Warning] No further splits with positive gain, best gain: -inf\n",
      "[LightGBM] [Warning] Stopped training because there are no more leaves that meet the split requirements\n",
      "[LightGBM] [Warning] No further splits with positive gain, best gain: -inf\n",
      "[LightGBM] [Warning] Stopped training because there are no more leaves that meet the split requirements\n",
      "[LightGBM] [Warning] No further splits with positive gain, best gain: -inf\n",
      "[LightGBM] [Warning] Stopped training because there are no more leaves that meet the split requirements\n",
      "[LightGBM] [Warning] No further splits with positive gain, best gain: -inf\n",
      "[LightGBM] [Warning] No further splits with positive gain, best gain: -inf\n",
      "[LightGBM] [Warning] No further splits with positive gain, best gain: -inf\n",
      "[LightGBM] [Warning] No further splits with positive gain, best gain: -inf\n",
      "[LightGBM] [Warning] Stopped training because there are no more leaves that meet the split requirements\n",
      "[LightGBM] [Warning] No further splits with positive gain, best gain: -inf\n",
      "[LightGBM] [Warning] Stopped training because there are no more leaves that meet the split requirements\n",
      "[LightGBM] [Warning] No further splits with positive gain, best gain: -inf\n",
      "[LightGBM] [Warning] Stopped training because there are no more leaves that meet the split requirements\n",
      "[LightGBM] [Warning] No further splits with positive gain, best gain: -inf\n",
      "[LightGBM] [Warning] No further splits with positive gain, best gain: -inf\n",
      "[LightGBM] [Warning] Stopped training because there are no more leaves that meet the split requirements\n",
      "[LightGBM] [Warning] No further splits with positive gain, best gain: -inf\n",
      "[LightGBM] [Warning] Stopped training because there are no more leaves that meet the split requirements\n",
      "[LightGBM] [Warning] No further splits with positive gain, best gain: -inf\n",
      "[LightGBM] [Warning] Stopped training because there are no more leaves that meet the split requirements\n",
      "[LightGBM] [Warning] No further splits with positive gain, best gain: -inf\n",
      "[LightGBM] [Warning] Stopped training because there are no more leaves that meet the split requirements\n",
      "[LightGBM] [Warning] No further splits with positive gain, best gain: -inf\n",
      "[LightGBM] [Warning] Stopped training because there are no more leaves that meet the split requirements\n",
      "[LightGBM] [Warning] No further splits with positive gain, best gain: -inf\n",
      "[LightGBM] [Warning] Stopped training because there are no more leaves that meet the split requirements\n",
      "[LightGBM] [Warning] No further splits with positive gain, best gain: -inf\n",
      "[LightGBM] [Warning] No further splits with positive gain, best gain: -inf\n",
      "[LightGBM] [Warning] No further splits with positive gain, best gain: -inf\n",
      "[LightGBM] [Warning] No further splits with positive gain, best gain: -inf\n",
      "[LightGBM] [Warning] No further splits with positive gain, best gain: -inf\n",
      "[LightGBM] [Warning] Stopped training because there are no more leaves that meet the split requirements\n",
      "[LightGBM] [Warning] No further splits with positive gain, best gain: -inf\n",
      "[LightGBM] [Warning] Stopped training because there are no more leaves that meet the split requirements\n",
      "[LightGBM] [Warning] No further splits with positive gain, best gain: -inf\n",
      "[LightGBM] [Warning] Stopped training because there are no more leaves that meet the split requirements\n",
      "[LightGBM] [Warning] No further splits with positive gain, best gain: -inf\n",
      "[LightGBM] [Warning] Stopped training because there are no more leaves that meet the split requirements\n",
      "[LightGBM] [Warning] No further splits with positive gain, best gain: -inf\n",
      "[LightGBM] [Warning] Stopped training because there are no more leaves that meet the split requirements\n",
      "[LightGBM] [Warning] No further splits with positive gain, best gain: -inf\n",
      "[LightGBM] [Warning] No further splits with positive gain, best gain: -inf\n",
      "[LightGBM] [Warning] Stopped training because there are no more leaves that meet the split requirements\n",
      "[LightGBM] [Warning] No further splits with positive gain, best gain: -inf\n",
      "[LightGBM] [Warning] No further splits with positive gain, best gain: -inf\n",
      "[LightGBM] [Warning] Stopped training because there are no more leaves that meet the split requirements\n",
      "[LightGBM] [Warning] No further splits with positive gain, best gain: -inf\n",
      "[LightGBM] [Warning] Stopped training because there are no more leaves that meet the split requirements\n",
      "[LightGBM] [Warning] No further splits with positive gain, best gain: -inf\n",
      "[LightGBM] [Warning] No further splits with positive gain, best gain: -inf\n",
      "[LightGBM] [Warning] No further splits with positive gain, best gain: -inf\n",
      "[LightGBM] [Warning] No further splits with positive gain, best gain: -inf\n",
      "[LightGBM] [Warning] Stopped training because there are no more leaves that meet the split requirements\n",
      "[LightGBM] [Warning] No further splits with positive gain, best gain: -inf\n",
      "[LightGBM] [Warning] No further splits with positive gain, best gain: -inf\n",
      "[LightGBM] [Warning] Stopped training because there are no more leaves that meet the split requirements\n",
      "[LightGBM] [Warning] No further splits with positive gain, best gain: -inf\n",
      "[LightGBM] [Warning] Stopped training because there are no more leaves that meet the split requirements\n",
      "[LightGBM] [Warning] No further splits with positive gain, best gain: -inf\n",
      "[LightGBM] [Warning] Stopped training because there are no more leaves that meet the split requirements\n",
      "[LightGBM] [Warning] No further splits with positive gain, best gain: -inf\n",
      "[LightGBM] [Warning] Stopped training because there are no more leaves that meet the split requirements\n",
      "[LightGBM] [Warning] No further splits with positive gain, best gain: -inf\n",
      "[LightGBM] [Warning] Stopped training because there are no more leaves that meet the split requirements\n",
      "[LightGBM] [Warning] No further splits with positive gain, best gain: -inf\n",
      "[LightGBM] [Warning] No further splits with positive gain, best gain: -inf\n",
      "[LightGBM] [Warning] Stopped training because there are no more leaves that meet the split requirements\n",
      "[LightGBM] [Warning] No further splits with positive gain, best gain: -inf\n",
      "[LightGBM] [Warning] Stopped training because there are no more leaves that meet the split requirements\n",
      "[LightGBM] [Warning] No further splits with positive gain, best gain: -inf\n",
      "[LightGBM] [Warning] Stopped training because there are no more leaves that meet the split requirements\n",
      "[LightGBM] [Warning] No further splits with positive gain, best gain: -inf\n",
      "[LightGBM] [Warning] Stopped training because there are no more leaves that meet the split requirements\n",
      "[LightGBM] [Warning] No further splits with positive gain, best gain: -inf\n",
      "[LightGBM] [Warning] Stopped training because there are no more leaves that meet the split requirements\n",
      "[LightGBM] [Warning] No further splits with positive gain, best gain: -inf\n",
      "[LightGBM] [Warning] Stopped training because there are no more leaves that meet the split requirements\n",
      "[LightGBM] [Warning] No further splits with positive gain, best gain: -inf\n",
      "[LightGBM] [Warning] Stopped training because there are no more leaves that meet the split requirements\n",
      "[LightGBM] [Warning] No further splits with positive gain, best gain: -inf\n",
      "[LightGBM] [Warning] No further splits with positive gain, best gain: -inf\n",
      "[LightGBM] [Warning] No further splits with positive gain, best gain: -inf\n",
      "[LightGBM] [Warning] Stopped training because there are no more leaves that meet the split requirements\n",
      "[LightGBM] [Warning] No further splits with positive gain, best gain: -inf\n",
      "[LightGBM] [Warning] Stopped training because there are no more leaves that meet the split requirements\n",
      "[LightGBM] [Warning] No further splits with positive gain, best gain: -inf\n",
      "[LightGBM] [Warning] Stopped training because there are no more leaves that meet the split requirements\n",
      "[LightGBM] [Warning] No further splits with positive gain, best gain: -inf\n",
      "[LightGBM] [Warning] No further splits with positive gain, best gain: -inf\n",
      "[LightGBM] [Warning] Stopped training because there are no more leaves that meet the split requirements\n",
      "[LightGBM] [Warning] No further splits with positive gain, best gain: -inf\n",
      "[LightGBM] [Warning] Stopped training because there are no more leaves that meet the split requirements\n",
      "[LightGBM] [Warning] No further splits with positive gain, best gain: -inf\n",
      "[LightGBM] [Warning] Stopped training because there are no more leaves that meet the split requirements\n",
      "[LightGBM] [Warning] No further splits with positive gain, best gain: -inf\n",
      "[LightGBM] [Warning] Stopped training because there are no more leaves that meet the split requirements\n",
      "[LightGBM] [Warning] No further splits with positive gain, best gain: -inf\n",
      "[LightGBM] [Warning] Stopped training because there are no more leaves that meet the split requirements\n",
      "[LightGBM] [Warning] No further splits with positive gain, best gain: -inf\n",
      "[LightGBM] [Warning] Stopped training because there are no more leaves that meet the split requirements\n",
      "[LightGBM] [Warning] No further splits with positive gain, best gain: -inf\n",
      "[LightGBM] [Warning] Stopped training because there are no more leaves that meet the split requirements\n",
      "[LightGBM] [Warning] No further splits with positive gain, best gain: -inf\n",
      "[LightGBM] [Warning] Stopped training because there are no more leaves that meet the split requirements\n",
      "[LightGBM] [Warning] No further splits with positive gain, best gain: -inf\n",
      "[LightGBM] [Warning] Stopped training because there are no more leaves that meet the split requirements\n",
      "[LightGBM] [Warning] No further splits with positive gain, best gain: -inf\n",
      "[LightGBM] [Warning] Stopped training because there are no more leaves that meet the split requirements\n",
      "[LightGBM] [Warning] No further splits with positive gain, best gain: -inf\n",
      "[LightGBM] [Warning] Stopped training because there are no more leaves that meet the split requirements\n",
      "[LightGBM] [Warning] No further splits with positive gain, best gain: -inf\n",
      "[LightGBM] [Warning] Stopped training because there are no more leaves that meet the split requirements\n",
      "[LightGBM] [Warning] No further splits with positive gain, best gain: -inf\n",
      "[LightGBM] [Warning] No further splits with positive gain, best gain: -inf\n",
      "[LightGBM] [Warning] Stopped training because there are no more leaves that meet the split requirements\n",
      "[LightGBM] [Warning] No further splits with positive gain, best gain: -inf\n",
      "[LightGBM] [Warning] Stopped training because there are no more leaves that meet the split requirements\n",
      "[LightGBM] [Warning] No further splits with positive gain, best gain: -inf\n",
      "[LightGBM] [Warning] No further splits with positive gain, best gain: -inf\n",
      "[LightGBM] [Warning] Stopped training because there are no more leaves that meet the split requirements\n",
      "[LightGBM] [Warning] No further splits with positive gain, best gain: -inf\n",
      "[LightGBM] [Warning] Stopped training because there are no more leaves that meet the split requirements\n",
      "[LightGBM] [Warning] No further splits with positive gain, best gain: -inf\n",
      "[LightGBM] [Warning] No further splits with positive gain, best gain: -inf\n",
      "[LightGBM] [Warning] Stopped training because there are no more leaves that meet the split requirements\n",
      "[LightGBM] [Warning] No further splits with positive gain, best gain: -inf\n",
      "[LightGBM] [Warning] Stopped training because there are no more leaves that meet the split requirements\n",
      "[LightGBM] [Warning] No further splits with positive gain, best gain: -inf\n",
      "[LightGBM] [Warning] No further splits with positive gain, best gain: -inf\n",
      "[LightGBM] [Warning] Stopped training because there are no more leaves that meet the split requirements\n",
      "[LightGBM] [Warning] No further splits with positive gain, best gain: -inf\n",
      "[LightGBM] [Warning] Stopped training because there are no more leaves that meet the split requirements\n",
      "[LightGBM] [Warning] No further splits with positive gain, best gain: -inf\n",
      "[LightGBM] [Warning] Stopped training because there are no more leaves that meet the split requirements\n",
      "[LightGBM] [Warning] No further splits with positive gain, best gain: -inf\n",
      "[LightGBM] [Warning] Stopped training because there are no more leaves that meet the split requirements\n",
      "[LightGBM] [Warning] No further splits with positive gain, best gain: -inf\n",
      "[LightGBM] [Warning] No further splits with positive gain, best gain: -inf\n",
      "[LightGBM] [Warning] Stopped training because there are no more leaves that meet the split requirements\n",
      "[LightGBM] [Warning] No further splits with positive gain, best gain: -inf\n",
      "[LightGBM] [Warning] Stopped training because there are no more leaves that meet the split requirements\n",
      "[LightGBM] [Warning] No further splits with positive gain, best gain: -inf\n",
      "[LightGBM] [Warning] Stopped training because there are no more leaves that meet the split requirements\n",
      "[LightGBM] [Warning] No further splits with positive gain, best gain: -inf\n",
      "[LightGBM] [Warning] Stopped training because there are no more leaves that meet the split requirements\n",
      "[LightGBM] [Warning] No further splits with positive gain, best gain: -inf\n",
      "[LightGBM] [Warning] Stopped training because there are no more leaves that meet the split requirements\n",
      "[LightGBM] [Warning] No further splits with positive gain, best gain: -inf\n",
      "[LightGBM] [Warning] Stopped training because there are no more leaves that meet the split requirements\n",
      "[LightGBM] [Warning] No further splits with positive gain, best gain: -inf\n",
      "[LightGBM] [Warning] No further splits with positive gain, best gain: -inf\n",
      "[LightGBM] [Warning] Stopped training because there are no more leaves that meet the split requirements\n",
      "[LightGBM] [Warning] No further splits with positive gain, best gain: -inf\n",
      "[LightGBM] [Warning] No further splits with positive gain, best gain: -inf\n",
      "[LightGBM] [Warning] Stopped training because there are no more leaves that meet the split requirements\n",
      "[LightGBM] [Warning] No further splits with positive gain, best gain: -inf\n",
      "[LightGBM] [Warning] Stopped training because there are no more leaves that meet the split requirements\n",
      "[LightGBM] [Warning] No further splits with positive gain, best gain: -inf\n",
      "[LightGBM] [Warning] Stopped training because there are no more leaves that meet the split requirements\n",
      "[LightGBM] [Warning] No further splits with positive gain, best gain: -inf\n",
      "[LightGBM] [Warning] Stopped training because there are no more leaves that meet the split requirements\n",
      "[LightGBM] [Warning] No further splits with positive gain, best gain: -inf\n",
      "[LightGBM] [Warning] No further splits with positive gain, best gain: -inf\n",
      "[LightGBM] [Warning] Stopped training because there are no more leaves that meet the split requirements\n",
      "[LightGBM] [Warning] No further splits with positive gain, best gain: -inf\n",
      "[LightGBM] [Warning] Stopped training because there are no more leaves that meet the split requirements\n",
      "[LightGBM] [Warning] No further splits with positive gain, best gain: -inf\n",
      "[LightGBM] [Warning] Stopped training because there are no more leaves that meet the split requirements\n",
      "[LightGBM] [Warning] No further splits with positive gain, best gain: -inf\n",
      "[LightGBM] [Warning] Stopped training because there are no more leaves that meet the split requirements\n",
      "[LightGBM] [Warning] No further splits with positive gain, best gain: -inf\n",
      "[LightGBM] [Warning] Stopped training because there are no more leaves that meet the split requirements\n",
      "[LightGBM] [Warning] No further splits with positive gain, best gain: -inf\n",
      "[LightGBM] [Warning] Stopped training because there are no more leaves that meet the split requirements\n",
      "[LightGBM] [Warning] No further splits with positive gain, best gain: -inf\n",
      "[LightGBM] [Warning] Stopped training because there are no more leaves that meet the split requirements\n",
      "[LightGBM] [Warning] No further splits with positive gain, best gain: -inf\n",
      "[LightGBM] [Warning] Stopped training because there are no more leaves that meet the split requirements\n",
      "[LightGBM] [Warning] No further splits with positive gain, best gain: -inf\n",
      "[LightGBM] [Warning] Stopped training because there are no more leaves that meet the split requirements\n",
      "[LightGBM] [Warning] No further splits with positive gain, best gain: -inf\n",
      "[LightGBM] [Warning] Stopped training because there are no more leaves that meet the split requirements\n",
      "[LightGBM] [Warning] No further splits with positive gain, best gain: -inf\n",
      "[LightGBM] [Warning] Stopped training because there are no more leaves that meet the split requirements\n",
      "[LightGBM] [Warning] No further splits with positive gain, best gain: -inf\n",
      "[LightGBM] [Warning] Stopped training because there are no more leaves that meet the split requirements\n",
      "[LightGBM] [Warning] No further splits with positive gain, best gain: -inf\n",
      "[LightGBM] [Warning] Stopped training because there are no more leaves that meet the split requirements\n",
      "[LightGBM] [Warning] No further splits with positive gain, best gain: -inf\n",
      "[LightGBM] [Warning] Stopped training because there are no more leaves that meet the split requirements\n",
      "[LightGBM] [Warning] No further splits with positive gain, best gain: -inf\n",
      "[LightGBM] [Warning] No further splits with positive gain, best gain: -inf\n",
      "[LightGBM] [Warning] No further splits with positive gain, best gain: -inf\n",
      "[LightGBM] [Warning] Stopped training because there are no more leaves that meet the split requirements\n",
      "[LightGBM] [Warning] No further splits with positive gain, best gain: -inf\n",
      "[LightGBM] [Warning] No further splits with positive gain, best gain: -inf\n",
      "[LightGBM] [Warning] Stopped training because there are no more leaves that meet the split requirements\n",
      "[LightGBM] [Warning] No further splits with positive gain, best gain: -inf\n",
      "[LightGBM] [Warning] No further splits with positive gain, best gain: -inf\n",
      "[LightGBM] [Warning] Stopped training because there are no more leaves that meet the split requirements\n",
      "[LightGBM] [Warning] No further splits with positive gain, best gain: -inf\n",
      "[LightGBM] [Warning] Stopped training because there are no more leaves that meet the split requirements\n",
      "[LightGBM] [Warning] No further splits with positive gain, best gain: -inf\n",
      "[LightGBM] [Warning] Stopped training because there are no more leaves that meet the split requirements\n",
      "[LightGBM] [Warning] No further splits with positive gain, best gain: -inf\n",
      "[LightGBM] [Warning] Stopped training because there are no more leaves that meet the split requirements\n",
      "[LightGBM] [Warning] No further splits with positive gain, best gain: -inf\n",
      "[LightGBM] [Warning] No further splits with positive gain, best gain: -inf\n",
      "[LightGBM] [Warning] Stopped training because there are no more leaves that meet the split requirements\n",
      "[LightGBM] [Warning] No further splits with positive gain, best gain: -inf\n",
      "[LightGBM] [Warning] Stopped training because there are no more leaves that meet the split requirements\n",
      "[LightGBM] [Warning] No further splits with positive gain, best gain: -inf\n",
      "[LightGBM] [Warning] Stopped training because there are no more leaves that meet the split requirements\n",
      "[LightGBM] [Warning] No further splits with positive gain, best gain: -inf\n",
      "[LightGBM] [Warning] Stopped training because there are no more leaves that meet the split requirements\n",
      "[LightGBM] [Warning] No further splits with positive gain, best gain: -inf\n",
      "[LightGBM] [Warning] Stopped training because there are no more leaves that meet the split requirements\n",
      "[LightGBM] [Warning] No further splits with positive gain, best gain: -inf\n",
      "[LightGBM] [Warning] Stopped training because there are no more leaves that meet the split requirements\n",
      "[LightGBM] [Warning] No further splits with positive gain, best gain: -inf\n",
      "[LightGBM] [Warning] Stopped training because there are no more leaves that meet the split requirements\n",
      "[LightGBM] [Warning] No further splits with positive gain, best gain: -inf\n",
      "[LightGBM] [Warning] Stopped training because there are no more leaves that meet the split requirements\n",
      "[LightGBM] [Warning] No further splits with positive gain, best gain: -inf\n",
      "[LightGBM] [Warning] Stopped training because there are no more leaves that meet the split requirements\n",
      "[LightGBM] [Warning] No further splits with positive gain, best gain: -inf\n",
      "[LightGBM] [Warning] Stopped training because there are no more leaves that meet the split requirements\n",
      "[LightGBM] [Warning] No further splits with positive gain, best gain: -inf\n",
      "[LightGBM] [Warning] Stopped training because there are no more leaves that meet the split requirements\n",
      "[LightGBM] [Warning] No further splits with positive gain, best gain: -inf\n",
      "[LightGBM] [Warning] Stopped training because there are no more leaves that meet the split requirements\n",
      "[LightGBM] [Warning] No further splits with positive gain, best gain: -inf\n",
      "[LightGBM] [Warning] Stopped training because there are no more leaves that meet the split requirements\n",
      "[LightGBM] [Warning] No further splits with positive gain, best gain: -inf\n",
      "[LightGBM] [Warning] No further splits with positive gain, best gain: -inf\n",
      "[LightGBM] [Warning] No further splits with positive gain, best gain: -inf\n",
      "[LightGBM] [Warning] No further splits with positive gain, best gain: -inf\n",
      "[LightGBM] [Warning] Stopped training because there are no more leaves that meet the split requirements\n",
      "[LightGBM] [Warning] No further splits with positive gain, best gain: -inf\n",
      "[LightGBM] [Warning] No further splits with positive gain, best gain: -inf\n",
      "[LightGBM] [Warning] Stopped training because there are no more leaves that meet the split requirements\n",
      "[LightGBM] [Warning] No further splits with positive gain, best gain: -inf\n",
      "[LightGBM] [Warning] Stopped training because there are no more leaves that meet the split requirements\n",
      "[LightGBM] [Warning] No further splits with positive gain, best gain: -inf\n",
      "[LightGBM] [Warning] Stopped training because there are no more leaves that meet the split requirements\n",
      "[LightGBM] [Warning] No further splits with positive gain, best gain: -inf\n",
      "[LightGBM] [Warning] Stopped training because there are no more leaves that meet the split requirements\n",
      "[LightGBM] [Warning] No further splits with positive gain, best gain: -inf\n",
      "[LightGBM] [Warning] Stopped training because there are no more leaves that meet the split requirements\n",
      "[LightGBM] [Warning] No further splits with positive gain, best gain: -inf\n",
      "[LightGBM] [Warning] Stopped training because there are no more leaves that meet the split requirements\n",
      "[LightGBM] [Warning] No further splits with positive gain, best gain: -inf\n",
      "[LightGBM] [Warning] Stopped training because there are no more leaves that meet the split requirements\n",
      "[LightGBM] [Warning] No further splits with positive gain, best gain: -inf\n",
      "[LightGBM] [Warning] Stopped training because there are no more leaves that meet the split requirements\n",
      "[LightGBM] [Warning] No further splits with positive gain, best gain: -inf\n",
      "[LightGBM] [Warning] Stopped training because there are no more leaves that meet the split requirements\n",
      "[LightGBM] [Warning] No further splits with positive gain, best gain: -inf\n",
      "[LightGBM] [Warning] No further splits with positive gain, best gain: -inf\n",
      "[LightGBM] [Warning] Stopped training because there are no more leaves that meet the split requirements\n",
      "[LightGBM] [Warning] No further splits with positive gain, best gain: -inf\n",
      "[LightGBM] [Warning] Stopped training because there are no more leaves that meet the split requirements\n",
      "[LightGBM] [Warning] No further splits with positive gain, best gain: -inf\n",
      "[LightGBM] [Warning] Stopped training because there are no more leaves that meet the split requirements\n",
      "[LightGBM] [Warning] No further splits with positive gain, best gain: -inf\n",
      "[LightGBM] [Warning] Stopped training because there are no more leaves that meet the split requirements\n",
      "[LightGBM] [Warning] No further splits with positive gain, best gain: -inf\n",
      "[LightGBM] [Warning] Stopped training because there are no more leaves that meet the split requirements\n",
      "[LightGBM] [Warning] No further splits with positive gain, best gain: -inf\n",
      "[LightGBM] [Warning] No further splits with positive gain, best gain: -inf\n",
      "[LightGBM] [Warning] Stopped training because there are no more leaves that meet the split requirements\n",
      "[LightGBM] [Warning] No further splits with positive gain, best gain: -inf\n",
      "[LightGBM] [Warning] Stopped training because there are no more leaves that meet the split requirements\n",
      "[LightGBM] [Warning] No further splits with positive gain, best gain: -inf\n",
      "[LightGBM] [Warning] Stopped training because there are no more leaves that meet the split requirements\n",
      "[LightGBM] [Warning] No further splits with positive gain, best gain: -inf\n",
      "[LightGBM] [Warning] Stopped training because there are no more leaves that meet the split requirements\n",
      "[LightGBM] [Warning] No further splits with positive gain, best gain: -inf\n",
      "[LightGBM] [Warning] Stopped training because there are no more leaves that meet the split requirements\n",
      "[LightGBM] [Warning] No further splits with positive gain, best gain: -inf\n",
      "[LightGBM] [Warning] No further splits with positive gain, best gain: -inf\n",
      "[LightGBM] [Warning] Stopped training because there are no more leaves that meet the split requirements\n",
      "[LightGBM] [Warning] No further splits with positive gain, best gain: -inf\n",
      "[LightGBM] [Warning] Stopped training because there are no more leaves that meet the split requirements\n",
      "[LightGBM] [Warning] No further splits with positive gain, best gain: -inf\n",
      "[LightGBM] [Warning] Stopped training because there are no more leaves that meet the split requirements\n",
      "[LightGBM] [Warning] No further splits with positive gain, best gain: -inf\n",
      "[LightGBM] [Warning] Stopped training because there are no more leaves that meet the split requirements\n",
      "[LightGBM] [Warning] No further splits with positive gain, best gain: -inf\n",
      "[LightGBM] [Warning] Stopped training because there are no more leaves that meet the split requirements\n",
      "[LightGBM] [Warning] No further splits with positive gain, best gain: -inf\n",
      "[LightGBM] [Warning] Stopped training because there are no more leaves that meet the split requirements\n",
      "[LightGBM] [Warning] No further splits with positive gain, best gain: -inf\n",
      "[LightGBM] [Warning] Stopped training because there are no more leaves that meet the split requirements\n",
      "[LightGBM] [Warning] No further splits with positive gain, best gain: -inf\n",
      "[LightGBM] [Warning] Stopped training because there are no more leaves that meet the split requirements\n",
      "[LightGBM] [Warning] No further splits with positive gain, best gain: -inf\n",
      "[LightGBM] [Warning] Stopped training because there are no more leaves that meet the split requirements\n",
      "[LightGBM] [Warning] No further splits with positive gain, best gain: -inf\n",
      "[LightGBM] [Warning] No further splits with positive gain, best gain: -inf\n",
      "[LightGBM] [Warning] Stopped training because there are no more leaves that meet the split requirements\n",
      "[LightGBM] [Warning] No further splits with positive gain, best gain: -inf\n",
      "[LightGBM] [Warning] Stopped training because there are no more leaves that meet the split requirements\n",
      "[LightGBM] [Warning] No further splits with positive gain, best gain: -inf\n",
      "[LightGBM] [Warning] Stopped training because there are no more leaves that meet the split requirements\n",
      "[LightGBM] [Warning] No further splits with positive gain, best gain: -inf\n",
      "[LightGBM] [Warning] No further splits with positive gain, best gain: -inf\n",
      "[LightGBM] [Warning] Stopped training because there are no more leaves that meet the split requirements\n",
      "[LightGBM] [Warning] No further splits with positive gain, best gain: -inf\n",
      "[LightGBM] [Warning] No further splits with positive gain, best gain: -inf\n",
      "[LightGBM] [Warning] Stopped training because there are no more leaves that meet the split requirements\n",
      "[LightGBM] [Warning] No further splits with positive gain, best gain: -inf\n",
      "[LightGBM] [Warning] No further splits with positive gain, best gain: -inf\n",
      "[LightGBM] [Warning] Stopped training because there are no more leaves that meet the split requirements\n",
      "[LightGBM] [Warning] No further splits with positive gain, best gain: -inf\n",
      "[LightGBM] [Warning] Stopped training because there are no more leaves that meet the split requirements\n",
      "[LightGBM] [Warning] No further splits with positive gain, best gain: -inf\n",
      "[LightGBM] [Warning] Stopped training because there are no more leaves that meet the split requirements\n",
      "[LightGBM] [Warning] No further splits with positive gain, best gain: -inf\n",
      "[LightGBM] [Warning] Stopped training because there are no more leaves that meet the split requirements\n",
      "[LightGBM] [Warning] No further splits with positive gain, best gain: -inf\n",
      "[LightGBM] [Warning] Stopped training because there are no more leaves that meet the split requirements\n",
      "[LightGBM] [Warning] No further splits with positive gain, best gain: -inf\n"
     ]
    },
    {
     "data": {
      "text/html": [
       "<style>#sk-container-id-1 {color: black;background-color: white;}#sk-container-id-1 pre{padding: 0;}#sk-container-id-1 div.sk-toggleable {background-color: white;}#sk-container-id-1 label.sk-toggleable__label {cursor: pointer;display: block;width: 100%;margin-bottom: 0;padding: 0.3em;box-sizing: border-box;text-align: center;}#sk-container-id-1 label.sk-toggleable__label-arrow:before {content: \"▸\";float: left;margin-right: 0.25em;color: #696969;}#sk-container-id-1 label.sk-toggleable__label-arrow:hover:before {color: black;}#sk-container-id-1 div.sk-estimator:hover label.sk-toggleable__label-arrow:before {color: black;}#sk-container-id-1 div.sk-toggleable__content {max-height: 0;max-width: 0;overflow: hidden;text-align: left;background-color: #f0f8ff;}#sk-container-id-1 div.sk-toggleable__content pre {margin: 0.2em;color: black;border-radius: 0.25em;background-color: #f0f8ff;}#sk-container-id-1 input.sk-toggleable__control:checked~div.sk-toggleable__content {max-height: 200px;max-width: 100%;overflow: auto;}#sk-container-id-1 input.sk-toggleable__control:checked~label.sk-toggleable__label-arrow:before {content: \"▾\";}#sk-container-id-1 div.sk-estimator input.sk-toggleable__control:checked~label.sk-toggleable__label {background-color: #d4ebff;}#sk-container-id-1 div.sk-label input.sk-toggleable__control:checked~label.sk-toggleable__label {background-color: #d4ebff;}#sk-container-id-1 input.sk-hidden--visually {border: 0;clip: rect(1px 1px 1px 1px);clip: rect(1px, 1px, 1px, 1px);height: 1px;margin: -1px;overflow: hidden;padding: 0;position: absolute;width: 1px;}#sk-container-id-1 div.sk-estimator {font-family: monospace;background-color: #f0f8ff;border: 1px dotted black;border-radius: 0.25em;box-sizing: border-box;margin-bottom: 0.5em;}#sk-container-id-1 div.sk-estimator:hover {background-color: #d4ebff;}#sk-container-id-1 div.sk-parallel-item::after {content: \"\";width: 100%;border-bottom: 1px solid gray;flex-grow: 1;}#sk-container-id-1 div.sk-label:hover label.sk-toggleable__label {background-color: #d4ebff;}#sk-container-id-1 div.sk-serial::before {content: \"\";position: absolute;border-left: 1px solid gray;box-sizing: border-box;top: 0;bottom: 0;left: 50%;z-index: 0;}#sk-container-id-1 div.sk-serial {display: flex;flex-direction: column;align-items: center;background-color: white;padding-right: 0.2em;padding-left: 0.2em;position: relative;}#sk-container-id-1 div.sk-item {position: relative;z-index: 1;}#sk-container-id-1 div.sk-parallel {display: flex;align-items: stretch;justify-content: center;background-color: white;position: relative;}#sk-container-id-1 div.sk-item::before, #sk-container-id-1 div.sk-parallel-item::before {content: \"\";position: absolute;border-left: 1px solid gray;box-sizing: border-box;top: 0;bottom: 0;left: 50%;z-index: -1;}#sk-container-id-1 div.sk-parallel-item {display: flex;flex-direction: column;z-index: 1;position: relative;background-color: white;}#sk-container-id-1 div.sk-parallel-item:first-child::after {align-self: flex-end;width: 50%;}#sk-container-id-1 div.sk-parallel-item:last-child::after {align-self: flex-start;width: 50%;}#sk-container-id-1 div.sk-parallel-item:only-child::after {width: 0;}#sk-container-id-1 div.sk-dashed-wrapped {border: 1px dashed gray;margin: 0 0.4em 0.5em 0.4em;box-sizing: border-box;padding-bottom: 0.4em;background-color: white;}#sk-container-id-1 div.sk-label label {font-family: monospace;font-weight: bold;display: inline-block;line-height: 1.2em;}#sk-container-id-1 div.sk-label-container {text-align: center;}#sk-container-id-1 div.sk-container {/* jupyter's `normalize.less` sets `[hidden] { display: none; }` but bootstrap.min.css set `[hidden] { display: none !important; }` so we also need the `!important` here to be able to override the default hidden behavior on the sphinx rendered scikit-learn.org. See: https://github.com/scikit-learn/scikit-learn/issues/21755 */display: inline-block !important;position: relative;}#sk-container-id-1 div.sk-text-repr-fallback {display: none;}</style><div id=\"sk-container-id-1\" class=\"sk-top-container\"><div class=\"sk-text-repr-fallback\"><pre>SelectFromModel(estimator=LGBMClassifier(colsample_bytree=0.2,\n",
       "                                         learning_rate=0.05,\n",
       "                                         min_child_weight=40,\n",
       "                                         min_split_gain=0.01, n_estimators=500,\n",
       "                                         num_leaves=32, reg_alpha=3,\n",
       "                                         reg_lambda=1),\n",
       "                threshold=&#x27;1.25*median&#x27;)</pre><b>In a Jupyter environment, please rerun this cell to show the HTML representation or trust the notebook. <br />On GitHub, the HTML representation is unable to render, please try loading this page with nbviewer.org.</b></div><div class=\"sk-container\" hidden><div class=\"sk-item sk-dashed-wrapped\"><div class=\"sk-label-container\"><div class=\"sk-label sk-toggleable\"><input class=\"sk-toggleable__control sk-hidden--visually\" id=\"sk-estimator-id-1\" type=\"checkbox\" ><label for=\"sk-estimator-id-1\" class=\"sk-toggleable__label sk-toggleable__label-arrow\">SelectFromModel</label><div class=\"sk-toggleable__content\"><pre>SelectFromModel(estimator=LGBMClassifier(colsample_bytree=0.2,\n",
       "                                         learning_rate=0.05,\n",
       "                                         min_child_weight=40,\n",
       "                                         min_split_gain=0.01, n_estimators=500,\n",
       "                                         num_leaves=32, reg_alpha=3,\n",
       "                                         reg_lambda=1),\n",
       "                threshold=&#x27;1.25*median&#x27;)</pre></div></div></div><div class=\"sk-parallel\"><div class=\"sk-parallel-item\"><div class=\"sk-item\"><div class=\"sk-label-container\"><div class=\"sk-label sk-toggleable\"><input class=\"sk-toggleable__control sk-hidden--visually\" id=\"sk-estimator-id-2\" type=\"checkbox\" ><label for=\"sk-estimator-id-2\" class=\"sk-toggleable__label sk-toggleable__label-arrow\">estimator: LGBMClassifier</label><div class=\"sk-toggleable__content\"><pre>LGBMClassifier(colsample_bytree=0.2, learning_rate=0.05, min_child_weight=40,\n",
       "               min_split_gain=0.01, n_estimators=500, num_leaves=32,\n",
       "               reg_alpha=3, reg_lambda=1)</pre></div></div></div><div class=\"sk-serial\"><div class=\"sk-item\"><div class=\"sk-estimator sk-toggleable\"><input class=\"sk-toggleable__control sk-hidden--visually\" id=\"sk-estimator-id-3\" type=\"checkbox\" ><label for=\"sk-estimator-id-3\" class=\"sk-toggleable__label sk-toggleable__label-arrow\">LGBMClassifier</label><div class=\"sk-toggleable__content\"><pre>LGBMClassifier(colsample_bytree=0.2, learning_rate=0.05, min_child_weight=40,\n",
       "               min_split_gain=0.01, n_estimators=500, num_leaves=32,\n",
       "               reg_alpha=3, reg_lambda=1)</pre></div></div></div></div></div></div></div></div></div></div>"
      ],
      "text/plain": [
       "SelectFromModel(estimator=LGBMClassifier(colsample_bytree=0.2,\n",
       "                                         learning_rate=0.05,\n",
       "                                         min_child_weight=40,\n",
       "                                         min_split_gain=0.01, n_estimators=500,\n",
       "                                         num_leaves=32, reg_alpha=3,\n",
       "                                         reg_lambda=1),\n",
       "                threshold='1.25*median')"
      ]
     },
     "execution_count": 110,
     "metadata": {},
     "output_type": "execute_result"
    }
   ],
   "source": [
    "from sklearn.feature_selection import SelectFromModel\n",
    "from lightgbm import LGBMClassifier\n",
    "\n",
    "lgbc=LGBMClassifier(n_estimators=500, learning_rate=0.05, num_leaves=32, colsample_bytree=0.2,\n",
    "            reg_alpha=3, reg_lambda=1, min_split_gain=0.01, min_child_weight=40)\n",
    "\n",
    "embeded_lgb_selector = SelectFromModel(lgbc, threshold='1.25*median')\n",
    "embeded_lgb_selector.fit(working_train_df, y_train)\n"
   ]
  },
  {
   "cell_type": "code",
   "execution_count": 111,
   "metadata": {},
   "outputs": [
    {
     "name": "stdout",
     "output_type": "stream",
     "text": [
      "105 selected features\n"
     ]
    }
   ],
   "source": [
    "embeded_lgb_support = embeded_lgb_selector.get_support()\n",
    "embeded_lgb_feature = working_train_df.loc[:,embeded_lgb_support].columns.tolist()\n",
    "print(str(len(embeded_lgb_feature)), 'selected features')"
   ]
  },
  {
   "cell_type": "code",
   "execution_count": 80,
   "metadata": {},
   "outputs": [],
   "source": []
  }
 ],
 "metadata": {
  "kernelspec": {
   "display_name": "testenv",
   "language": "python",
   "name": "python3"
  },
  "language_info": {
   "codemirror_mode": {
    "name": "ipython",
    "version": 3
   },
   "file_extension": ".py",
   "mimetype": "text/x-python",
   "name": "python",
   "nbconvert_exporter": "python",
   "pygments_lexer": "ipython3",
   "version": "3.10.11"
  }
 },
 "nbformat": 4,
 "nbformat_minor": 2
}
