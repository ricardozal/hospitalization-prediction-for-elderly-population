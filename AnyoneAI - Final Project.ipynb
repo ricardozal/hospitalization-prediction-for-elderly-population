{
 "cells": [
  {
   "cell_type": "markdown",
   "metadata": {},
   "source": [
    "# AnyoneAI - Final Project\n",
    "> Hospitalization Prediction for Elderly Population\n",
    "\n",
    "The project aims to predict the probability of hospitalization for elderly Mexican individuals using machine learning algorithms and data such as demographics, health indicators, and medical history. The model can help healthcare providers identify high-risk patients and allocate resources accordingly. This project is similar to what you have implemented in the last few sprints but with a focus on building a model that can use a few features to make accurate predictions.\n"
   ]
  },
  {
   "cell_type": "markdown",
   "metadata": {},
   "source": [
    "### Goal:\n",
    "The main goal of this project is to ask users to complete a form and use the provided information to predict the risk of hospitalization for that person in the next year. For that task, a Machine Learning model must be trained to make that prediction. Keep in mind the dataset we are going to use has thousands of features but, we can't ask users to complete such amount of fields in the form. We suggest you start using some classic models like Decision Trees, Random Forests, or Gradient Boosting, identify the most important features, and try to refine your model input based on that.\n",
    "\n",
    "### Main Deliverables:\n",
    "- Exploratory Dataset Analysis (EDA)\n",
    "- Scripts used for data pre-processing and data preparation\n",
    "- Training scripts and trained models. Description of how to reproduce results\n",
    "- Implementation and training of model for hospitalization prediction\n",
    "- The final model should need less than 50 features to make predictions\n",
    "- The final model AUC Score must be over 0.9\n",
    "- Present results and a demo of the model doing predictions in real time using an API\n",
    "- Everything must be containerized using Docker\n",
    "\n",
    "### Additional Optional Deliverables:\n",
    "- Experiment using Transformer models, you can convert the data to a string, experiment using certain subsets of features, and evaluate how good are the predictions with few input variables.\n",
    "- Make a UI in which users must complete a form to get the prediction for the demo."
   ]
  },
  {
   "cell_type": "markdown",
   "metadata": {},
   "source": [
    "## 1. Introduction\n",
    "The dataset comprises multiple files with information about aging, health, and retirement from the Mexican Family of Health and Retirement surveys:\n",
    "`H_MHAS_c2.sas7bdat`, `H_MHAS_EOL_b.sas7bdat`  and `H_MEX_COG_A2_2016.dta`."
   ]
  },
  {
   "cell_type": "code",
   "execution_count": 1,
   "metadata": {},
   "outputs": [],
   "source": [
    "# Import libraries\n",
    "import numpy as np\n",
    "import pandas as pd\n",
    "\n",
    "from src import config, data_utils"
   ]
  },
  {
   "cell_type": "markdown",
   "metadata": {},
   "source": [
    "### Getting the data\n",
    "\n",
    "To access the data for this project, you only need to execute the code below. This will download one sas7bdat file inside the `dataset` folder:\n",
    "\n",
    "- `H_MHAS_c2.sas7bdat`: The MHAS Dataset is public and free of charge for use but you will have to register on their website to get full access. You can see all the available data in the following link: https://www.mhasweb.org/DataProducts/HarmonizedData.aspx. This file consolidates information throughout the survey duration and is linked by user ID."
   ]
  },
  {
   "cell_type": "code",
   "execution_count": 2,
   "metadata": {},
   "outputs": [
    {
     "name": "stderr",
     "output_type": "stream",
     "text": [
      "Downloading...\n",
      "From: https://drive.google.com/uc?id=1PZRLL7cq6UAVLG3DFeuPuhrS1LJTsNvY&confirm=t\n",
      "To: c:\\Users\\Carlos\\Documents\\Projects\\Final_project\\hospitalization-prediction-for-elderly-population\\dataset\\H_MHAS_c2.sas7bdat\n",
      "100%|██████████| 482M/482M [00:46<00:00, 10.3MB/s] \n",
      "Downloading...\n",
      "From: https://drive.google.com/uc?id=1bH9hNW0FoN_1q-rovnB8_59ovi3jXs3j&confirm=t\n",
      "To: c:\\Users\\Carlos\\Documents\\Projects\\Final_project\\hospitalization-prediction-for-elderly-population\\dataset\\H_MHAS_EOL_b.sas7bdat\n",
      "100%|██████████| 5.23M/5.23M [00:00<00:00, 6.86MB/s]\n",
      "Downloading...\n",
      "From: https://drive.google.com/uc?id=1MnDC30Jo5Jztmb99z5PLJQA47vj-iDdA&confirm=t\n",
      "To: c:\\Users\\Carlos\\Documents\\Projects\\Final_project\\hospitalization-prediction-for-elderly-population\\dataset\\H_MEX_COG_A2_2016.dta\n",
      "100%|██████████| 1.26M/1.26M [00:00<00:00, 3.46MB/s]\n",
      "[H_MHAS_c2.sas7bdat] column count mismatch\n"
     ]
    },
    {
     "name": "stdout",
     "output_type": "stream",
     "text": [
      "in our dataset we have 26839 subjects\n",
      "in our dataset we have 5241 features\n"
     ]
    }
   ],
   "source": [
    "h_mhas_c2 = data_utils.get_datasets()\n",
    "print('in our dataset we have',h_mhas_c2.shape[0],'subjects')\n",
    "print('in our dataset we have',h_mhas_c2.shape[1],'features')"
   ]
  },
  {
   "cell_type": "markdown",
   "metadata": {},
   "source": [
    "### Data and Features\n",
    "The dataset `H_MHAS_c2.sas7bdat` has 26839 rows and 5241 features.\n",
    "\n",
    "SOME IMPORTANT INSIGHTS\n",
    "-   The first character of the majority of variables indicates whether the variable refers to the reference person (“r”), spouse (“s”), or household (“h”).\n",
    "-   The second character indicates the wave to which the variable pertains: “1”, “2”, “3”, “4”, “5”, or “A”. The “A” indicates “all,”\n",
    "\n",
    "All features are divided into the following sections.\n",
    "\n",
    "- SECTION A: DEMOGRAPHICS, IDENTIFIERS, AND WEIGHTS\n",
    "- SECTION B: HEALTH\n",
    "- SECTION C: HEALTH CARE UTILIZATION AND INSURANCE\n",
    "- SECTION D: COGNITION\n",
    "- SECTION E: FINANCIAL AND HOUSING WEALTH\n",
    "- SECTION F: INCOME\n",
    "- SECTION G: FAMILY STRUCTURE\n",
    "- SECTION H: EMPLOYMENT HISTORY\n",
    "- SECTION I: RETIREMENT\n",
    "- SECTION J: PENSION\n",
    "- SECTION K: PHYSICAL MEASURES\n",
    "- SECTION L: ASSISTANCE AND CAREGIVING\n",
    "- SECTION M: STRESS\n",
    "- SECTION O: END OF LIFE PLANNING\n",
    "- SECTION Q: PSYCHOSOCIAL"
   ]
  },
  {
   "cell_type": "markdown",
   "metadata": {},
   "source": [
    "<span style=\"font-size:0.8em;\">\n",
    "\n",
    "<h3><center> EDA Section A - DEMOGRAPHICS, IDENTIFIERS, AND WEIGHTS </center></h3>\n",
    "\n",
    "This section consists of 26 subsections (245 features) which are shown below:\n",
    "-  Person Specific Identifier  \n",
    "-  Household Identifier  \n",
    "-  Spouse Identifier  \n",
    "-  Wave Status: Response Indicator  \n",
    "-  Wave Status: Interview Status  \n",
    "-  Sample Cohort  \n",
    "-  Whether Proxy Interview  \n",
    "-  Number of Household Respondents  \n",
    "-  Whether Couple Household  \n",
    "-  Household Analysis Weight  \n",
    "-  Person-Level Analysis Weight\n",
    "-  Interview Dates  \n",
    "-  Birth Date: Month and Year  \n",
    "-  Death Date: Month and Year  \n",
    "-  Age at Interview (Months and Years)  \n",
    "-  Gender  \n",
    "-  Education  \n",
    "-  Education: Categories by ISCED Codes  \n",
    "-  Education: Harmonized Education  \n",
    "-  Literacy and Numeracy  \n",
    "-  Indigenous Language  \n",
    "-  Current Marital Status: Current Partnership Status  \n",
    "-  Current Marital Status: With Partnership  \n",
    "-  Current Marital Status: Without Partnership  \n",
    "-  Number of Marriages  \n",
    "-  Urban or Rural\n",
    "</span>"
   ]
  },
  {
   "cell_type": "markdown",
   "metadata": {},
   "source": [
    "For this project, we don't need the subsections highlighted in bold... The reason is that blablabla...\n"
   ]
  },
  {
   "cell_type": "code",
   "execution_count": 3,
   "metadata": {},
   "outputs": [],
   "source": [
    "elimin_A = [\n",
    "    # 'Person Specific Identifier', # Person Specific Identifier  \n",
    "    # 'Household Identifier', # Household Identifier  \n",
    "    # 'Spouse Identifier', # Spouse Identifier  \n",
    "    # 'Response Indicator', # Wave Status: Response Indicator  \n",
    "    # 'Interview Status', # Wave Status: Interview Status  \n",
    "    # 'Sample Cohort', # Sample Cohort  \n",
    "    # 'Whether Proxy Interview', # Whether Proxy Interview  \n",
    "    # 'Number of Household Respondents', # Number of Household Respondents  \n",
    "    # 'Whether Couple Household', # Whether Couple Household  \n",
    "    # 'Household Analysis Weight', # Household Analysis Weight  \n",
    "    # 'Person-Level Analysis Weight', # Person-Level Analysis Weight\n",
    "    # 'Interview Dates', # Interview Dates  \n",
    "    # 'Birth Date', # Birth Date: Month and Year  \n",
    "    # 'Death Date', # Death Date: Month and Year  \n",
    "    # 'Age at Interview', # Age at Interview (Months and Years)  \n",
    "    # 'Gender', # Gender  \n",
    "    # 'Education', # Education  \n",
    "    # 'Education_Cat', # Education: Categories by ISCED Codes  \n",
    "    # 'Education_ Harmon', # Education: Harmonized Education  \n",
    "    # 'Literacy and Numeracy', # Literacy and Numeracy  \n",
    "    # 'Indigenous Language', # Indigenous Language  \n",
    "    # 'Current Partnership Status', # Current Marital Status: Current Partnership Status  \n",
    "    # 'With Partnership', # Current Marital Status: With Partnership  \n",
    "    # 'Without Partnership', # Current Marital Status: Without Partnership  \n",
    "    # 'Number of Marriages', # Number of Marriages  \n",
    "    # 'Urban or Rural' # Urban or Rural\n",
    "]"
   ]
  },
  {
   "cell_type": "markdown",
   "metadata": {},
   "source": [
    "<span style=\"font-size:0.8em;\">\n",
    "\n",
    "<h3><center> EDA Section B - HEALTH </center></h3>\n",
    "\n",
    "This section consists of 27 subsections (1624 features) which are shown below:\n",
    "\n",
    "-  Self-Report of Health  \n",
    "-  Activities of Daily Living (ADLs): Raw Recodes  \n",
    "-  Activities of Daily Living (ADLs): Some Difficulty \n",
    "-  Instrumental Activities of Daily Living (IADLs): Raw Recodes  \n",
    "-  Instrumental Activities of Daily Living (IADLs): Some Difficulty  \n",
    "-  Other Functional Limitations: Raw Recodes  \n",
    "-  Other Functional Limitations: Some Difficulty  \n",
    "-  ADL Summary: Sum ADLs Where Respondent Reports Any Difficulty  \n",
    "-  IADL Summary: Sum IADLs Where Respondent Reports Any Difficulty  \n",
    "-  Other Summary Indices: Mobility, Large Muscle, Gross, Fine Motor, Total, Upper, Lower Body Mobility, and NAGI Activities \n",
    "-  Doctor Diagnosed Health Problems: Ever Have Condition  \n",
    "-  Doctor Diagnosed Diseases: Whether Receives Treatment or Medication for Disease  \n",
    "-  Doctor Diagnosed Diseases: Whether Disease Limits Activity  \n",
    "-  Doctor Diagnosed Diseases: Age of Diagnosis  \n",
    "-  Vision  \n",
    "-  Hearing \n",
    "-  Falls  \n",
    "-  Urinary Incontinence  \n",
    "-  Persistent Health Problems  \n",
    "-  Sleep  \n",
    "-  Pain  \n",
    "-  Menopause  \n",
    "-  BMI  \n",
    "-  Health Behaviors: Physical Activity or Exercise  \n",
    "-  Health Behaviors: Drinking  \n",
    "-  Health Behaviors: Smoking (Cigarettes)  \n",
    "-  Health Behaviors: Preventive Care  \n",
    "</span>"
   ]
  },
  {
   "cell_type": "markdown",
   "metadata": {},
   "source": [
    "For this project, we don't need the subsections highlighted in bold... The reason is that blablabla..."
   ]
  },
  {
   "cell_type": "code",
   "execution_count": 4,
   "metadata": {},
   "outputs": [],
   "source": [
    "elimin_B = {\n",
    "    # 'Self-Report of Health',  # Self-Report of Health  \n",
    "    # 'ADLs Raw Recodes',  # Activities of Daily Living (ADLs): Raw Recodes  \n",
    "    # 'ADLs Some Difficulty',  # Activities of Daily Living (ADLs): Some Difficulty \n",
    "    # 'IADLs Raw Recodes',  # Instrumental Activities of Daily Living (IADLs): Raw Recodes  \n",
    "    # 'IADLs Some Difficulty',  # Instrumental Activities of Daily Living (IADLs): Some Difficulty  \n",
    "    # 'Other Limitations Raw Recodes',  # Other Functional Limitations: Raw Recodes  \n",
    "    # 'Other Limitations Some Difficulty',  # Other Functional Limitations: Some Difficulty  \n",
    "    # 'ADL Summary',  # ADL Summary: Sum ADLs Where Respondent Reports Any Difficulty  \n",
    "    # 'IADL Summary',  # IADL Summary: Sum IADLs Where Respondent Reports Any Difficulty  \n",
    "    # 'Other Summary Indices',  # Other Summary Indices: Mobility, Large Muscle, Gross, Fine Motor, Total, Upper, Lower Body Mobility, and NAGI Activities \n",
    "    # 'Doctor Diagnosed Health Problems',  # Doctor Diagnosed Health Problems: Ever Have Condition  \n",
    "    # 'Treatment or Medication for Disease',  # Doctor Diagnosed Diseases: Whether Receives Treatment or Medication for Disease  \n",
    "    # 'Whether Disease Limits Activity',  # Doctor Diagnosed Diseases: Whether Disease Limits Activity  \n",
    "    # 'Age of Diagnosis',  # Doctor Diagnosed Diseases: Age of Diagnosis  \n",
    "    # 'Vision',  # Vision  \n",
    "    # 'Hearing',  # Hearing \n",
    "    # 'Falls',  # Falls  \n",
    "    # 'Urinary Incontinence',  # Urinary Incontinence  \n",
    "    # 'Persistent Health Problems',  # Persistent Health Problems  \n",
    "    # 'Sleep',  # Sleep  \n",
    "    # 'Pain',  # Pain  \n",
    "    # 'Menopause',  # Menopause  \n",
    "    # 'BMI',  # BMI  \n",
    "    # 'Physical Activity or Exercise',  # Health Behaviors: Physical Activity or Exercise  \n",
    "    # 'Drinking',  # Health Behaviors: Drinking  \n",
    "    # 'Smoking (Cigarettes)',  # Health Behaviors: Smoking (Cigarettes)  \n",
    "    # 'Preventive Care',  # Health Behaviors: Preventive Care\n",
    "}"
   ]
  },
  {
   "cell_type": "markdown",
   "metadata": {},
   "source": [
    "<span style=\"font-size:0.8em;\">\n",
    "\n",
    "<h3><center> EDA Section C - HEALTH CARE UTILIZATION AND INSURANCE </center></h3>\n",
    "\n",
    "This section consists of 8 subsections (236 features) which are shown below:\n",
    "\n",
    "-  Medical Care Utilization: Hospital  \n",
    "-  Medical Care Utilization: Doctor  \n",
    "-  Medical Care Utilization: Other Medical Care Utilization  \n",
    "-  Medical Expenditures: Out of Pocket and Total  \n",
    "-  Covered by Federal Government Health Insurance Program  \n",
    "-  Covered by Private Health Insurance  \n",
    "-  Covered by Health Insurance from a Current or Previous Employer  \n",
    "-  Number of Health Insurance Plans \n",
    "</span>"
   ]
  },
  {
   "cell_type": "markdown",
   "metadata": {},
   "source": [
    "For this project, we don't need the subsections highlighted in bold... The reason is that blablabla..."
   ]
  },
  {
   "cell_type": "code",
   "execution_count": 5,
   "metadata": {},
   "outputs": [],
   "source": [
    "elimin_C = {\n",
    "    # 'Medical Care Hospital',  # Medical Care Utilization: Hospital  \n",
    "    # 'Medical Care Doctor',  # Medical Care Utilization: Doctor  \n",
    "    # 'Medical Care Other',  # Medical Care Utilization: Other Medical Care Utilization  \n",
    "    # 'Medical Expenditures',  # Medical Expenditures: Out of Pocket and Total  \n",
    "    # 'Covered by Government',  # Covered by Federal Government Health Insurance Program  \n",
    "    # 'Covered by Private',  # Covered by Private Health Insurance  \n",
    "    # 'Covered by Employer',  # Covered by Health Insurance from a Current or Previous Employer  \n",
    "    # 'Number of Health Insurance Plans',  # Number of Health Insurance Plans\n",
    "}"
   ]
  },
  {
   "cell_type": "markdown",
   "metadata": {},
   "source": [
    "<span style=\"font-size:0.8em;\">\n",
    "\n",
    "<h3><center> EDA Section D: COGNITION </center></h3>\n",
    "\n",
    "This section consists of 15 subsections (706 features) which are shown below:\n",
    " \n",
    "-  Cognition Testing Conditions \n",
    "-  Self-Reported Memory \n",
    "-  Immediate Word Recall \n",
    "-  Delayed Word Recall \n",
    "-  Summary Scores \n",
    "-  Picture Drawing \n",
    "-  Verbal Fluency \n",
    "-  Visual Scanning \n",
    "-  Backwards Counting From 20 \n",
    "-  Date Naming/Orientation \n",
    "-  Serial 7’s -> 'Serial 7s'\n",
    "-  Proxy Cognition: JORM IQCODE \n",
    "-  Proxy Cognition: Ratings of Memory and Abilities \n",
    "-  Proxy Cognition: Cognitive Impairment \n",
    "-  Proxy Cognition: Problem Behaviors in Past Week \n",
    "</span>"
   ]
  },
  {
   "cell_type": "markdown",
   "metadata": {},
   "source": [
    "For this project, we don't need the subsections highlighted in bold... The reason is that blablabla..."
   ]
  },
  {
   "cell_type": "code",
   "execution_count": 6,
   "metadata": {},
   "outputs": [],
   "source": [
    "elimin_D = {\n",
    "    # 'Cognition Testing Conditions',  # Cognition Testing Conditions \n",
    "    # 'Self-Reported Memory',  # Self-Reported Memory \n",
    "    # 'Immediate Word Recall',  # Immediate Word Recall \n",
    "    # 'Delayed Word Recall',  # Delayed Word Recall \n",
    "    # 'Summary Scores',  # Summary Scores \n",
    "    # 'Picture Drawing',  # Picture Drawing \n",
    "    # 'Verbal Fluency',  # Verbal Fluency \n",
    "    # 'Visual Scanning',  # Visual Scanning \n",
    "    # 'Backwards Counting From 20',  # Backwards Counting From 20 \n",
    "    # 'Date Naming/Orientation',  # Date Naming/Orientation \n",
    "    # 'Serial 7s',  # Serial 7’s -> 'Serial 7s'\n",
    "    # 'JORM IQCODE',  # Proxy Cognition: JORM IQCODE \n",
    "    # 'Ratings of Memory and Abilities',  # Proxy Cognition: Ratings of Memory and Abilities \n",
    "    # 'Cognitive Impairment',  # Proxy Cognition: Cognitive Impairment \n",
    "    # 'Problem Behaviors in Past Week',  # Proxy Cognition: Problem Behaviors in Past Week\n",
    "}  "
   ]
  },
  {
   "cell_type": "markdown",
   "metadata": {},
   "source": [
    "<span style=\"font-size:0.8em;\">\n",
    "\n",
    "<h3><center> EDA Section E - FINANCIAL AND HOUSING WEALTH </center></h3>\n",
    "\n",
    "This section consists of 15 subsections (148 features) which are shown below:\n",
    "\n",
    "-  Inflation Multiplier \n",
    "-  Net Value of Real Estate (Not Primary Residence) \n",
    "-  Net Value of Cars \n",
    "-  Net Value of Businesses \n",
    "-  Value of Stocks Shares and Bonds \n",
    "-  Value of Checking Savings Accounts \n",
    "-  Value of Other Assets\n",
    "-  Value of Primary Residence \n",
    "-  Value of All Mortgages (Primary Residence)\n",
    "-  Net Value of Primary Residence\n",
    "-  Home ownership\n",
    "-  Value of Other Debt\n",
    "-  Value of Loans Lent\n",
    "-  Net Value of Non-Housing Financial Wealth (Excluding IRAs)\n",
    "-  Total Wealth\n",
    "\n",
    "</span>"
   ]
  },
  {
   "cell_type": "markdown",
   "metadata": {},
   "source": [
    "For this project, we don't need the subsections highlighted in bold... The reason is that blablabla..."
   ]
  },
  {
   "cell_type": "code",
   "execution_count": 7,
   "metadata": {},
   "outputs": [],
   "source": [
    "elimin_E = {\n",
    "    # 'Inflation Multiplier',  # Inflation Multiplier \n",
    "    # 'Net Value of Real Estate',  # Net Value of Real Estate (Not Primary Residence) \n",
    "    # 'Net Value of Cars',  # Net Value of Cars \n",
    "    # 'Net Value of Businesses',  # Net Value of Businesses \n",
    "    # 'Value of Stocks',  # Value of Stocks Shares and Bonds \n",
    "    # 'Value of Accounts',  # Value of Checking Savings Accounts \n",
    "    # 'Value of Other',  # Value of Other Assets\n",
    "    # 'Value of Residence',  # Value of Primary Residence \n",
    "    # 'Value of Mortgages',  # Value of All Mortgages (Primary Residence)\n",
    "    # 'Net Value P Residence',  # Net Value of Primary Residence\n",
    "    # 'Home ownership',  # Home ownership\n",
    "    # 'Value of Other Debt',  # Value of Other Debt\n",
    "    # 'Value of Loans Lent',  # Value of Loans Lent\n",
    "    # 'Net Value Financial Wealth',  # Net Value of Non-Housing Financial Wealth (Excluding IRAs)\n",
    "    # 'Total Wealth',  # Total Wealth\n",
    "}   "
   ]
  },
  {
   "cell_type": "markdown",
   "metadata": {},
   "source": [
    "<span style=\"font-size:0.8em;\">\n",
    "\n",
    "<h3><center> EDA Section F - INCOME </center></h3>\n",
    "\n",
    "This section consists of 10 subsections (212 features) which are shown below:\n",
    "\n",
    "-  Individual Earnings\n",
    "-  Household Capital Income\n",
    "-  Individual Income from Private Pension\n",
    "-  Individual Public Pension Income\n",
    "-  Individual Other Pensions Income\n",
    "-  Individual Total Pensions Income\n",
    "-  Individual Income from Other Government Transfers\n",
    "-  All Other Income\n",
    "-  Total Household Income (respondent & spouse)\n",
    "-  Total Household Consumption (full household)\n",
    "</span>"
   ]
  },
  {
   "cell_type": "markdown",
   "metadata": {},
   "source": [
    "For this project, we don't need the subsections highlighted in bold... The reason is that blablabla..."
   ]
  },
  {
   "cell_type": "code",
   "execution_count": 8,
   "metadata": {},
   "outputs": [],
   "source": [
    "elimin_F = {\n",
    "    # 'Individual Earnings',  # Individual Earnings\n",
    "    # 'Household Income',  # Household Capital Income\n",
    "    # 'Income from Private Pension',  # Individual Income from Private Pension\n",
    "    # 'Public Pension Income',  # Individual Public Pension Income\n",
    "    # 'Other Pensions Income',  # Individual Other Pensions Income\n",
    "    # 'Total Pensions Income',  # Individual Total Pensions Income\n",
    "    # 'Other Government Transfers',  # Individual Income from Other Government Transfers\n",
    "    # 'All Other Income',  # All Other Income\n",
    "    # 'Total Household Income r&s',  # Total Household Income (respondent & spouse)\n",
    "    # 'Total Household Consumption h',  # Total Household Consumption (full household)\n",
    "}"
   ]
  },
  {
   "cell_type": "markdown",
   "metadata": {},
   "source": [
    "<span style=\"font-size:0.8em;\">\n",
    "\n",
    "<h3><center> EDA Section G - FAMILY STRUCTURE </center></h3>\n",
    "\n",
    "This section consists of 19 subsections (223 features) which are shown below:\n",
    "\n",
    "-  Number of People Living in Household\n",
    "-  Number of Living Children\n",
    "-  Number of Deceased Children\n",
    "-  Number of Children Ever Born\n",
    "-  Number of Grandchildren\n",
    "-  Number of Living Siblings\n",
    "-  Number of Deceased Siblings\n",
    "-  Number of Living Parents\n",
    "-  Parental Mortality\n",
    "-  Parents' Current Age or Age at Death\n",
    "-  Parents' Education\n",
    "-  Any Child Co-Resides with Respondent\n",
    "-  Any Children Living in the Same City\n",
    "-  Any Weekly Contact with Children\n",
    "-  Frequent or Weekly Contact with Relatives and Friends\n",
    "-  Any Weekly Social Activities or Participate in Religious Groups\n",
    "-  Financial Transfer from Children\n",
    "-  Financial Transfer to Children\n",
    "-  Financial Transfer to Parents\n",
    "</span>"
   ]
  },
  {
   "cell_type": "markdown",
   "metadata": {},
   "source": [
    "For this project, we don't need the subsections highlighted in bold... The reason is that blablabla..."
   ]
  },
  {
   "cell_type": "code",
   "execution_count": 9,
   "metadata": {},
   "outputs": [],
   "source": [
    "elimin_G = {\n",
    "    # 'N Living in Household',  # Number of People Living in Household\n",
    "    # 'N Living Children',  # Number of Living Children\n",
    "    # 'N Deceased Children',  # Number of Deceased Children\n",
    "    # 'N Children Ever Born',  # Number of Children Ever Born\n",
    "    # 'N Grandchildren',  # Number of Grandchildren\n",
    "    # 'N Living Siblings',  # Number of Living Siblings\n",
    "    # 'N Deceased Siblings',  # Number of Deceased Siblings\n",
    "    # 'N Living Parents',  # Number of Living Parents\n",
    "    # 'Parental Mortality',  # Parental Mortality\n",
    "    # 'Parents Age or Age at Death',  # Parents' Current Age or Age at Death\n",
    "    # 'Parents Education',  # Parents' Education\n",
    "    # 'Any Child with Respondent',  # Any Child Co-Resides with Respondent\n",
    "    # 'Any Children Same City',  # Any Children Living in the Same City\n",
    "    # 'Any Weekly Contact with Children',  # Any Weekly Contact with Children\n",
    "    # 'Frequent Contact with Relatives',  # Frequent or Weekly Contact with Relatives and Friends\n",
    "    # 'Weekly Social Activities',  # Any Weekly Social Activities or Participate in Religious Groups\n",
    "    # 'Financial Transfer from Children',  # Financial Transfer from Children\n",
    "    # 'Financial Transfer to Children',  # Financial Transfer to Children\n",
    "    # 'Financial Transfer to Parents',  # Financial Transfer to Parents\n",
    "}"
   ]
  },
  {
   "cell_type": "markdown",
   "metadata": {},
   "source": [
    "<span style=\"font-size:0.8em;\">\n",
    "\n",
    "<h3><center> EDA Section H - EMPLOYMENT HISTORY </center></h3>\n",
    "\n",
    "This section consists of 12 subsections (110 features) which are shown below:\n",
    "\n",
    "-  Currently Working for Pay\n",
    "-  Whether Self-Employed\n",
    "-  Labor Force Status\n",
    "-  In the Labor Force\n",
    "-  Unemployment Status\n",
    "-  Retired Employment Status\n",
    "-  Hours at Main Job\n",
    "-  Main Activity Years of Tenure\n",
    "-  Job Allows Move to Less Demanding Work\n",
    "-  Occupation Code for Job with Longest Reported Tenure\n",
    "-  Year Last Job Ended\n",
    "-  Reason Job Ended\n",
    "</span>"
   ]
  },
  {
   "cell_type": "markdown",
   "metadata": {},
   "source": [
    "For this project, we don't need the subsections highlighted in bold... The reason is that blablabla..."
   ]
  },
  {
   "cell_type": "code",
   "execution_count": 10,
   "metadata": {},
   "outputs": [],
   "source": [
    "elimin_H = {\n",
    "    # 'Currently Working for Pay',  # Currently Working for Pay\n",
    "    # 'Whether Self-Employed',  # Whether Self-Employed\n",
    "    # 'Labor Force Status',  # Labor Force Status\n",
    "    # 'In the Labor Force',  # In the Labor Force\n",
    "    # 'Unemployment Status',  # Unemployment Status\n",
    "    # 'Retired Employment Status',  # Retired Employment Status\n",
    "    # 'Hours at Main Job',  # Hours at Main Job\n",
    "    # 'Main Activity Years of Tenure',  # Main Activity Years of Tenure\n",
    "    # 'Job Allows Move',  # Job Allows Move to Less Demanding Work\n",
    "    # 'Occupation Code with Longest',  # Occupation Code for Job with Longest Reported Tenure\n",
    "    # 'Year Last Job Ended',  # Year Last Job Ended\n",
    "    # 'Reason Job Ended',  # Reason Job Ended\n",
    "}"
   ]
  },
  {
   "cell_type": "markdown",
   "metadata": {},
   "source": [
    "<span style=\"font-size:0.8em;\">\n",
    "\n",
    "<h3><center> EDA Section I - RETIREMENT </center></h3>\n",
    "\n",
    "This section consists of 2 subsections (16 features) which are shown below:\n",
    "\n",
    "-  Whether Retired: Retirement year, if says retired\n",
    "-  Whether Retired: Retirement age, if says retired\n",
    "</span>"
   ]
  },
  {
   "cell_type": "markdown",
   "metadata": {},
   "source": [
    "For this project, we don't need the subsections highlighted in bold... The reason is that blablabla..."
   ]
  },
  {
   "cell_type": "code",
   "execution_count": 11,
   "metadata": {},
   "outputs": [],
   "source": [
    "elimin_I = {\n",
    "    # 'Retirement year',  # Whether Retired: Retirement year, if says retired\n",
    "    # 'Retirement age',  # Whether Retired: Retirement age, if says retired\n",
    "}\n"
   ]
  },
  {
   "cell_type": "markdown",
   "metadata": {},
   "source": [
    "<span style=\"font-size:0.8em;\">\n",
    "\n",
    "<h3><center> EDA Section J - PENSION </center></h3>\n",
    "\n",
    "This section consists of 7 subsections (54 features) which are shown below:\n",
    "\n",
    "-  Whether Receives Public Pension\n",
    "-  Whether Receives Private Pension\n",
    "-  Whether Receives Other Pension\n",
    "-  Age When Started to Receive a Public Pension\n",
    "-  Age When Started to Receive a Private Pension\n",
    "-  Whether Current Public Pension(s) Can Continue\n",
    "-  Whether Current Private Pension Can Continue\n",
    "</span>"
   ]
  },
  {
   "cell_type": "markdown",
   "metadata": {},
   "source": [
    "For this project, we don't need the subsections highlighted in bold... The reason is that blablabla..."
   ]
  },
  {
   "cell_type": "code",
   "execution_count": 12,
   "metadata": {},
   "outputs": [],
   "source": [
    "elimin_J = {\n",
    "    # 'Public Pension',  # Whether Receives Public Pension\n",
    "    # 'Private Pension',  # Whether Receives Private Pension\n",
    "    # 'Other Pension',  # Whether Receives Other Pension\n",
    "    # 'Age Public Pension',  # Age When Started to Receive a Public Pension\n",
    "    # 'Age Private Pension',  # Age When Started to Receive a Private Pension\n",
    "    # 'Public Pension Continuity',  # Whether Current Public Pension(s) Can Continue\n",
    "    # 'Private Pension Continuity',  # Whether Current Private Pension Can Continue\n",
    "}"
   ]
  },
  {
   "cell_type": "markdown",
   "metadata": {},
   "source": [
    "<span style=\"font-size:0.8em;\">\n",
    "\n",
    "<h3><center> EDA Section K - PHYSICAL MEASURES </center></h3>\n",
    "\n",
    "This section consists of 8 subsections (282 features) which are shown below:\n",
    " \n",
    "-  Height, Weight, Waist and Hip Circumference Measurements\n",
    "-  Height, Weight, Waist and Hip Circumference Measurements: Reason Didn't Complete\n",
    "-  Sitting Height\n",
    "-  Sitting Height: Reason Didn't Complete\n",
    "-  Balance Test\n",
    "-  Balance Test: Reason Didn't Complete\n",
    "-  Blood Pressure Measurements\n",
    "-  Blood Pressure Measurements: Reason Didn't Complete\n",
    "-  Timed Walk Measurements\n",
    "-  Timed Walk Measurements: Reason Didn't Complete\n",
    "-  Hand Grip Strength Measurements\n",
    "-  Hand Grip Strength Measurements: Reason Didn't Complete\n",
    "</span>"
   ]
  },
  {
   "cell_type": "markdown",
   "metadata": {},
   "source": [
    "For this project, we don't need the subsections highlighted in bold... The reason is that blablabla..."
   ]
  },
  {
   "cell_type": "code",
   "execution_count": 13,
   "metadata": {},
   "outputs": [],
   "source": [
    "elimin_K = {\n",
    "    # 'Waist and Hip Measure',  # Height, Weight, Waist and Hip Circumference Measurements\n",
    "    # 'Waist and Hip Measure Incomplete',  # Height, Weight, Waist and Hip Circumference Measurements: Reason Didn't Complete\n",
    "    # 'Sitting Height',  # Sitting Height\n",
    "    # 'Sitting Height Incomplete',  # Sitting Height: Reason Didn't Complete\n",
    "    # 'Balance Test',  # Balance Test\n",
    "    # 'Balance Test Incomplete',  # Balance Test: Reason Didn't Complete\n",
    "    # 'Blood Pressure Measure',  # Blood Pressure Measurements\n",
    "    # 'Blood Pressure Measure Incomplete',  # Blood Pressure Measurements: Reason Didn't Complete\n",
    "    # 'Timed Walk Measure',  # Timed Walk Measurements\n",
    "    # 'Timed Walk Measure Incomplete',  # Timed Walk Measurements: Reason Didn't Complete\n",
    "    # 'Hand Grip Measure',  # Hand Grip Strength Measurements\n",
    "    # 'Hand Grip Measure Incomplete',  # Hand Grip Strength Measurements: Reason Didn't Complete\n",
    "}"
   ]
  },
  {
   "cell_type": "markdown",
   "metadata": {},
   "source": [
    "<span style=\"font-size:0.8em;\">\n",
    "\n",
    "<h3><center> EDA Section L - ASSISTANCE AND CAREGIVING </center></h3>\n",
    "\n",
    "This section consists of 31 subsections (1103 features) which are shown below:\n",
    " \n",
    "-  ADL Help\n",
    "-  IADL Help\n",
    "-  Whether Uses Personal Aids\n",
    "-  Future ADL Help\n",
    "-  Activities of Daily Living: Whether Receives Any Care\n",
    "-  Activities of Daily Living: Whether Receives Any Informal Care\n",
    "-  Activities of Daily Living: Receives Informal Care from Spouse\n",
    "-  Activities of Daily Living: Receives Informal Care from Children or Grandchildren\n",
    "-  Activities of Daily Living: Receives Informal Care from Relatives\n",
    "-  Activities of Daily Living: Receives Informal Care from Other Individuals\n",
    "-  Activities of Daily Living: Whether Receives Any Formal Care\n",
    "-  Activities of Daily Living: Receives Formal Care from Paid Professional\n",
    "-  Instrumental Activities of Daily Living: Whether Receives Any Care\n",
    "-  Instrumental Activities of Daily Living: Whether Receives Any Informal Care\n",
    "-  Instrumental Activities of Daily Living: Receives Informal Care from Spouse\n",
    "-  Instrumental Activities of Daily Living: Receives Informal Care from Children or Grandchildren\n",
    "-  Instrumental Activities of Daily Living: Receives Informal Care from Relatives\n",
    "-  Instrumental Activities of Daily Living: Receives Informal Care from Other Individuals\n",
    "-  Instrumental Activities of Daily Living: Whether Receives Any Formal Care\n",
    "-  Instrumental Activities of Daily Living: Receives Formal Care from Paid Professional\n",
    "-  Activities of Daily Living and Instrumental Activities of Daily Living: Whether Receives Any Care\n",
    "-  Activities of Daily Living and Instrumental Activities of Daily Living: Whether Receives Any Informal Care\n",
    "-  Activities of Daily Living and Instrumental Activities of Daily Living: Receives Informal Care from Spouse\n",
    "-  Activities of Daily Living and Instrumental Activities of Daily Living: Receives Informal Care from Children or Grandchildren\n",
    "-  Activities of Daily Living and Instrumental Activities of Daily Living: Receives Informal Care from Relatives\n",
    "-  Activities of Daily Living and Instrumental Activities of Daily Living: Receives Informal Care from Other Individuals\n",
    "-  Activities of Daily Living and Instrumental Activities of Daily Living: Whether Receives Any Formal Care\n",
    "-  Activities of Daily Living and Instrumental Activities of Daily Living: Receives Formal Care from Paid Professional\n",
    "-  Receives Help with Chores from Children or Grandchildren\n",
    "-  Provides Informal Care to Children or Grandchildren\n",
    "-  Provides Personal Care to Parents\n",
    "-  Provides Informal Care for Sick or Disabled Adults\n",
    "</span>"
   ]
  },
  {
   "cell_type": "markdown",
   "metadata": {},
   "source": [
    "For this project, we don't need the subsections highlighted in bold... The reason is that blablabla..."
   ]
  },
  {
   "cell_type": "code",
   "execution_count": 14,
   "metadata": {},
   "outputs": [],
   "source": [
    "elimin_L = {\n",
    "    # 'ADL Help',  # ADL Help\n",
    "    # 'IADL Help',  # IADL Help\n",
    "    # 'Personal Aids',  # Whether Uses Personal Aids\n",
    "    # 'Future ADL Help',  # Future ADL Help\n",
    "    # 'ADL Any Care',  # Activities of Daily Living: Whether Receives Any Care\n",
    "    # 'ADL Informal Care',  # Activities of Daily Living: Whether Receives Any Informal Care\n",
    "    # 'ADL Informal Care Spouse',  # Activities of Daily Living: Receives Informal Care from Spouse\n",
    "    # 'ADL Care Children or Grandchildren',  # Activities of Daily Living: Receives Informal Care from Children or Grandchildren\n",
    "    # 'ADL Care Relatives',  # Activities of Daily Living: Receives Informal Care from Relatives\n",
    "    # 'ADL Care Other Individuals',  # Activities of Daily Living: Receives Informal Care from Other Individuals\n",
    "    # 'ADL Formal Care',  # Activities of Daily Living: Whether Receives Any Formal Care\n",
    "    # 'ADL Care Paid Professional',  # Activities of Daily Living: Receives Formal Care from Paid Professional\n",
    "    # 'IADL Any Care',  # Instrumental Activities of Daily Living: Whether Receives Any Care\n",
    "    # 'IADL Informal Care',  # Instrumental Activities of Daily Living: Whether Receives Any Informal Care\n",
    "    # 'IADL Informal Care Spouse',  # Instrumental Activities of Daily Living: Receives Informal Care from Spouse\n",
    "    # 'IADL Care Children or Grandchildren',  # Instrumental Activities of Daily Living: Receives Informal Care from Children or Grandchildren\n",
    "    # 'IADL Care Relatives',  # Instrumental Activities of Daily Living: Receives Informal Care from Relatives\n",
    "    # 'IADL Care Other Individuals',  # Instrumental Activities of Daily Living: Receives Informal Care from Other Individuals\n",
    "    # 'IADL Formal Care',  # Instrumental Activities of Daily Living: Whether Receives Any Formal Care\n",
    "    # 'IADL Care Paid Professional',  # Instrumental Activities of Daily Living: Receives Formal Care from Paid Professional\n",
    "    # 'ADL & IADL Any Care',  # Activities of Daily Living and Instrumental Activities of Daily Living: Whether Receives Any Care\n",
    "    # 'ADL & IADL Informal Care',  # Activities of Daily Living and Instrumental Activities of Daily Living: Whether Receives Any Informal Care\n",
    "    # 'ADL & IADL Care Spouse',  # Activities of Daily Living and Instrumental Activities of Daily Living: Receives Informal Care from Spouse\n",
    "    # 'ADL & IADL Care Children or Grandchildren',  # Activities of Daily Living and Instrumental Activities of Daily Living: Receives Informal Care from Children or Grandchildren\n",
    "    # 'ADL & IADL Care Relatives',  # Activities of Daily Living and Instrumental Activities of Daily Living: Receives Informal Care from Relatives\n",
    "    # 'ADL & IADL Care Other Individuals',  # Activities of Daily Living and Instrumental Activities of Daily Living: Receives Informal Care from Other Individuals\n",
    "    # 'ADL & IADL Formal Care',  # Activities of Daily Living and Instrumental Activities of Daily Living: Whether Receives Any Formal Care\n",
    "    # 'ADL & IADL Care Paid Professional',  # Activities of Daily Living and Instrumental Activities of Daily Living: Receives Formal Care from Paid Professional\n",
    "    # 'Help Children or Grandchildren',  # Receives Help with Chores from Children or Grandchildren\n",
    "    # 'Provides Care to Children or Grandchildren',  # Provides Informal Care to Children or Grandchildren\n",
    "    # 'Provides Care to Parents',  # Provides Personal Care to Parents\n",
    "    # 'Provides Care for Sick or Disabled Adults',  # Provides Informal Care for Sick or Disabled Adults\n",
    "}"
   ]
  },
  {
   "cell_type": "markdown",
   "metadata": {},
   "source": [
    "<span style=\"font-size:0.8em;\">\n",
    "\n",
    "<h3><center> EDA Section M - STRESS </center></h3>\n",
    "\n",
    "This section consists of 4 subsections (77 features) which are shown below:\n",
    "  \n",
    "-  Social Support: Spouse\n",
    "-  Social Support: Children\n",
    "-  Social Support: Friends\n",
    "-  Experienced Death of a Child\n",
    "</span>"
   ]
  },
  {
   "cell_type": "markdown",
   "metadata": {},
   "source": [
    "For this project, we don't need the subsections highlighted in bold... The reason is that blablabla..."
   ]
  },
  {
   "cell_type": "code",
   "execution_count": 15,
   "metadata": {},
   "outputs": [],
   "source": [
    "elimin_M = {\n",
    "    # 'Support Spouse',  # Social Support: Spouse\n",
    "    # 'Support Children',  # Social Support: Children\n",
    "    # 'Support: Friends',  # Social Support: Friends\n",
    "    # 'Experienced Death of a Child',  # Experienced Death of a Child\n",
    "}"
   ]
  },
  {
   "cell_type": "markdown",
   "metadata": {},
   "source": [
    "<span style=\"font-size:0.8em;\">\n",
    "\n",
    "<h3><center> EDA Section O - END OF LIFE PLANNING </center></h3>\n",
    "\n",
    "This section consists of 3 subsections (33 features) which are shown below:\n",
    "\n",
    "-  Will: Whether Has a Will\n",
    "-  Will: Beneficiaries of Will\n",
    "-  Covered by Life Insurance\n",
    "</span>"
   ]
  },
  {
   "cell_type": "markdown",
   "metadata": {},
   "source": [
    "For this project, we don't need the subsections highlighted in bold... The reason is that blablabla..."
   ]
  },
  {
   "cell_type": "code",
   "execution_count": 16,
   "metadata": {},
   "outputs": [],
   "source": [
    "elimin_O = {\n",
    "#     'Has a Will',  # Will: Whether Has a Will\n",
    "#     'Beneficiaries Will',  # Will: Beneficiaries of Will\n",
    "#     'Covered Life Insurance',  # Covered by Life Insurance\n",
    "}"
   ]
  },
  {
   "cell_type": "markdown",
   "metadata": {},
   "source": [
    "<span style=\"font-size:0.8em;\">\n",
    "\n",
    "<h3><center> EDA Section Q - PSYCHOSOCIAL </center></h3>\n",
    "\n",
    "This section consists of 8 subsections (166 features) which are shown below:\n",
    "\n",
    "-  Depressive Symptoms: CESD\n",
    "-  Satisfaction with Life Scale\n",
    "-  Single Life Satisfaction Question\n",
    "-  Cantril Ladder\n",
    "</span>"
   ]
  },
  {
   "cell_type": "markdown",
   "metadata": {},
   "source": []
  },
  {
   "cell_type": "code",
   "execution_count": 17,
   "metadata": {},
   "outputs": [],
   "source": [
    "elimin_Q = {\n",
    "    # 'Depressive Symptoms',  # Depressive Symptoms: CESD\n",
    "    # 'Satisfaction Life',  # Satisfaction with Life Scale\n",
    "    # 'Single Life Satisfaction',  # Single Life Satisfaction Question\n",
    "    # 'Cantril Ladder',  # Cantril Ladder\n",
    "}"
   ]
  },
  {
   "cell_type": "markdown",
   "metadata": {},
   "source": []
  },
  {
   "cell_type": "code",
   "execution_count": 18,
   "metadata": {},
   "outputs": [
    {
     "name": "stdout",
     "output_type": "stream",
     "text": [
      "['acthog', 'cX000cpindex', 'cX001cpindex', 'cX002cpindex', 'cX003cpindex', 'cX011cpindex', 'cX012cpindex', 'cX013cpindex', 'cX014cpindex', 'cX015cpindex', 'cX016cpindex', 'cX017cpindex', 'cX018cpindex', 'cX019cpindex', 'codent01', 'codent03', 'cunicah', 'ent2', 'hXabdstk', 'hXabsns', 'hXachck', 'hXadebt', 'hXafbdstk', 'hXafbsns', 'hXafchck', 'hXafdebt', 'hXafhous', 'hXaflend', 'hXafmort', 'hXafothr', 'hXafrles', 'hXaftotb', 'hXaftotf', 'hXaftoth', 'hXaftran', 'hXahous', 'hXalend', 'hXamort', 'hXaothr', 'hXarles', 'hXatotb', 'hXatotf', 'hXatoth', 'hXatran', 'hXchdeathe', 'hXchild', 'hXcoresd', 'hXcpl', 'hXdau', 'hXdchild', 'hXfcamt', 'hXfcany', 'hXfcflag', 'hXgapcare', 'hXgapcarehr', 'hXgccare_m', 'hXgccarehr_m', 'hXgrchild', 'hXhhid', 'hXhhidc', 'hXhhres', 'hXhhresp', 'hXhownrnt', 'hXicap', 'hXifcap', 'hXifrent', 'hXifsemp', 'hXiftot', 'hXiftrest', 'hXirent', 'hXisemp', 'hXitot', 'hXitrest', 'hXkcnt', 'hXlvnear', 'hXrcchore', 'hXrcchorehr', 'hXrcchorenf', 'hXrural', 'hXrural_m', 'hXson', 'hXtcamt', 'hXtcany', 'hXtcflag', 'hXwillcg', 'hXwillot', 'hXwillsp', 'hXwitwill', 'hXwitwill_m', 'hacohort', 'hh1cftot1m', 'hh1ctot1m', 'hh2cftot1m', 'hh2ctot1m', 'hh3cftot1m', 'hh3ctot1m', 'hh4cftot1m', 'hh4ctot1m', 'hh5cftot1m', 'hh5ctot1m', 'inw1', 'inw2', 'inw3', 'inw4', 'inw5', 'np', 'ps3', 'rXadla', 'rXadla_m', 'rXadlaa', 'rXadlaa_m', 'rXadlam', 'rXadlam_m', 'rXadlfive', 'rXadlfivea', 'rXadlfivem', 'rXadltot6', 'rXadltot6a', 'rXadltot6m', 'rXadlwa', 'rXadlwaa', 'rXadlwam', 'rXagey', 'rXalone', 'rXarms', 'rXarmsa', 'rXarthlmt', 'rXarthre', 'rXballf', 'rXballfcomp', 'rXballfsec', 'rXbalref', 'rXbalrt', 'rXbalrtcomp', 'rXbalrtsec', 'rXbalsft', 'rXbaltryu', 'rXbath', 'rXbatha', 'rXbathehlp', 'rXbed', 'rXbeda', 'rXbede', 'rXbedhlp', 'rXbinged', 'rXbmi', 'rXbpcomp', 'rXbpref', 'rXbpsft', 'rXbreast', 'rXbreath_m', 'rXbwc20', 'rXbwc20_m', 'rXcage', 'rXcagem', 'rXcancre', 'rXcantril', 'rXcesd_m', 'rXcesdm_m', 'rXchair', 'rXchaira', 'rXchairhght', 'rXcholst', 'rXciqscore1', 'rXciqscore10', 'rXciqscore11', 'rXciqscore12', 'rXciqscore13', 'rXciqscore14', 'rXciqscore15', 'rXciqscore16', 'rXciqscore2', 'rXciqscore3', 'rXciqscore4', 'rXciqscore5', 'rXciqscore6', 'rXciqscore7', 'rXciqscore8', 'rXciqscore9', 'rXcjormscore', 'rXclim1', 'rXclim1a', 'rXclims', 'rXclimsa', 'rXcncrchem', 'rXcncrmeds', 'rXcncrothr', 'rXcncrradn', 'rXcncrsurg', 'rXcovr_m', 'rXcovs_m', 'rXdadage', 'rXdadliv', 'rXddraw1', 'rXddraw2', 'rXdecsib', 'rXdentim1y', 'rXdentst1y', 'rXdepres', 'rXdiabe', 'rXdiasto', 'rXdiasto1', 'rXdiasto2', 'rXdime', 'rXdimea', 'rXdlrc8', 'rXdoctim1y', 'rXdoctor1y', 'rXdomhand', 'rXdress', 'rXdressa', 'rXdresshlp', 'rXdrink', 'rXdrinkb', 'rXdrinkbd', 'rXdrinkcr', 'rXdrinkcut', 'rXdrinkd', 'rXdrinkn', 'rXdrinknr', 'rXdy', 'rXeat', 'rXeata', 'rXeathlp', 'rXeffort', 'rXenerg', 'rXenlife', 'rXfall', 'rXfallinj', 'rXfallnum', 'rXfallslp', 'rXfatigue', 'rXfbwc20_m', 'rXfciqscore1', 'rXfciqscore10', 'rXfciqscore11', 'rXfciqscore12', 'rXfciqscore13', 'rXfciqscore14', 'rXfciqscore15', 'rXfciqscore16', 'rXfciqscore2', 'rXfciqscore3', 'rXfciqscore4', 'rXfciqscore5', 'rXfciqscore6', 'rXfciqscore7', 'rXfciqscore8', 'rXfciqscore9', 'rXfddraw1', 'rXfddraw2', 'rXfdlrc8', 'rXfdy', 'rXfidraw1', 'rXfidraw2', 'rXfimrc8', 'rXfinea', 'rXfineaa', 'rXfineam', 'rXfletdow_m', 'rXflone', 'rXflstmnspd', 'rXflusht', 'rXfmo', 'rXfopenup_m', 'rXforient_m', 'rXfrely_m', 'rXfsad', 'rXfser7', 'rXfsupport4_m', 'rXfsupport4m_m', 'rXftired', 'rXftr16', 'rXftrhlp', 'rXfustdfe_m', 'rXfverbf', 'rXfvscan', 'rXfyr', 'rXgcaresck', 'rXgcaresckd_m', 'rXgenderf', 'rXglasses', 'rXgripcomp', 'rXgripothr', 'rXgripref', 'rXgripsft', 'rXgripsum', 'rXgrossa', 'rXgrossaa', 'rXgrossam', 'rXhaluc', 'rXhearaid', 'rXhearing', 'rXhearte', 'rXheight', 'rXhenum', 'rXhghtref', 'rXhghtsft', 'rXhghttryu', 'rXhibpe', 'rXhigov', 'rXhip', 'rXhip50e', 'rXhip_m', 'rXhipcomp', 'rXhipref', 'rXhipriv', 'rXhipsft', 'rXhiptryu', 'rXhltc', 'rXhosp1y', 'rXhrtatlmt', 'rXhrtatte', 'rXhspnit1y', 'rXhtcomp', 'rXhystere', 'rXiadlfour', 'rXiadlfoura', 'rXiadlfourm', 'rXidraw1', 'rXidraw2', 'rXiearn', 'rXifearn', 'rXifgxfr', 'rXifothr', 'rXifpena', 'rXifpeno', 'rXifpent', 'rXifpubo', 'rXifpubpen', 'rXifsret', 'rXifssdi', 'rXigxfr', 'rXimrc8', 'rXinlbrf', 'rXiothr', 'rXipena', 'rXipeno', 'rXipent', 'rXipubo', 'rXipubpen', 'rXisret', 'rXissdi', 'rXiwf', 'rXiwm', 'rXiwstat', 'rXiwy', 'rXjcten', 'rXjhours', 'rXjhoursd', 'rXjlasty', 'rXjlocc_m', 'rXjog', 'rXjoga', 'rXjredhr', 'rXjrsleft', 'rXkletdow_m', 'rXkopenup_m', 'rXkrely_m', 'rXksupport4_m', 'rXksupport4m_m', 'rXkustdfe_m', 'rXlbrf_m', 'rXlchnot3', 'rXlexcl3', 'rXlgmusa', 'rXlgmusaa', 'rXlgmusam', 'rXlgrip', 'rXlgrip1', 'rXlgrip2', 'rXlideal3', 'rXlifein_m', 'rXlift', 'rXlifta', 'rXlimptt3', 'rXlivpar', 'rXlivsib', 'rXlost', 'rXlowermob', 'rXlowermoba', 'rXlowermobm', 'rXlsatsc3', 'rXlsatsc3m', 'rXlstmnspd', 'rXlstsf3', 'rXmammog', 'rXmbmi', 'rXmbmicat', 'rXmealhlp', 'rXmeals', 'rXmealsa', 'rXmedhlp', 'rXmeds', 'rXmedsa', 'rXmheight', 'rXmhip', 'rXmo', 'rXmobila', 'rXmobilaa', 'rXmobilam', 'rXmobilsev', 'rXmobilseva', 'rXmobilsevm', 'rXmomage', 'rXmomliv', 'rXmoney', 'rXmoneya', 'rXmoneyhlp', 'rXmpart', 'rXmrct', 'rXmstat', 'rXmstath', 'rXmwaist', 'rXmweight', 'rXmwhratio', 'rXnagi10', 'rXnagi10a', 'rXnagi10m', 'rXnagi8', 'rXnagi8a', 'rXnagi8m', 'rXnopencil', 'rXnovisual', 'rXoalchl', 'rXoangry', 'rXodngr', 'rXoopden1y', 'rXoopdenf1y', 'rXoopdoc1y', 'rXoopdocf1y', 'rXoopfhho1y', 'rXoopfhhof1y', 'rXoophos1y', 'rXoophosf1y', 'rXoopmd1y', 'rXoopmdf1y', 'rXooposrg1y', 'rXooposrgf1y', 'rXopace', 'rXopen', 'rXoplot', 'rXorient_m', 'rXosleep', 'rXoutpt1y', 'rXpaina', 'rXpainfr', 'rXpainlv', 'rXpapsm', 'rXpenage', 'rXpenic', 'rXpeninc', 'rXprchmem', 'rXprmem', 'rXprost', 'rXproxy', 'rXpstmem', 'rXpubage', 'rXpubpen', 'rXpulse', 'rXpulse1', 'rXpulse2', 'rXpush', 'rXpusha', 'rXquitsmok', 'rXracaany', 'rXracany', 'rXraccare', 'rXraccaredpm', 'rXraccaredpmm', 'rXraccarehr', 'rXraccarehrm', 'rXraccaren', 'rXrafaany', 'rXrafcare', 'rXrafcaredpm', 'rXrafcaredpmm', 'rXrafcarehr', 'rXrafcarehrm', 'rXrafcaren', 'rXrapfcare', 'rXrapfcaredpm', 'rXrapfcaredpmm', 'rXrapfcarehr', 'rXrapfcarehrm', 'rXrapfcaren', 'rXrarcare', 'rXrarcaredpm', 'rXrarcaredpmm', 'rXrarcarehr', 'rXrarcarehrm', 'rXrarcaren', 'rXrascare', 'rXrascaredpm', 'rXrascaredpmm', 'rXrascarehr', 'rXrascarehrm', 'rXrcaany', 'rXrcany', 'rXrccare', 'rXrccaredpm', 'rXrccaredpmm', 'rXrccarehr', 'rXrccarehrm', 'rXrccaren', 'rXreccancr', 'rXrechrtatt', 'rXrecstrok', 'rXrelgimp', 'rXrelgwk', 'rXrespe', 'rXresplmt', 'rXrested', 'rXretage', 'rXretemp', 'rXretyr', 'rXrfaany', 'rXrfcare', 'rXrfcaredpm', 'rXrfcaredpmm', 'rXrfcarehr', 'rXrfcarehrm', 'rXrfcaren', 'rXrfcnt', 'rXrfcntx_m', 'rXrgrip', 'rXrgrip1', 'rXrgrip2', 'rXricaany', 'rXricany', 'rXriccare', 'rXriccaredpm', 'rXriccaredpmm', 'rXriccarehr', 'rXriccarehrm', 'rXriccaren', 'rXrifaany', 'rXrifcare', 'rXrifcaredpm', 'rXrifcaredpmm', 'rXrifcarehr', 'rXrifcarehrm', 'rXrifcaren', 'rXripfcare', 'rXripfcaredpm', 'rXripfcaredpmm', 'rXripfcarehr', 'rXripfcarehrm', 'rXripfcaren', 'rXrircare', 'rXrircaredpm', 'rXrircaredpmm', 'rXrircarehr', 'rXrircarehrm', 'rXrircaren', 'rXriscare', 'rXriscaredpm', 'rXriscaredpmm', 'rXriscarehr', 'rXriscarehrm', 'rXrjudg', 'rXrorgnz', 'rXrpfcare', 'rXrpfcaredpm', 'rXrpfcaredpmm', 'rXrpfcarehr', 'rXrpfcarehrm', 'rXrpfcaren', 'rXrrcare', 'rXrrcaredpm', 'rXrrcaredpmm', 'rXrrcarehr', 'rXrrcarehrm', 'rXrrcaren', 'rXrscare', 'rXrscaredpm', 'rXrscaredpmm', 'rXrscarehr', 'rXrscarehrm', 'rXrxarthr', 'rXrxdiab', 'rXrxdiabi', 'rXrxdiabo', 'rXrxhibp', 'rXrxhrtat', 'rXrxresp', 'rXrxstrok', 'rXsatlife_m', 'rXsatlifez', 'rXser7', 'rXshlt', 'rXshop', 'rXshopa', 'rXshophlp', 'rXsight', 'rXsit', 'rXsita', 'rXsithght', 'rXsleepr', 'rXsletdow_m', 'rXslfemp', 'rXslfmem', 'rXsmokef', 'rXsmoken', 'rXsmokev', 'rXsocact_m', 'rXsocwk', 'rXsopenup_m', 'rXsrely_m', 'rXssic', 'rXssupport4_m', 'rXssupport4m_m', 'rXsthtcomp', 'rXsthtref', 'rXsthtsft', 'rXsthttryu', 'rXstoop', 'rXstoopa', 'rXstroke', 'rXstroklmt', 'rXstrtsmok', 'rXsustdfe_m', 'rXswell', 'rXsysto', 'rXsysto1', 'rXsysto2', 'rXtoilethlp', 'rXtoilt', 'rXtoilta', 'rXtpamt', 'rXtpany', 'rXtpflag', 'rXtr16', 'rXunemp', 'rXuppermob', 'rXuppermoba', 'rXuppermobm', 'rXurina2y', 'rXurincgh2y', 'rXurinurg2y', 'rXverbf', 'rXvigact', 'rXvscan', 'rXwakent', 'rXwakeup', 'rXwalk1', 'rXwalk1a', 'rXwalkaid_m', 'rXwalkcomp', 'rXwalkhlp', 'rXwalkothr', 'rXwalkr', 'rXwalkra', 'rXwalkre', 'rXwalkref', 'rXwalks', 'rXwalksa', 'rXwalksft', 'rXwalktryu', 'rXwander', 'rXwatcomp', 'rXweight', 'rXwghtref', 'rXwghtsft', 'rXwghttryu', 'rXwhappy', 'rXwheeze', 'rXwork', 'rXwspeed', 'rXwspeed1', 'rXwspeed2', 'rXwstref', 'rXwstsft', 'rXwsttryu', 'rXwtcomp', 'rXwthh', 'rXwtresp', 'rXyr', 'rabmonth', 'rabyear', 'radmonth', 'radyear', 'raedisced', 'raeducl', 'raedyrs', 'raevbrn', 'rafeduc_m', 'ragender', 'rahhidnp', 'raindlang', 'raliterate', 'rameduc_m', 'ranumerate', 'sXadla', 'sXadla_m', 'sXadlaa', 'sXadlaa_m', 'sXadlam', 'sXadlam_m', 'sXadlfive', 'sXadlfivea', 'sXadlfivem', 'sXadltot6', 'sXadltot6a', 'sXadltot6m', 'sXadlwa', 'sXadlwaa', 'sXadlwam', 'sXagey', 'sXalone', 'sXarms', 'sXarmsa', 'sXarthlmt', 'sXarthre', 'sXballf', 'sXballfcomp', 'sXballfsec', 'sXbalref', 'sXbalrt', 'sXbalrtcomp', 'sXbalrtsec', 'sXbalsft', 'sXbaltryu', 'sXbath', 'sXbatha', 'sXbathehlp', 'sXbed', 'sXbeda', 'sXbede', 'sXbedhlp', 'sXbinged', 'sXbmi', 'sXbmonth', 'sXbpcomp', 'sXbpref', 'sXbpsft', 'sXbreast', 'sXbreath_m', 'sXbwc20', 'sXbwc20_m', 'sXbyear', 'sXcage', 'sXcagem', 'sXcancre', 'sXcantril', 'sXcesd_m', 'sXcesdm_m', 'sXchair', 'sXchaira', 'sXchairhght', 'sXcholst', 'sXciqscore1', 'sXciqscore10', 'sXciqscore11', 'sXciqscore12', 'sXciqscore13', 'sXciqscore14', 'sXciqscore15', 'sXciqscore16', 'sXciqscore2', 'sXciqscore3', 'sXciqscore4', 'sXciqscore5', 'sXciqscore6', 'sXciqscore7', 'sXciqscore8', 'sXciqscore9', 'sXcjormscore', 'sXclim1', 'sXclim1a', 'sXclims', 'sXclimsa', 'sXcncrchem', 'sXcncrmeds', 'sXcncrothr', 'sXcncrradn', 'sXcncrsurg', 'sXcovr_m', 'sXcovs_m', 'sXdadage', 'sXdadliv', 'sXddraw1', 'sXddraw2', 'sXdecsib', 'sXdentim1y', 'sXdentst1y', 'sXdepres', 'sXdiabe', 'sXdiasto', 'sXdiasto1', 'sXdiasto2', 'sXdime', 'sXdimea', 'sXdlrc8', 'sXdmonth', 'sXdoctim1y', 'sXdoctor1y', 'sXdomhand', 'sXdress', 'sXdressa', 'sXdresshlp', 'sXdrink', 'sXdrinkb', 'sXdrinkbd', 'sXdrinkcr', 'sXdrinkcut', 'sXdrinkd', 'sXdrinkn', 'sXdrinknr', 'sXdy', 'sXdyear', 'sXeat', 'sXeata', 'sXeathlp', 'sXedisced', 'sXeducl', 'sXedyrs', 'sXeffort', 'sXenerg', 'sXenlife', 'sXevbrn', 'sXfall', 'sXfallinj', 'sXfallnum', 'sXfallslp', 'sXfatigue', 'sXfbwc20_m', 'sXfciqscore1', 'sXfciqscore10', 'sXfciqscore11', 'sXfciqscore12', 'sXfciqscore13', 'sXfciqscore14', 'sXfciqscore15', 'sXfciqscore16', 'sXfciqscore2', 'sXfciqscore3', 'sXfciqscore4', 'sXfciqscore5', 'sXfciqscore6', 'sXfciqscore7', 'sXfciqscore8', 'sXfciqscore9', 'sXfddraw1', 'sXfddraw2', 'sXfdlrc8', 'sXfdy', 'sXfeduc_m', 'sXfidraw1', 'sXfidraw2', 'sXfimrc8', 'sXfinea', 'sXfineaa', 'sXfineam', 'sXfletdow_m', 'sXflone', 'sXflstmnspd', 'sXflusht', 'sXfmo', 'sXfopenup_m', 'sXforient_m', 'sXfrely_m', 'sXfsad', 'sXfser7', 'sXfsupport4_m', 'sXfsupport4m_m', 'sXftired', 'sXftr16', 'sXftrhlp', 'sXfustdfe_m', 'sXfverbf', 'sXfvscan', 'sXfyr', 'sXgcaresck', 'sXgcaresckd_m', 'sXgender', 'sXgenderf', 'sXglasses', 'sXgripcomp', 'sXgripothr', 'sXgripref', 'sXgripsft', 'sXgripsum', 'sXgrossa', 'sXgrossaa', 'sXgrossam', 'sXhaluc', 'sXhearaid', 'sXhearing', 'sXhearte', 'sXheight', 'sXhenum', 'sXhghtref', 'sXhghtsft', 'sXhghttryu', 'sXhhidnp', 'sXhibpe', 'sXhigov', 'sXhip', 'sXhip50e', 'sXhip_m', 'sXhipcomp', 'sXhipref', 'sXhipriv', 'sXhipsft', 'sXhiptryu', 'sXhltc', 'sXhosp1y', 'sXhrtatlmt', 'sXhrtatte', 'sXhspnit1y', 'sXhtcomp', 'sXhystere', 'sXiadlfour', 'sXiadlfoura', 'sXiadlfourm', 'sXidraw1', 'sXidraw2', 'sXiearn', 'sXifearn', 'sXifgxfr', 'sXifothr', 'sXifpena', 'sXifpeno', 'sXifpent', 'sXifpubo', 'sXifpubpen', 'sXifsret', 'sXifssdi', 'sXigxfr', 'sXimrc8', 'sXindlang', 'sXinlbrf', 'sXiothr', 'sXipena', 'sXipeno', 'sXipent', 'sXipubo', 'sXipubpen', 'sXisret', 'sXissdi', 'sXiwf', 'sXiwm', 'sXiwstat', 'sXiwy', 'sXjcten', 'sXjhours', 'sXjhoursd', 'sXjlasty', 'sXjlocc_m', 'sXjog', 'sXjoga', 'sXjredhr', 'sXjrsleft', 'sXkletdow_m', 'sXkopenup_m', 'sXkrely_m', 'sXksupport4_m', 'sXksupport4m_m', 'sXkustdfe_m', 'sXlbrf_m', 'sXlchnot3', 'sXlexcl3', 'sXlgmusa', 'sXlgmusaa', 'sXlgmusam', 'sXlgrip', 'sXlgrip1', 'sXlgrip2', 'sXlideal3', 'sXlifein_m', 'sXlift', 'sXlifta', 'sXlimptt3', 'sXliterate', 'sXlivpar', 'sXlivsib', 'sXlost', 'sXlowermob', 'sXlowermoba', 'sXlowermobm', 'sXlsatsc3', 'sXlsatsc3m', 'sXlstmnspd', 'sXlstsf3', 'sXmammog', 'sXmbmi', 'sXmbmicat', 'sXmealhlp', 'sXmeals', 'sXmealsa', 'sXmedhlp', 'sXmeds', 'sXmedsa', 'sXmeduc_m', 'sXmheight', 'sXmhip', 'sXmo', 'sXmobila', 'sXmobilaa', 'sXmobilam', 'sXmobilsev', 'sXmobilseva', 'sXmobilsevm', 'sXmomage', 'sXmomliv', 'sXmoney', 'sXmoneya', 'sXmoneyhlp', 'sXmpart', 'sXmrct', 'sXmstat', 'sXmstath', 'sXmwaist', 'sXmweight', 'sXmwhratio', 'sXnagi10', 'sXnagi10a', 'sXnagi10m', 'sXnagi8', 'sXnagi8a', 'sXnagi8m', 'sXnopencil', 'sXnovisual', 'sXnumerate', 'sXoalchl', 'sXoangry', 'sXodngr', 'sXoopden1y', 'sXoopdenf1y', 'sXoopdoc1y', 'sXoopdocf1y', 'sXoopfhho1y', 'sXoopfhhof1y', 'sXoophos1y', 'sXoophosf1y', 'sXoopmd1y', 'sXoopmdf1y', 'sXooposrg1y', 'sXooposrgf1y', 'sXopace', 'sXopen', 'sXoplot', 'sXorient_m', 'sXosleep', 'sXoutpt1y', 'sXpaina', 'sXpainfr', 'sXpainlv', 'sXpapsm', 'sXpenage', 'sXpenic', 'sXpeninc', 'sXprchmem', 'sXprmem', 'sXprost', 'sXproxy', 'sXpstmem', 'sXpubage', 'sXpubpen', 'sXpulse', 'sXpulse1', 'sXpulse2', 'sXpush', 'sXpusha', 'sXquitsmok', 'sXracaany', 'sXracany', 'sXraccare', 'sXraccaredpm', 'sXraccaredpmm', 'sXraccarehr', 'sXraccarehrm', 'sXraccaren', 'sXrafaany', 'sXrafcare', 'sXrafcaredpm', 'sXrafcaredpmm', 'sXrafcarehr', 'sXrafcarehrm', 'sXrafcaren', 'sXrapfcare', 'sXrapfcaredpm', 'sXrapfcaredpmm', 'sXrapfcarehr', 'sXrapfcarehrm', 'sXrapfcaren', 'sXrarcare', 'sXrarcaredpm', 'sXrarcaredpmm', 'sXrarcarehr', 'sXrarcarehrm', 'sXrarcaren', 'sXrascare', 'sXrascaredpm', 'sXrascaredpmm', 'sXrascarehr', 'sXrascarehrm', 'sXrcaany', 'sXrcany', 'sXrccare', 'sXrccaredpm', 'sXrccaredpmm', 'sXrccarehr', 'sXrccarehrm', 'sXrccaren', 'sXreccancr', 'sXrechrtatt', 'sXrecstrok', 'sXrelgimp', 'sXrelgwk', 'sXrespe', 'sXresplmt', 'sXrested', 'sXretage', 'sXretemp', 'sXretyr', 'sXrfaany', 'sXrfcare', 'sXrfcaredpm', 'sXrfcaredpmm', 'sXrfcarehr', 'sXrfcarehrm', 'sXrfcaren', 'sXrfcnt', 'sXrfcntx_m', 'sXrgrip', 'sXrgrip1', 'sXrgrip2', 'sXricaany', 'sXricany', 'sXriccare', 'sXriccaredpm', 'sXriccaredpmm', 'sXriccarehr', 'sXriccarehrm', 'sXriccaren', 'sXrifaany', 'sXrifcare', 'sXrifcaredpm', 'sXrifcaredpmm', 'sXrifcarehr', 'sXrifcarehrm', 'sXrifcaren', 'sXripfcare', 'sXripfcaredpm', 'sXripfcaredpmm', 'sXripfcarehr', 'sXripfcarehrm', 'sXripfcaren', 'sXrircare', 'sXrircaredpm', 'sXrircaredpmm', 'sXrircarehr', 'sXrircarehrm', 'sXrircaren', 'sXriscare', 'sXriscaredpm', 'sXriscaredpmm', 'sXriscarehr', 'sXriscarehrm', 'sXrjudg', 'sXrorgnz', 'sXrpfcare', 'sXrpfcaredpm', 'sXrpfcaredpmm', 'sXrpfcarehr', 'sXrpfcarehrm', 'sXrpfcaren', 'sXrrcare', 'sXrrcaredpm', 'sXrrcaredpmm', 'sXrrcarehr', 'sXrrcarehrm', 'sXrrcaren', 'sXrscare', 'sXrscaredpm', 'sXrscaredpmm', 'sXrscarehr', 'sXrscarehrm', 'sXrxarthr', 'sXrxdiab', 'sXrxdiabi', 'sXrxdiabo', 'sXrxhibp', 'sXrxhrtat', 'sXrxresp', 'sXrxstrok', 'sXsatlife_m', 'sXsatlifez', 'sXser7', 'sXshlt', 'sXshop', 'sXshopa', 'sXshophlp', 'sXsight', 'sXsit', 'sXsita', 'sXsithght', 'sXsleepr', 'sXsletdow_m', 'sXslfemp', 'sXslfmem', 'sXsmokef', 'sXsmoken', 'sXsmokev', 'sXsocact_m', 'sXsocwk', 'sXsopenup_m', 'sXsrely_m', 'sXssic', 'sXssupport4_m', 'sXssupport4m_m', 'sXsthtcomp', 'sXsthtref', 'sXsthtsft', 'sXsthttryu', 'sXstoop', 'sXstoopa', 'sXstroke', 'sXstroklmt', 'sXstrtsmok', 'sXsustdfe_m', 'sXswell', 'sXsysto', 'sXsysto1', 'sXsysto2', 'sXtoilethlp', 'sXtoilt', 'sXtoilta', 'sXtpamt', 'sXtpany', 'sXtpflag', 'sXtr16', 'sXunemp', 'sXuppermob', 'sXuppermoba', 'sXuppermobm', 'sXurina2y', 'sXurincgh2y', 'sXurinurg2y', 'sXverbf', 'sXvigact', 'sXvscan', 'sXwakent', 'sXwakeup', 'sXwalk1', 'sXwalk1a', 'sXwalkaid_m', 'sXwalkcomp', 'sXwalkhlp', 'sXwalkothr', 'sXwalkr', 'sXwalkra', 'sXwalkre', 'sXwalkref', 'sXwalks', 'sXwalksa', 'sXwalksft', 'sXwalktryu', 'sXwander', 'sXwatcomp', 'sXweight', 'sXwghtref', 'sXwghtsft', 'sXwghttryu', 'sXwhappy', 'sXwheeze', 'sXwork', 'sXwspeed', 'sXwspeed1', 'sXwspeed2', 'sXwstref', 'sXwstsft', 'sXwsttryu', 'sXwtcomp', 'sXwtresp', 'sXyr', 'subhog_01', 'subhog_03', 'subhog_12', 'subhog_15', 'subhog_18', 'tipent_01', 'tipent_03', 'tipent_12', 'tipent_15', 'tipent_18', 'unhhid', 'unhhidnp']\n"
     ]
    }
   ],
   "source": [
    "elimins = [elimin_A, elimin_B, elimin_C, elimin_D, elimin_E, elimin_F, elimin_G, elimin_H, elimin_I, elimin_J, elimin_K, elimin_L, elimin_M, elimin_O, elimin_Q]\n",
    "\n",
    "h_mhas_c2_unified = data_utils.outline_dataframe(h_mhas_c2,elimins)\n",
    "print(h_mhas_c2_unified.columns.tolist())\n"
   ]
  },
  {
   "cell_type": "code",
   "execution_count": 19,
   "metadata": {},
   "outputs": [
    {
     "name": "stdout",
     "output_type": "stream",
     "text": [
      "  acthog  cX000cpindex  cX001cpindex  cX002cpindex  cX003cpindex  \\\n",
      "0     00           NaN           NaN           NaN           NaN   \n",
      "1     00           NaN           NaN           NaN           NaN   \n",
      "2     00           NaN           NaN           NaN           NaN   \n",
      "3     00           NaN           NaN           NaN           NaN   \n",
      "4     01           NaN           NaN           NaN           NaN   \n",
      "\n",
      "   cX011cpindex  cX012cpindex  cX013cpindex  cX014cpindex  cX015cpindex  ...  \\\n",
      "0           NaN           NaN           NaN           NaN           NaN  ...   \n",
      "1           NaN           NaN           NaN           NaN           NaN  ...   \n",
      "2           NaN           NaN           NaN           NaN           NaN  ...   \n",
      "3           NaN           NaN           NaN           NaN           NaN  ...   \n",
      "4           NaN           NaN           NaN           NaN           NaN  ...   \n",
      "\n",
      "   subhog_12  subhog_15  subhog_18  tipent_01  tipent_03  tipent_12  \\\n",
      "0        1.0       31.0       99.0       12.0       12.0        1.0   \n",
      "1        1.0       12.0       12.0       11.0       11.0        1.0   \n",
      "2        1.0        1.0       11.0       11.0       22.0        1.0   \n",
      "3        1.0        1.0       32.0       12.0       11.0        3.0   \n",
      "4        1.0        1.0        1.0       11.0       11.0        1.0   \n",
      "\n",
      "   tipent_15  tipent_18  unhhid  unhhidnp  \n",
      "0        NaN        NaN     1.0     110.0  \n",
      "1        1.0        1.0     1.0     120.0  \n",
      "2        1.0        1.0     2.0     210.0  \n",
      "3        3.0        NaN     2.0     220.0  \n",
      "4        1.0        1.0     3.0     310.0  \n",
      "\n",
      "[5 rows x 1290 columns]\n",
      "(134195, 1290)\n",
      "<class 'pandas.core.frame.DataFrame'>\n",
      "Int64Index: 134195 entries, 0 to 26838\n",
      "Columns: 1290 entries, acthog to unhhidnp\n",
      "dtypes: float64(1280), object(10)\n",
      "memory usage: 1.3+ GB\n"
     ]
    }
   ],
   "source": [
    "print(h_mhas_c2_unified.head())\n",
    "print(h_mhas_c2_unified.shape)\n",
    "h_mhas_c2_unified.info()"
   ]
  }
 ],
 "metadata": {
  "kernelspec": {
   "display_name": "testenv",
   "language": "python",
   "name": "python3"
  },
  "language_info": {
   "codemirror_mode": {
    "name": "ipython",
    "version": 3
   },
   "file_extension": ".py",
   "mimetype": "text/x-python",
   "name": "python",
   "nbconvert_exporter": "python",
   "pygments_lexer": "ipython3",
   "version": "3.10.11"
  }
 },
 "nbformat": 4,
 "nbformat_minor": 2
}
