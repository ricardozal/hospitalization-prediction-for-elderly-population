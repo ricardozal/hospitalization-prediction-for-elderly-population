{
 "cells": [
  {
   "cell_type": "markdown",
   "metadata": {},
   "source": [
    "# First Part\n",
    "### Data and Features\n",
    "The dataset H_MHAS_c2.sas7bdat has 26839 rows and 5241 features.\n",
    "\n",
    "SOME IMPORTANT INSIGHTS\n",
    "-   The first character of the majority of variables indicates whether the variable refers to the reference person (“r”), spouse (“s”), or household (“h”).\n",
    "-   The second character indicates the wave to which the variable pertains: “1”, “2”, “3”, “4”, “5”, or “A”. The “A” indicates “all,”\n",
    "\n",
    "All features are divided into the following sections.\n",
    "\n",
    "- SECTION A: DEMOGRAPHICS, IDENTIFIERS, AND WEIGHTS\n",
    "- SECTION B: HEALTH\n",
    "- SECTION C: HEALTH CARE UTILIZATION AND INSURANCE\n",
    "- SECTION D: COGNITION\n",
    "- SECTION E: FINANCIAL AND HOUSING WEALTH\n",
    "- SECTION F: INCOME\n",
    "- SECTION G: FAMILY STRUCTURE\n",
    "- SECTION H: EMPLOYMENT HISTORY\n",
    "- SECTION I: RETIREMENT\n",
    "- SECTION J: PENSION\n",
    "- SECTION K: PHYSICAL MEASURES\n",
    "- SECTION L: ASSISTANCE AND CAREGIVING\n",
    "- SECTION M: STRESS\n",
    "- SECTION O: END OF LIFE PLANNING\n",
    "- SECTION Q: PSYCHOSOCIAL\n",
    "\n",
    "We have decided to analyze the features by sections..."
   ]
  },
  {
   "cell_type": "code",
   "execution_count": 1,
   "metadata": {},
   "outputs": [
    {
     "name": "stderr",
     "output_type": "stream",
     "text": [
      "[H_MHAS_c2.sas7bdat] column count mismatch\n"
     ]
    },
    {
     "name": "stdout",
     "output_type": "stream",
     "text": [
      "the dataset has 26839 rows and 5241 features\n"
     ]
    }
   ],
   "source": [
    "# Import libraries\n",
    "from sas7bdat import SAS7BDAT\n",
    "\n",
    "import pandas as pd\n",
    "import numpy as np\n",
    "\n",
    "from src.section_dict import (\n",
    "    section_A, # A: DEMOGRAPHICS, IDENTIFIERS, AND WEIGHTS\n",
    "    section_B, # B: HEALTH\n",
    "    section_C, # C: HEALTH CARE UTILIZATION AND INSURANCE\n",
    "    section_D, # D: COGNITION\n",
    "    section_E, # E: FINANCIAL AND HOUSING WEALTH\n",
    "    section_F, # F: INCOME\n",
    "    section_G, # G: FAMILY STRUCTURE\n",
    "    section_H, # H: EMPLOYMENT HISTORY\n",
    "    section_I, # I: RETIREMENT\n",
    "    section_J, # J: PENSION\n",
    "    section_K, # K: PHYSICAL MEASURES\n",
    "    section_L, # L: ASSISTANCE AND CAREGIVING\n",
    "    section_M, # M: STRESS\n",
    "    section_O, # O: END OF LIFE PLANNING\n",
    "    section_Q  # Q: PSYCHOSOCIAL\n",
    ")\n",
    "# read the dataset from the file (470 MB)\n",
    "with SAS7BDAT('./dataset/H_MHAS_c2.sas7bdat') as file:\n",
    "    df = file.to_data_frame()\n",
    "\n",
    "print('the dataset has '+ str(df.shape[0]) + ' rows and ' + str(df.shape[1]) + ' features')"
   ]
  },
  {
   "cell_type": "markdown",
   "metadata": {},
   "source": [
    "As a first step, we check if all the columns extracted from the guide document are in the dataset..."
   ]
  },
  {
   "cell_type": "code",
   "execution_count": 2,
   "metadata": {},
   "outputs": [
    {
     "name": "stdout",
     "output_type": "stream",
     "text": [
      "The document shows 5237 features and the data has 5241 features.\n",
      "\n",
      "The 4 variables that are not in the document:\n",
      "['r2relgwk', 's2relgwk', 'r5riccaredpmm', 's1rpfcaredpm']\n"
     ]
    }
   ],
   "source": [
    "# Initialize an empty list to store the appended values\n",
    "Total_sections = []\n",
    "\n",
    "# Iterate over each dictionary and its values\n",
    "for section_dict in ( section_A, section_B, section_C, section_D, section_E, section_F, section_G, section_H, section_I, section_J, section_K, section_L, section_M, section_O, section_Q):\n",
    "    for values_list in section_dict.values():\n",
    "        # Extend the appended_values list with the values from the current list\n",
    "        Total_sections.extend(values_list)\n",
    "\n",
    "\n",
    "# all variables in the dataset...\n",
    "all_variables = df.columns.tolist()\n",
    "\n",
    "# Print the appended values\n",
    "print('The document shows ' + str(len(Total_sections)) +  ' features and the data has ' + str(len(all_variables)) + ' features.\\n')\n",
    "\n",
    "# Searching for variable names that are not in the document...\n",
    "variables_not_in_list = [variable for variable in all_variables if variable not in Total_sections]\n",
    "\n",
    "print('The ' + str(len(variables_not_in_list)) + ' variables that are not in the document:')\n",
    "print(variables_not_in_list)\n"
   ]
  },
  {
   "cell_type": "markdown",
   "metadata": {},
   "source": [
    "Since they are not in the PDF guide document, we can delete them."
   ]
  },
  {
   "cell_type": "code",
   "execution_count": 3,
   "metadata": {},
   "outputs": [
    {
     "data": {
      "text/plain": [
       "(26839, 5237)"
      ]
     },
     "execution_count": 3,
     "metadata": {},
     "output_type": "execute_result"
    }
   ],
   "source": [
    "df.drop(columns=variables_not_in_list,inplace=True)\n",
    "df.shape"
   ]
  },
  {
   "cell_type": "markdown",
   "metadata": {},
   "source": [
    "Another approach we can take at this stage is to look for null values; since the data were produced in an interview, many columns contain a high percentage of null data..."
   ]
  },
  {
   "cell_type": "code",
   "execution_count": 4,
   "metadata": {},
   "outputs": [
    {
     "name": "stdout",
     "output_type": "stream",
     "text": [
      "Top 20 columns with higher missing percentage:\n",
      "            Total  Missing Percentage\n",
      "s5penage    26835               100.0\n",
      "r3bpref     26839               100.0\n",
      "s3wghtsft   26827               100.0\n",
      "s3gripothr  26836               100.0\n",
      "s2penage    26827               100.0\n",
      "r5penage    26826               100.0\n",
      "s5dmonth    26839               100.0\n",
      "s5dyear     26839               100.0\n",
      "r3bpsft     26839               100.0\n",
      "s3bpsft     26839               100.0\n",
      "s3bpref     26839               100.0\n",
      "r3wghtref   26837               100.0\n",
      "s3walksft   26832               100.0\n",
      "s3walktryu  26832               100.0\n",
      "s3walkref   26832               100.0\n",
      "s3walkothr  26832               100.0\n",
      "r3gripsft   26833               100.0\n",
      "s3gripsft   26836               100.0\n",
      "r3gripref   26833               100.0\n",
      "s3gripref   26836               100.0\n",
      "s3wghttryu  26827               100.0\n",
      "r3gripothr  26833               100.0\n",
      "s3wghtref   26839               100.0\n",
      "s3hipref    26824                99.9\n",
      "r3wsttryu   26806                99.9\n"
     ]
    }
   ],
   "source": [
    "# Calculate the percentage of missing data for each column\n",
    "total_values = df.isnull().sum()\n",
    "\n",
    "missing_percentage = round((total_values / len(df)) * 100,1)\n",
    "\n",
    "# Create a DataFrame to store the results\n",
    "missing_data_df = pd.DataFrame({\n",
    "    'Total': total_values,\n",
    "    'Missing Percentage': missing_percentage\n",
    "})\n",
    "\n",
    "# Sort the DataFrame by missing percentage in descending order\n",
    "missing_data_df = missing_data_df.sort_values(by='Missing Percentage', ascending=False)\n",
    "\n",
    "# Display the top 20 columns with higher missing percentage\n",
    "top_missing_columns = missing_data_df.head(25)\n",
    "print(\"Top 20 columns with higher missing percentage:\")\n",
    "print(top_missing_columns)"
   ]
  },
  {
   "cell_type": "markdown",
   "metadata": {},
   "source": [
    "As we can see, many columns have 100% null data and others in a high percentage. For this reason, and as a first measure to clean the data, we decided to eliminate those columns with a percentage of null values higher than 90%.  "
   ]
  },
  {
   "cell_type": "code",
   "execution_count": 5,
   "metadata": {},
   "outputs": [
    {
     "name": "stdout",
     "output_type": "stream",
     "text": [
      "Are going to be eliminated 1753 columns with a percentage of null values than 90% or higher\n"
     ]
    },
    {
     "data": {
      "text/plain": [
       "(26839, 3484)"
      ]
     },
     "execution_count": 5,
     "metadata": {},
     "output_type": "execute_result"
    }
   ],
   "source": [
    "var_high_null_percentage = missing_data_df[missing_data_df['Missing Percentage']>90].index.tolist()\n",
    "print('Are going to be eliminated ' + str(len(var_high_null_percentage)) + ' columns with a percentage of null values than 90% or higher')\n",
    "\n",
    "df.drop(columns=var_high_null_percentage,inplace=True)\n",
    "df.shape"
   ]
  },
  {
   "cell_type": "markdown",
   "metadata": {},
   "source": [
    "1753 features meet this condition, i.e. we have eliminated 33 % of the columns\n",
    "We now have 3484 features for our model. <br>\n",
    "As mentioned before, the Exploratory Analysis of the EDA data will be done by sections (15 in total), in order to be aligned with the guidance document."
   ]
  },
  {
   "cell_type": "markdown",
   "metadata": {},
   "source": [
    "<span style=\"font-size:0.8em;\">\n",
    "\n",
    "<h3><center> EDA Section A - DEMOGRAPHICS, IDENTIFIERS, AND WEIGHTS </center></h3>\n",
    "\n",
    "This section consists of 26 subsections (245 features) which are shown below:\n",
    "\n",
    "-  Person Specific Identifier\n",
    "-  Household Identifier\n",
    "-  Spouse Identifier\n",
    "-  Wave Status: Response Indicator\n",
    "-  Wave Status: Interview Status\n",
    "-  Sample Cohort\n",
    "-  Whether Proxy Interview\n",
    "-  Number of Household Respondents\n",
    "-  Whether Couple Household\n",
    "-  Household Analysis Weight\n",
    "-  Person-Level Analysis Weight\n",
    "-  Interview Dates\n",
    "-  Birth Date: Month and Year\n",
    "-  Death Date: Month and Year\n",
    "-  Age at Interview (Months and Years)\n",
    "-  Gender\n",
    "-  Education\n",
    "-  Education: Categories by ISCED Codes\n",
    "-  Education: Harmonized Education\n",
    "-  Literacy and Numeracy\n",
    "-  Indigenous Language\n",
    "-  Current Marital Status: Current Partnership Status\n",
    "-  Current Marital Status: With Partnership\n",
    "-  Current Marital Status: Without Partnership\n",
    "-  Number of Marriages\n",
    "-  Urban or Rural\n",
    "</span>"
   ]
  },
  {
   "cell_type": "markdown",
   "metadata": {},
   "source": []
  },
  {
   "cell_type": "code",
   "execution_count": null,
   "metadata": {},
   "outputs": [],
   "source": []
  },
  {
   "cell_type": "markdown",
   "metadata": {},
   "source": [
    "<span style=\"font-size:0.8em;\">\n",
    "\n",
    "<h3><center> EDA Section B - HEALTH </center></h3>\n",
    "\n",
    "This section consists of 27 subsections (1624 features) which are shown below:\n",
    "\n",
    "-  Self-Report of Health\n",
    "-  Activities of Daily Living (ADLs): Raw Recodes\n",
    "-  Activities of Daily Living (ADLs): Some Difficulty\n",
    "-  Instrumental Activities of Daily Living (IADLs): Raw Recodes\n",
    "-  Instrumental Activities of Daily Living (IADLs): Some Difficulty\n",
    "-  Other Functional Limitations: Raw Recodes\n",
    "-  Other Functional Limitations: Some Difficulty\n",
    "-  ADL Summary: Sum ADLs Where Respondent Reports Any Difficulty\n",
    "-  IADL Summary: Sum IADLs Where Respondent Reports Any Difficulty\n",
    "-  Other Summary Indices: Mobility, Large Muscle, Gross, Fine Motor, Total, Upper, Lower Body Mobility, and NAGI Activities\n",
    "-  Doctor Diagnosed Health Problems: Ever Have Condition\n",
    "-  Doctor Diagnosed Diseases: Whether Receives Treatment or Medication for Disease\n",
    "-  Doctor Diagnosed Diseases: Whether Disease Limits Activity\n",
    "-  Doctor Diagnosed Diseases: Age of Diagnosis\n",
    "-  Vision\n",
    "-  Hearing\n",
    "-  Falls\n",
    "-  Urinary Incontinence\n",
    "-  Persistent Health Problems\n",
    "-  Sleep\n",
    "-  Pain\n",
    "-  Menopause\n",
    "-  BMI\n",
    "-  Health Behaviors: Physical Activity or Exercise\n",
    "-  Health Behaviors: Drinking\n",
    "-  Health Behaviors: Smoking (Cigarettes)\n",
    "-  Health Behaviors: Preventive Care\n",
    "</span>"
   ]
  },
  {
   "cell_type": "markdown",
   "metadata": {},
   "source": []
  },
  {
   "cell_type": "code",
   "execution_count": null,
   "metadata": {},
   "outputs": [],
   "source": []
  },
  {
   "cell_type": "markdown",
   "metadata": {},
   "source": [
    "<span style=\"font-size:0.8em;\">\n",
    "\n",
    "<h3><center> EDA Section C - HEALTH CARE UTILIZATION AND INSURANCE </center></h3>\n",
    "\n",
    "This section consists of 8 subsections (236 features) which are shown below:\n",
    "\n",
    "-  Medical Care Utilization: Hospital\n",
    "-  Medical Care Utilization: Doctor\n",
    "-  Medical Care Utilization: Other Medical Care Utilization\n",
    "-  Medical Expenditures: Out of Pocket and Total\n",
    "-  Covered by Federal Government Health Insurance Program\n",
    "-  Covered by Private Health Insurance\n",
    "-  Covered by Health Insurance from a Current or Previous Employer\n",
    "-  Number of Health Insurance Plans\n",
    "</span>"
   ]
  },
  {
   "cell_type": "markdown",
   "metadata": {},
   "source": []
  },
  {
   "cell_type": "code",
   "execution_count": null,
   "metadata": {},
   "outputs": [],
   "source": []
  },
  {
   "cell_type": "markdown",
   "metadata": {},
   "source": [
    "<span style=\"font-size:0.8em;\">\n",
    "\n",
    "<h3><center> EDA Section D: COGNITION </center></h3>\n",
    "\n",
    "This section consists of 15 subsections (706 features) which are shown below:\n",
    " \n",
    "-  Cognition Testing Conditions\n",
    "-  Self-Reported Memory\n",
    "-  Immediate Word Recall\n",
    "-  Delayed Word Recall\n",
    "-  Summary Scores\n",
    "-  Picture Drawing\n",
    "-  Verbal Fluency\n",
    "-  Visual Scanning\n",
    "-  Backwards Counting From 20\n",
    "-  Date Naming/Orientation\n",
    "-  Serial 7’s\n",
    "-  Proxy Cognition: JORM IQCODE\n",
    "-  Proxy Cognition: Ratings of Memory and Abilities\n",
    "-  Proxy Cognition: Cognitive Impairment\n",
    "-  Proxy Cognition: Problem Behaviors in Past Week\n",
    "</span>"
   ]
  },
  {
   "cell_type": "markdown",
   "metadata": {},
   "source": []
  },
  {
   "cell_type": "code",
   "execution_count": null,
   "metadata": {},
   "outputs": [],
   "source": []
  },
  {
   "cell_type": "markdown",
   "metadata": {},
   "source": [
    "<span style=\"font-size:0.8em;\">\n",
    "\n",
    "<h3><center> EDA Section E - FINANCIAL AND HOUSING WEALTH </center></h3>\n",
    "\n",
    "This section consists of 15 subsections (148 features) which are shown below:\n",
    "\n",
    "-  Inflation Multiplier\n",
    "-  Net Value of Real Estate (Not Primary Residence)\n",
    "-  Net Value of Cars\n",
    "-  Net Value of Businesses \n",
    "-  Value of Stocks, Shares, and Bonds\n",
    "-  Value of Checking, Savings Accounts\n",
    "-  Value of Other Assets\n",
    "-  Value of Primary Residence\n",
    "-  Value of All Mortgages (Primary Residence)\n",
    "-  Net Value of Primary Residence\n",
    "-  Home ownership\n",
    "-  Value of Other Debt\n",
    "-  Value of Loans Lent\n",
    "-  Net Value of Non-Housing Financial Wealth (Excluding IRAs)\n",
    "-  Total Wealth\n",
    "\n",
    "</span>"
   ]
  },
  {
   "cell_type": "markdown",
   "metadata": {},
   "source": []
  },
  {
   "cell_type": "code",
   "execution_count": null,
   "metadata": {},
   "outputs": [],
   "source": []
  },
  {
   "cell_type": "markdown",
   "metadata": {},
   "source": [
    "<span style=\"font-size:0.8em;\">\n",
    "\n",
    "<h3><center> EDA Section F - INCOME </center></h3>\n",
    "\n",
    "This section consists of 10 subsections (212 features) which are shown below:\n",
    "\n",
    "-  Individual Earnings\n",
    "-  Household Capital Income\n",
    "-  Individual Income from Private Pension\n",
    "-  Individual Public Pension Income\n",
    "-  Individual Other Pensions Income\n",
    "-  Individual Total Pensions Income\n",
    "-  Individual Income from Other Government Transfers\n",
    "-  All Other Income\n",
    "-  Total Household Income (respondent & spouse)\n",
    "-  Total Household Consumption (full household)\n",
    "</span>"
   ]
  },
  {
   "cell_type": "markdown",
   "metadata": {},
   "source": []
  },
  {
   "cell_type": "code",
   "execution_count": null,
   "metadata": {},
   "outputs": [],
   "source": []
  },
  {
   "cell_type": "markdown",
   "metadata": {},
   "source": [
    "<span style=\"font-size:0.8em;\">\n",
    "\n",
    "<h3><center> EDA Section G - FAMILY STRUCTURE </center></h3>\n",
    "\n",
    "This section consists of 19 subsections (223 features) which are shown below:\n",
    "\n",
    "-  Number of People Living in Household\n",
    "-  Number of Living Children\n",
    "-  Number of Deceased Children\n",
    "-  Number of Children Ever Born\n",
    "-  Number of Grandchildren\n",
    "-  Number of Living Siblings\n",
    "-  Number of Deceased Siblings\n",
    "-  Number of Living Parents\n",
    "-  Parental Mortality\n",
    "-  Parents' Current Age or Age at Death\n",
    "-  Parents' Education\n",
    "-  Any Child Co-Resides with Respondent\n",
    "-  Any Children Living in the Same City\n",
    "-  Any Weekly Contact with Children\n",
    "-  Frequent or Weekly Contact with Relatives and Friends\n",
    "-  Any Weekly Social Activities or Participate in Religious Groups\n",
    "-  Financial Transfer from Children\n",
    "-  Financial Transfer to Children\n",
    "-  Financial Transfer to Parents\n",
    "</span>"
   ]
  },
  {
   "cell_type": "markdown",
   "metadata": {},
   "source": []
  },
  {
   "cell_type": "code",
   "execution_count": null,
   "metadata": {},
   "outputs": [],
   "source": []
  },
  {
   "cell_type": "markdown",
   "metadata": {},
   "source": [
    "<span style=\"font-size:0.8em;\">\n",
    "\n",
    "<h3><center> EDA Section H - EMPLOYMENT HISTORY </center></h3>\n",
    "\n",
    "This section consists of 12 subsections (110 features) which are shown below:\n",
    "\n",
    "-  Currently Working for Pay\n",
    "-  Whether Self-Employed\n",
    "-  Labor Force Status\n",
    "-  In the Labor Force\n",
    "-  Unemployment Status\n",
    "-  Retired Employment Status\n",
    "-  Hours at Main Job\n",
    "-  Main Activity Years of Tenure\n",
    "-  Job Allows Move to Less Demanding Work\n",
    "-  Occupation Code for Job with Longest Reported Tenure\n",
    "-  Year Last Job Ended\n",
    "-  Reason Job Ended\n",
    "</span>"
   ]
  },
  {
   "cell_type": "markdown",
   "metadata": {},
   "source": []
  },
  {
   "cell_type": "code",
   "execution_count": null,
   "metadata": {},
   "outputs": [],
   "source": []
  },
  {
   "cell_type": "markdown",
   "metadata": {},
   "source": [
    "<span style=\"font-size:0.8em;\">\n",
    "\n",
    "<h3><center> EDA Section I - RETIREMENT </center></h3>\n",
    "\n",
    "This section consists of 2 subsections (16 features) which are shown below:\n",
    "\n",
    "-  Whether Retired: Retirement year, if says retired\n",
    "-  Whether Retired: Retirement age, if says retired\n",
    "</span>"
   ]
  },
  {
   "cell_type": "markdown",
   "metadata": {},
   "source": []
  },
  {
   "cell_type": "code",
   "execution_count": null,
   "metadata": {},
   "outputs": [],
   "source": []
  },
  {
   "cell_type": "markdown",
   "metadata": {},
   "source": [
    "<span style=\"font-size:0.8em;\">\n",
    "\n",
    "<h3><center> EDA Section J - PENSION </center></h3>\n",
    "\n",
    "This section consists of 7 subsections (54 features) which are shown below:\n",
    "\n",
    "-  Whether Receives Public Pension\n",
    "-  Whether Receives Private Pension\n",
    "-  Whether Receives Other Pension\n",
    "-  Age When Started to Receive a Public Pension\n",
    "-  Age When Started to Receive a Private Pension\n",
    "-  Whether Current Public Pension(s) Can Continue\n",
    "-  Whether Current Private Pension Can Continue\n",
    "</span>"
   ]
  },
  {
   "cell_type": "markdown",
   "metadata": {},
   "source": []
  },
  {
   "cell_type": "code",
   "execution_count": null,
   "metadata": {},
   "outputs": [],
   "source": []
  },
  {
   "cell_type": "markdown",
   "metadata": {},
   "source": [
    "<span style=\"font-size:0.8em;\">\n",
    "\n",
    "<h3><center> EDA Section K - PHYSICAL MEASURES </center></h3>\n",
    "\n",
    "This section consists of 8 subsections (282 features) which are shown below:\n",
    " \n",
    "-  Height, Weight, Waist and Hip Circumference Measurements\n",
    "-  Height, Weight, Waist and Hip Circumference Measurements: Reason Didn't Complete\n",
    "-  Sitting Height\n",
    "-  Sitting Height: Reason Didn't Complete\n",
    "-  Balance Test\n",
    "-  Balance Test: Reason Didn't Complete\n",
    "-  Blood Pressure Measurements\n",
    "-  Blood Pressure Measurements: Reason Didn't Complete\n",
    "-  Timed Walk Measurements\n",
    "-  Timed Walk Measurements: Reason Didn't Complete\n",
    "-  Hand Grip Strength Measurements\n",
    "-  Hand Grip Strength Measurements: Reason Didn't Complete\n",
    "</span>"
   ]
  },
  {
   "cell_type": "markdown",
   "metadata": {},
   "source": []
  },
  {
   "cell_type": "code",
   "execution_count": null,
   "metadata": {},
   "outputs": [],
   "source": []
  },
  {
   "cell_type": "markdown",
   "metadata": {},
   "source": [
    "<span style=\"font-size:0.8em;\">\n",
    "\n",
    "<h3><center> EDA Section L - ASSISTANCE AND CAREGIVING </center></h3>\n",
    "\n",
    "This section consists of 31 subsections (1103 features) which are shown below:\n",
    " \n",
    "-  ADL Help\n",
    "-  IADL Help\n",
    "-  Whether Uses Personal Aids\n",
    "-  Future ADL Help\n",
    "-  Activities of Daily Living: Whether Receives Any Care\n",
    "-  Activities of Daily Living: Whether Receives Any Informal Care\n",
    "-  Activities of Daily Living: Receives Informal Care from Spouse\n",
    "-  Activities of Daily Living: Receives Informal Care from Children or Grandchildren\n",
    "-  Activities of Daily Living: Receives Informal Care from Relatives\n",
    "-  Activities of Daily Living: Receives Informal Care from Other Individuals\n",
    "-  Activities of Daily Living: Whether Receives Any Formal Care\n",
    "-  Activities of Daily Living: Receives Formal Care from Paid Professional\n",
    "-  Instrumental Activities of Daily Living: Whether Receives Any Care\n",
    "-  Instrumental Activities of Daily Living: Whether Receives Any Informal Care\n",
    "-  Instrumental Activities of Daily Living: Receives Informal Care from Spouse\n",
    "-  Instrumental Activities of Daily Living: Receives Informal Care from Children or Grandchildren\n",
    "-  Instrumental Activities of Daily Living: Receives Informal Care from Relatives\n",
    "-  Instrumental Activities of Daily Living: Receives Informal Care from Other Individuals\n",
    "-  Instrumental Activities of Daily Living: Whether Receives Any Formal Care\n",
    "-  Instrumental Activities of Daily Living: Receives Formal Care from Paid Professional\n",
    "-  Activities of Daily Living and Instrumental Activities of Daily Living: Whether Receives Any Care\n",
    "-  Activities of Daily Living and Instrumental Activities of Daily Living: Whether Receives Any Informal Care\n",
    "-  Activities of Daily Living and Instrumental Activities of Daily Living: Receives Informal Care from Spouse\n",
    "-  Activities of Daily Living and Instrumental Activities of Daily Living: Receives Informal Care from Children or Grandchildren\n",
    "-  Activities of Daily Living and Instrumental Activities of Daily Living: Receives Informal Care from Relatives\n",
    "-  Activities of Daily Living and Instrumental Activities of Daily Living: Receives Informal Care from Other Individuals\n",
    "-  Activities of Daily Living and Instrumental Activities of Daily Living: Whether Receives Any Formal Care\n",
    "-  Activities of Daily Living and Instrumental Activities of Daily Living: Receives Formal Care from Paid Professional\n",
    "-  Receives Help with Chores from Children or Grandchildren\n",
    "-  Provides Informal Care to Children or Grandchildren\n",
    "-  Provides Personal Care to Parents\n",
    "-  Provides Informal Care for Sick or Disabled Adults\n",
    "</span>"
   ]
  },
  {
   "cell_type": "markdown",
   "metadata": {},
   "source": []
  },
  {
   "cell_type": "code",
   "execution_count": null,
   "metadata": {},
   "outputs": [],
   "source": []
  },
  {
   "cell_type": "markdown",
   "metadata": {},
   "source": [
    "<span style=\"font-size:0.8em;\">\n",
    "\n",
    "<h3><center> EDA Section M - STRESS </center></h3>\n",
    "\n",
    "This section consists of 4 subsections (77 features) which are shown below:\n",
    "  \n",
    "-  Social Support: Spouse\n",
    "-  Social Support: Children\n",
    "-  Social Support: Friends\n",
    "-  Experienced Death of a Child\n",
    "</span>"
   ]
  },
  {
   "cell_type": "markdown",
   "metadata": {},
   "source": []
  },
  {
   "cell_type": "code",
   "execution_count": null,
   "metadata": {},
   "outputs": [],
   "source": []
  },
  {
   "cell_type": "markdown",
   "metadata": {},
   "source": [
    "<span style=\"font-size:0.8em;\">\n",
    "\n",
    "<h3><center> EDA Section O - END OF LIFE PLANNING </center></h3>\n",
    "\n",
    "This section consists of 3 subsections (33 features) which are shown below:\n",
    "\n",
    "-  Will: Whether Has a Will\n",
    "-  Will: Beneficiaries of Will\n",
    "-  Covered by Life Insurance\n",
    "</span>"
   ]
  },
  {
   "cell_type": "markdown",
   "metadata": {},
   "source": []
  },
  {
   "cell_type": "code",
   "execution_count": null,
   "metadata": {},
   "outputs": [],
   "source": []
  },
  {
   "cell_type": "markdown",
   "metadata": {},
   "source": [
    "<span style=\"font-size:0.8em;\">\n",
    "\n",
    "<h3><center> EDA Section Q - PSYCHOSOCIAL </center></h3>\n",
    "\n",
    "This section consists of 8 subsections (166 features) which are shown below:\n",
    "\n",
    "-  Depressive Symptoms: CESD\n",
    "-  Satisfaction with Life Scale\n",
    "-  Single Life Satisfaction Question\n",
    "-  Cantril Ladder\n",
    "</span>"
   ]
  },
  {
   "cell_type": "markdown",
   "metadata": {},
   "source": []
  }
 ],
 "metadata": {
  "kernelspec": {
   "display_name": "testenv",
   "language": "python",
   "name": "python3"
  },
  "language_info": {
   "codemirror_mode": {
    "name": "ipython",
    "version": 3
   },
   "file_extension": ".py",
   "mimetype": "text/x-python",
   "name": "python",
   "nbconvert_exporter": "python",
   "pygments_lexer": "ipython3",
   "version": "3.10.11"
  }
 },
 "nbformat": 4,
 "nbformat_minor": 2
}
