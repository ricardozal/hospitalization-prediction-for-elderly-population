{
 "cells": [
  {
   "cell_type": "markdown",
   "metadata": {},
   "source": []
  },
  {
   "cell_type": "code",
   "execution_count": 1,
   "metadata": {},
   "outputs": [
    {
     "name": "stderr",
     "output_type": "stream",
     "text": [
      "[H_MHAS_c2.sas7bdat] column count mismatch\n"
     ]
    }
   ],
   "source": [
    "import pandas as pd\n",
    "from sas7bdat import SAS7BDAT\n",
    "\n",
    "with SAS7BDAT('./dataset/H_MHAS_c2.sas7bdat') as file:\n",
    "    df = file.to_data_frame()\n",
    "\n",
    "# print the dataframe\n",
    "#print(df.head())\n",
    "#df.info()"
   ]
  },
  {
   "cell_type": "markdown",
   "metadata": {},
   "source": []
  },
  {
   "cell_type": "code",
   "execution_count": 5,
   "metadata": {},
   "outputs": [
    {
     "data": {
      "text/plain": [
       "245"
      ]
     },
     "execution_count": 5,
     "metadata": {},
     "output_type": "execute_result"
    }
   ],
   "source": [
    "# SECTION A: DEMOGRAPHICS, IDENTIFIERS, AND WEIGHTS (245 features)\n",
    "\n",
    "# Person Specific Identifier\n",
    "Demog1=['codent01','codent03','ps3','ent2','np','unhhidnp','rahhidnp','tipent_01','tipent_03','tipent_12','tipent_15','tipent_18']\n",
    "# Household Identifier\n",
    "Demog2=['h1hhid', 'h2hhid', 'h3hhid', 'h4hhid', 'h5hhid', 'h1hhidc', 'h2hhidc', 'h3hhidc', 'h4hhidc', 'h5hhidc', 'acthog', 'subhog_01', 'subhog_03', 'subhog_12', 'subhog_15', 'subhog_18']\n",
    "# Spouse Identifier\n",
    "Demog3=['s1hhidnp', 's2hhidnp', 's3hhidnp', 's4hhidnp', 's5hhidnp']\n",
    "# Wave Status: Response Indicator\n",
    "Demog4=['inw1', 'inw2', 'inw3', 'inw4', 'inw5']\n",
    "# Wave Status: Interview Status\n",
    "Demog5=['r1iwstat', 'r2iwstat', 'r3iwstat', 'r4iwstat', 'r5iwstat', 's1iwstat', 's2iwstat', 's3iwstat', 's4iwstat', 's5iwstat']\n",
    "# Sample Cohort\n",
    "Demog6=['hacohort']\n",
    "# Whether Proxy Interview\n",
    "Demog7=['r1proxy', 'r2proxy', 'r3proxy', 'r4proxy', 'r5proxy', 's1proxy', 's2proxy', 's3proxy', 's4proxy', 's5proxy']\n",
    "# Number of Household Respondents\n",
    "Demog8=['h1hhresp', 'h2hhresp', 'h3hhresp', 'h4hhresp', 'h5hhresp']\n",
    "# Whether Couple Household\n",
    "Demog9=['h1cpl', 'h2cpl', 'h3cpl', 'h4cpl', 'h5cpl']\n",
    "# Household Analysis Weight\n",
    "Demog10=['r1wthh', 'r2wthh', 'r3wthh', 'r4wthh', 'r5wthh']\n",
    "# Person-Level Analysis Weight\n",
    "Demog11=['r1wtresp', 'r2wtresp', 'r3wtresp', 'r4wtresp', 'r5wtresp', 's1wtresp', 's2wtresp', 's3wtresp', 's4wtresp', 's5wtresp']\n",
    "# Interview Dates\n",
    "Demog12=['r1iwm', 'r2iwm', 'r3iwm', 'r4iwm', 'r5iwm', 's1iwm', 's2iwm', 's3iwm', 's4iwm', 's5iwm', 'r1iwy', 'r2iwy', 'r3iwy', 'r4iwy', 'r5iwy', 's1iwy', 's2iwy', 's3iwy', 's4iwy', 's5iwy', 'r1iwf', 'r2iwf', 'r3iwf', 'r4iwf', 'r5iwf', 's1iwf', 's2iwf', 's3iwf', 's4iwf', 's5iwf']\n",
    "# Birth Date: Month and Year\n",
    "Demog13=['rabyear', 's1byear', 's2byear', 's3byear', 's4byear', 's5byear', 'rabmonth', 's1bmonth', 's2bmonth', 's3bmonth', 's4bmonth', 's5bmonth']\n",
    "# Death Date: Month and Year\n",
    "Demog14=['radyear', 's1dyear', 's2dyear', 's3dyear', 's4dyear', 's5dyear', 'radmonth', 's1dmonth', 's2dmonth', 's3dmonth', 's4dmonth', 's5dmonth']\n",
    "# Age at Interview (Months and Years)\n",
    "Demog15=['r1agey', 'r2agey', 'r3agey', 'r4agey', 'r5agey', 's1agey', 's2agey', 's3agey', 's4agey', 's5agey']\n",
    "# Gender\n",
    "Demog16=['ragender', 's1gender', 's2gender', 's3gender', 's4gender', 's5gender', 'r2genderf', 'r3genderf', 'r4genderf', 'r5genderf', 's2genderf', 's3genderf', 's4genderf', 's5genderf']\n",
    "# Education\n",
    "Demog17=['raedyrs', 's1edyrs', 's2edyrs', 's3edyrs', 's4edyrs', 's5edyrs']\n",
    "# Education: Categories by ISCED Codes\n",
    "Demog18=['raedisced', 's1edisced', 's2edisced', 's3edisced', 's4edisced', 's5edisced']\n",
    "# Education: Harmonized Education\n",
    "Demog19=['raeducl', 's1educl', 's2educl', 's3educl', 's4educl', 's5educl']\n",
    "# Literacy and Numeracy\n",
    "Demog20=['raliterate', 's1literate', 's2literate', 's3literate', 's4literate', 's5literate', 'ranumerate', 's1numerate', 's2numerate', 's3numerate', 's4numerate', 's5numerate']\n",
    "# Indigenous Language\n",
    "Demog21=['raindlang', 's1indlang', 's3indlang', 's4indlang', 's5indlang']\n",
    "# Current Marital Status: Current Partnership Status\n",
    "Demog22=['r1mpart', 'r2mpart', 'r3mpart', 'r4mpart', 'r5mpart', 's1mpart', 's2mpart', 's3mpart', 's4mpart', 's5mpart']\n",
    "# Current Marital Status: With Partnership\n",
    "Demog23=['r1mstat', 'r2mstat', 'r3mstat', 'r4mstat', 'r5mstat', 's1mstat', 's2mstat', 's3mstat', 's4mstat', 's5mstat']\n",
    "# Current Marital Status: Without Partnership\n",
    "Demog24=['r1mstath', 'r2mstath', 'r3mstath', 'r4mstath', 'r5mstath', 's1mstath', 's2mstath', 's3mstath', 's4mstath', 's5mstath']\n",
    "# Number of Marriages\n",
    "Demog25=['r1mrct', 'r2mrct', 'r3mrct', 'r4mrct', 'r5mrct', 's1mrct', 's2mrct', 's3mrct', 's4mrct', 's5mrct']\n",
    "# Urban or Rural\n",
    "Demog26=['h1rural', 'h3rural', 'h4rural', 'h5rural', 'h1rural_m', 'h3rural_m', 'h4rural_m', 'h5rural_m']\n",
    "# Total of features\n",
    "section_A = Demog1 + Demog2 + Demog3 + Demog4 + Demog5 + Demog6 + Demog7 + Demog8 + Demog9 + Demog10 + Demog11 + Demog12 + Demog13 + Demog14 + Demog15 + Demog16 + Demog17 + Demog18 + Demog19 + Demog20 + Demog21 + Demog22 + Demog23 + Demog24 + Demog25 + Demog26\n",
    "\n",
    "print(df[section_A].head())\n"
   ]
  },
  {
   "cell_type": "code",
   "execution_count": 3,
   "metadata": {},
   "outputs": [
    {
     "name": "stdout",
     "output_type": "stream",
     "text": [
      "   r1shlt  r2shlt  r3shlt  r4shlt  r5shlt  s1shlt  s2shlt  s3shlt  s4shlt  \\\n",
      "0     5.0     2.0     5.0     NaN     NaN     4.0     4.0     3.0     NaN   \n",
      "1     4.0     4.0     3.0     3.0     3.0     5.0     2.0     5.0     NaN   \n",
      "2     5.0     NaN     4.0     4.0     3.0     3.0     4.0     NaN     NaN   \n",
      "3     3.0     4.0     NaN     NaN     NaN     5.0     NaN     4.0     4.0   \n",
      "4     3.0     3.0     4.0     3.0     3.0     NaN     3.0     3.0     4.0   \n",
      "\n",
      "   s5shlt  r1hltc  r2hltc  r3hltc  r4hltc  r5hltc  s1hltc  s2hltc  s3hltc  \\\n",
      "0     NaN     4.0     3.0     4.0     NaN     NaN     4.0     3.0     3.0   \n",
      "1     NaN     4.0     3.0     3.0     3.0     3.0     4.0     3.0     4.0   \n",
      "2     NaN     4.0     NaN     3.0     2.0     3.0     3.0     3.0     NaN   \n",
      "3     NaN     3.0     3.0     NaN     NaN     NaN     4.0     NaN     3.0   \n",
      "4     3.0     3.0     3.0     3.0     3.0     3.0     NaN     3.0     2.0   \n",
      "\n",
      "   s4hltc  s5hltc  \n",
      "0     NaN     NaN  \n",
      "1     NaN     NaN  \n",
      "2     NaN     NaN  \n",
      "3     2.0     NaN  \n",
      "4     2.0     3.0  \n"
     ]
    }
   ],
   "source": [
    "# SECTION B: HEALTH (20 features)\n",
    "# Self-Report of Health\n",
    "Health1 =['r1shlt', 'r2shlt', 'r3shlt', 'r4shlt', 'r5shlt', 's1shlt', 's2shlt', 's3shlt', 's4shlt', 's5shlt','r1hltc', 'r2hltc', 'r3hltc', 'r4hltc', 'r5hltc', 's1hltc', 's2hltc', 's3hltc', 's4hltc', 's5hltc']\n",
    "\n",
    "\n",
    "\n",
    "print(df[Health].head())"
   ]
  },
  {
   "cell_type": "code",
   "execution_count": 4,
   "metadata": {},
   "outputs": [
    {
     "name": "stdout",
     "output_type": "stream",
     "text": [
      "   r1hosp1y  r2hosp1y  r3hosp1y  r4hosp1y  r5hosp1y  s1hosp1y  s2hosp1y  \\\n",
      "0       1.0       0.0       0.0       NaN       NaN       0.0       0.0   \n",
      "1       0.0       0.0       0.0       0.0       0.0       1.0       0.0   \n",
      "2       0.0       0.0       0.0       0.0       1.0       0.0       0.0   \n",
      "3       0.0       0.0       0.0       1.0       NaN       0.0       0.0   \n",
      "4       0.0       0.0       0.0       0.0       0.0       NaN       1.0   \n",
      "\n",
      "   s3hosp1y  s4hosp1y  s5hosp1y  r1hspnit1y  r2hspnit1y  r3hspnit1y  \\\n",
      "0       0.0       NaN       NaN         1.0         0.0         0.0   \n",
      "1       0.0       NaN       NaN         0.0         0.0         0.0   \n",
      "2       0.0       1.0       NaN         0.0         0.0         0.0   \n",
      "3       0.0       0.0       NaN         0.0         0.0         0.0   \n",
      "4       1.0       0.0       0.0         0.0         0.0         0.0   \n",
      "\n",
      "   r4hspnit1y  r5hspnit1y  s1hspnit1y  s2hspnit1y  s3hspnit1y  s4hspnit1y  \\\n",
      "0         NaN         NaN         0.0         0.0         0.0         NaN   \n",
      "1         0.0         0.0         1.0         0.0         0.0         NaN   \n",
      "2         0.0         1.0         0.0         0.0         0.0         3.0   \n",
      "3         3.0         NaN         0.0         0.0         0.0         0.0   \n",
      "4         0.0         0.0         NaN        15.0         4.0         0.0   \n",
      "\n",
      "   s5hspnit1y  \n",
      "0         NaN  \n",
      "1         NaN  \n",
      "2         NaN  \n",
      "3         NaN  \n",
      "4         0.0  \n"
     ]
    }
   ],
   "source": [
    "# SECTION C: HEALTH CARE UTILIZATION AND INSURANCE (20 features)\n",
    "Health_Care =['r1hosp1y', 'r2hosp1y', 'r3hosp1y', 'r4hosp1y', 'r5hosp1y', 's1hosp1y', 's2hosp1y', 's3hosp1y', 's4hosp1y', 's5hosp1y', 'r1hspnit1y', 'r2hspnit1y', 'r3hspnit1y', 'r4hspnit1y', 'r5hspnit1y', 's1hspnit1y', 's2hspnit1y', 's3hspnit1y', 's4hspnit1y', 's5hspnit1y']\n",
    "print(df[Health_Care].head())"
   ]
  },
  {
   "cell_type": "code",
   "execution_count": 5,
   "metadata": {},
   "outputs": [
    {
     "name": "stdout",
     "output_type": "stream",
     "text": [
      "   r1novisual  r2novisual  r3novisual  r4novisual  r5novisual  s1novisual  \\\n",
      "0         0.0         0.0         0.0         NaN         NaN         0.0   \n",
      "1         0.0         0.0         0.0         0.0         0.0         0.0   \n",
      "2         0.0         NaN         0.0         0.0         0.0         0.0   \n",
      "3         0.0         0.0         NaN         NaN         NaN         0.0   \n",
      "4         0.0         0.0         0.0         0.0         0.0         NaN   \n",
      "\n",
      "   s2novisual  s3novisual  s4novisual  s5novisual  r1nopencil  r2nopencil  \\\n",
      "0         0.0         0.0         NaN         NaN         0.0         1.0   \n",
      "1         0.0         0.0         NaN         NaN         0.0         0.0   \n",
      "2         0.0         NaN         NaN         NaN         0.0         NaN   \n",
      "3         NaN         0.0         0.0         NaN         0.0         0.0   \n",
      "4         0.0         0.0         0.0         0.0         0.0         0.0   \n",
      "\n",
      "   r3nopencil  r4nopencil  r5nopencil  s1nopencil  s2nopencil  s3nopencil  \\\n",
      "0         0.0         NaN         NaN         0.0         0.0         0.0   \n",
      "1         0.0         0.0         0.0         0.0         1.0         0.0   \n",
      "2         0.0         0.0         0.0         0.0         0.0         NaN   \n",
      "3         NaN         NaN         NaN         0.0         NaN         0.0   \n",
      "4         0.0         0.0         0.0         NaN         1.0         0.0   \n",
      "\n",
      "   s4nopencil  s5nopencil  \n",
      "0         NaN         NaN  \n",
      "1         NaN         NaN  \n",
      "2         NaN         NaN  \n",
      "3         0.0         NaN  \n",
      "4         0.0         0.0  \n"
     ]
    }
   ],
   "source": [
    "# SECTION D: COGNITION (20 features)\n",
    "Cognit =['r1novisual', 'r2novisual', 'r3novisual', 'r4novisual', 'r5novisual', 's1novisual', 's2novisual', 's3novisual', 's4novisual', 's5novisual', 'r1nopencil', 'r2nopencil', 'r3nopencil', 'r4nopencil', 'r5nopencil', 's1nopencil', 's2nopencil', 's3nopencil', 's4nopencil', 's5nopencil']\n",
    "print(df[Cognit].head())"
   ]
  },
  {
   "cell_type": "code",
   "execution_count": 6,
   "metadata": {},
   "outputs": [
    {
     "name": "stdout",
     "output_type": "stream",
     "text": [
      "   c2000cpindex  c2001cpindex  c2002cpindex  c2003cpindex  c2011cpindex  \\\n",
      "0     63.299999     67.300003     70.699997     73.900002    103.400002   \n",
      "1     63.299999     67.300003     70.699997     73.900002    103.400002   \n",
      "2     63.299999     67.300003     70.699997     73.900002    103.400002   \n",
      "3     63.299999     67.300003     70.699997     73.900002    103.400002   \n",
      "4     63.299999     67.300003     70.699997     73.900002    103.400002   \n",
      "\n",
      "   c2012cpindex  c2013cpindex  c2014cpindex  c2015cpindex  c2016cpindex  \\\n",
      "0    107.699997    111.800003    116.199997    119.400002    122.800003   \n",
      "1    107.699997    111.800003    116.199997    119.400002    122.800003   \n",
      "2    107.699997    111.800003    116.199997    119.400002    122.800003   \n",
      "3    107.699997    111.800003    116.199997    119.400002    122.800003   \n",
      "4    107.699997    111.800003    116.199997    119.400002    122.800003   \n",
      "\n",
      "   c2017cpindex  c2018cpindex  c2019cpindex  \n",
      "0    130.199997    136.600006         141.5  \n",
      "1    130.199997    136.600006         141.5  \n",
      "2    130.199997    136.600006         141.5  \n",
      "3    130.199997    136.600006         141.5  \n",
      "4    130.199997    136.600006         141.5  \n"
     ]
    }
   ],
   "source": [
    "# SECTION E: FINANCIAL AND HOUSING WEALTH (13 features)\n",
    "Financ =['c2000cpindex', 'c2001cpindex', 'c2002cpindex', 'c2003cpindex', 'c2011cpindex', 'c2012cpindex', 'c2013cpindex', 'c2014cpindex', 'c2015cpindex', 'c2016cpindex', 'c2017cpindex', 'c2018cpindex', 'c2019cpindex']\n",
    "print(df[Financ].head())"
   ]
  },
  {
   "cell_type": "code",
   "execution_count": 7,
   "metadata": {},
   "outputs": [
    {
     "name": "stdout",
     "output_type": "stream",
     "text": [
      "   r1iearn  r2iearn  r3iearn  r4iearn  r5iearn  s1iearn  s2iearn  s3iearn  \\\n",
      "0  14400.0      0.0  19200.0      NaN      NaN      0.0  24000.0      0.0   \n",
      "1      0.0  24000.0      0.0      0.0      0.0  14400.0      0.0  19200.0   \n",
      "2      0.0      0.0      0.0      0.0      0.0      0.0      0.0      0.0   \n",
      "3      0.0      0.0      0.0      0.0      NaN      0.0      0.0      0.0   \n",
      "4  48000.0      0.0      0.0      0.0      0.0      NaN   3600.0      0.0   \n",
      "\n",
      "   s4iearn  s5iearn  r1ifearn  r2ifearn  r3ifearn  r4ifearn  r5ifearn  \\\n",
      "0      NaN      NaN       0.0       0.0       0.0       NaN       NaN   \n",
      "1      0.0      NaN       0.0       0.0       0.0       0.0       0.0   \n",
      "2      0.0      NaN       0.0       0.0       0.0       0.0       0.0   \n",
      "3      0.0      NaN       0.0       0.0       0.0       0.0       NaN   \n",
      "4      0.0      0.0       0.0       0.0       0.0       0.0       0.0   \n",
      "\n",
      "   s1ifearn  s2ifearn  s3ifearn  s4ifearn  s5ifearn  \n",
      "0       0.0       0.0       0.0       NaN       NaN  \n",
      "1       0.0       0.0       0.0       0.0       NaN  \n",
      "2       0.0       0.0       0.0       0.0       NaN  \n",
      "3       0.0       0.0       0.0       0.0       NaN  \n",
      "4       NaN       0.0       0.0       0.0       0.0  \n"
     ]
    }
   ],
   "source": [
    "# SECTION F: INCOME (20 features)\n",
    "Income=['r1iearn', 'r2iearn', 'r3iearn', 'r4iearn', 'r5iearn', 's1iearn', 's2iearn', 's3iearn', 's4iearn', 's5iearn', 'r1ifearn', 'r2ifearn', 'r3ifearn', 'r4ifearn', 'r5ifearn', 's1ifearn', 's2ifearn', 's3ifearn', 's4ifearn', 's5ifearn']\n",
    "print(df[Income].head())"
   ]
  },
  {
   "cell_type": "code",
   "execution_count": 8,
   "metadata": {},
   "outputs": [
    {
     "name": "stdout",
     "output_type": "stream",
     "text": [
      "   h1hhres  h2hhres  h3hhres  h4hhres  h5hhres\n",
      "0      3.0      4.0      6.0      NaN      NaN\n",
      "1      3.0      4.0      6.0      1.0      1.0\n",
      "2      6.0      6.0      5.0      5.0      4.0\n",
      "3      6.0      6.0      5.0      5.0      NaN\n",
      "4      3.0      7.0      7.0      5.0      3.0\n"
     ]
    }
   ],
   "source": [
    "# SECTION G: FAMILY STRUCTURE (5 features)\n",
    "Family=['h1hhres', 'h2hhres', 'h3hhres', 'h4hhres', 'h5hhres']\n",
    "print(df[Family].head())"
   ]
  },
  {
   "cell_type": "code",
   "execution_count": 9,
   "metadata": {},
   "outputs": [
    {
     "name": "stdout",
     "output_type": "stream",
     "text": [
      "   r1work  r2work  r3work  r4work  r5work  s1work  s2work  s3work  s4work  \\\n",
      "0     1.0     1.0     1.0     NaN     NaN     0.0     0.0     0.0     NaN   \n",
      "1     0.0     0.0     0.0     0.0     0.0     1.0     1.0     1.0     NaN   \n",
      "2     1.0     1.0     0.0     0.0     0.0     1.0     0.0     0.0     0.0   \n",
      "3     1.0     0.0     0.0     0.0     NaN     1.0     1.0     0.0     0.0   \n",
      "4     1.0     1.0     1.0     1.0     1.0     NaN     1.0     0.0     0.0   \n",
      "\n",
      "   s5work  \n",
      "0     NaN  \n",
      "1     NaN  \n",
      "2     NaN  \n",
      "3     NaN  \n",
      "4     0.0  \n"
     ]
    }
   ],
   "source": [
    "# SECTION H: EMPLOYMENT HISTORY (10 features)\n",
    "Employ=['r1work', 'r2work', 'r3work', 'r4work', 'r5work', 's1work', 's2work', 's3work', 's4work', 's5work']\n",
    "print(df[Employ].head())"
   ]
  },
  {
   "cell_type": "code",
   "execution_count": 10,
   "metadata": {},
   "outputs": [
    {
     "name": "stdout",
     "output_type": "stream",
     "text": [
      "   r2retyr  r3retyr  r4retyr  r5retyr  s2retyr  s3retyr  s4retyr  s5retyr\n",
      "0      NaN      NaN      NaN      NaN      NaN      NaN      NaN      NaN\n",
      "1      NaN      NaN      NaN      NaN      NaN      NaN      NaN      NaN\n",
      "2      NaN      NaN      NaN   2014.0      NaN      NaN      NaN      NaN\n",
      "3      NaN      NaN      NaN      NaN      NaN      NaN      NaN      NaN\n",
      "4      NaN      NaN      NaN      NaN      NaN      NaN      NaN      NaN\n"
     ]
    }
   ],
   "source": [
    "# SECTION I: RETIREMENT (8 features)\n",
    "Retire=['r2retyr', 'r3retyr', 'r4retyr', 'r5retyr', 's2retyr', 's3retyr', 's4retyr', 's5retyr']\n",
    "print(df[Retire].head())"
   ]
  },
  {
   "cell_type": "code",
   "execution_count": 11,
   "metadata": {},
   "outputs": [
    {
     "name": "stdout",
     "output_type": "stream",
     "text": [
      "   r1pubpen  r2pubpen  r3pubpen  r4pubpen  r5pubpen  s1pubpen  s2pubpen  \\\n",
      "0       0.0       0.0       0.0       NaN       NaN       0.0       0.0   \n",
      "1       0.0       0.0       0.0       0.0       0.0       0.0       0.0   \n",
      "2       0.0       0.0       0.0       0.0       0.0       0.0       0.0   \n",
      "3       0.0       0.0       0.0       0.0       NaN       0.0       0.0   \n",
      "4       0.0       0.0       1.0       1.0       1.0       0.0       0.0   \n",
      "\n",
      "   s3pubpen  s4pubpen  s5pubpen  \n",
      "0       0.0       NaN       NaN  \n",
      "1       0.0       NaN       NaN  \n",
      "2       0.0       0.0       NaN  \n",
      "3       0.0       0.0       NaN  \n",
      "4       0.0       0.0       0.0  \n"
     ]
    }
   ],
   "source": [
    "# SECTION J: PENSION (10 features)\n",
    "Pension=['r1pubpen', 'r2pubpen', 'r3pubpen', 'r4pubpen', 'r5pubpen', 's1pubpen', 's2pubpen', 's3pubpen', 's4pubpen', 's5pubpen']\n",
    "print(df[Pension].head())"
   ]
  },
  {
   "cell_type": "code",
   "execution_count": 12,
   "metadata": {},
   "outputs": [
    {
     "name": "stdout",
     "output_type": "stream",
     "text": [
      "   r1mheight  r2mheight  r3mheight  s1mheight  s2mheight  s3mheight  r1htcomp  \\\n",
      "0        NaN        NaN        NaN        NaN        NaN        NaN       NaN   \n",
      "1        NaN        NaN        NaN        NaN        NaN        NaN       NaN   \n",
      "2        NaN        NaN        NaN        NaN        NaN        NaN       NaN   \n",
      "3        NaN        NaN        NaN        NaN        NaN        NaN       NaN   \n",
      "4        NaN        NaN        NaN        NaN        NaN        NaN       NaN   \n",
      "\n",
      "   r2htcomp  r3htcomp  s1htcomp  ...  r3hipcomp  s1hipcomp  s2hipcomp  \\\n",
      "0       NaN       NaN       NaN  ...        NaN        NaN        NaN   \n",
      "1       NaN       NaN       NaN  ...        NaN        NaN        NaN   \n",
      "2       NaN       NaN       NaN  ...        NaN        NaN        NaN   \n",
      "3       NaN       NaN       NaN  ...        NaN        NaN        NaN   \n",
      "4       NaN       NaN       NaN  ...        NaN        NaN        NaN   \n",
      "\n",
      "   s3hipcomp  r1mwhratio  r2mwhratio  r3mwhratio  s1mwhratio  s2mwhratio  \\\n",
      "0        NaN         NaN         NaN         NaN         NaN         NaN   \n",
      "1        NaN         NaN         NaN         NaN         NaN         NaN   \n",
      "2        NaN         NaN         NaN         NaN         NaN         NaN   \n",
      "3        NaN         NaN         NaN         NaN         NaN         NaN   \n",
      "4        NaN         NaN         NaN         NaN         NaN         NaN   \n",
      "\n",
      "   s3mwhratio  \n",
      "0         NaN  \n",
      "1         NaN  \n",
      "2         NaN  \n",
      "3         NaN  \n",
      "4         NaN  \n",
      "\n",
      "[5 rows x 66 columns]\n"
     ]
    }
   ],
   "source": [
    "# SECTION K: PHYSICAL MEASURES (66 features)\n",
    "Physical=['r1mheight', 'r2mheight', 'r3mheight', 's1mheight', 's2mheight', 's3mheight', 'r1htcomp', 'r2htcomp', 'r3htcomp', 's1htcomp', 's2htcomp', 's3htcomp', 'r1mweight', 'r2mweight', 'r3mweight', 's1mweight', 's2mweight', 's3mweight', 'r1wtcomp', 'r2wtcomp', 'r3wtcomp', 's1wtcomp', 's2wtcomp', 's3wtcomp', 'r1mbmi', 'r2mbmi', 'r3mbmi', 's1mbmi', 's2mbmi', 's3mbmi', 'r1mbmicat', 'r2mbmicat', 'r3mbmicat', 's1mbmicat', 's2mbmicat', 's3mbmicat', 'r1mwaist', 'r2mwaist', 'r3mwaist', 's1mwaist', 's2mwaist', 's3mwaist', 'r1watcomp', 'r2watcomp', 'r3watcomp', 's1watcomp', 's2watcomp', 's3watcomp', 'r1mhip', 'r2mhip', 'r3mhip', 's1mhip', 's2mhip', 's3mhip', 'r1hipcomp', 'r2hipcomp', 'r3hipcomp', 's1hipcomp', 's2hipcomp', 's3hipcomp', 'r1mwhratio', 'r2mwhratio', 'r3mwhratio', 's1mwhratio', 's2mwhratio', 's3mwhratio']\n",
    "print(df[Physical].head())"
   ]
  },
  {
   "cell_type": "code",
   "execution_count": 13,
   "metadata": {},
   "outputs": [
    {
     "name": "stdout",
     "output_type": "stream",
     "text": [
      "   r1dresshlp  r2dresshlp  r3dresshlp  r4dresshlp  r5dresshlp  s1dresshlp  \\\n",
      "0         NaN         NaN         NaN         NaN         NaN         NaN   \n",
      "1         NaN         NaN         NaN         NaN         NaN         NaN   \n",
      "2         NaN         NaN         NaN         NaN         NaN         NaN   \n",
      "3         NaN         NaN         NaN         NaN         NaN         NaN   \n",
      "4         NaN         NaN         NaN         NaN         NaN         NaN   \n",
      "\n",
      "   s2dresshlp  s3dresshlp  s4dresshlp  s5dresshlp  ...  r1bedhlp  r2bedhlp  \\\n",
      "0         NaN         NaN         NaN         NaN  ...       NaN       NaN   \n",
      "1         NaN         NaN         NaN         NaN  ...       NaN       NaN   \n",
      "2         NaN         NaN         NaN         NaN  ...       NaN       NaN   \n",
      "3         NaN         NaN         NaN         NaN  ...       NaN       NaN   \n",
      "4         NaN         0.0         NaN         NaN  ...       NaN       NaN   \n",
      "\n",
      "   r3bedhlp  r4bedhlp  r5bedhlp  s1bedhlp  s2bedhlp  s3bedhlp  s4bedhlp  \\\n",
      "0       0.0       NaN       NaN       NaN       NaN       NaN       NaN   \n",
      "1       NaN       NaN       NaN       NaN       NaN       0.0       NaN   \n",
      "2       NaN       NaN       NaN       NaN       NaN       NaN       NaN   \n",
      "3       NaN       NaN       NaN       NaN       NaN       NaN       NaN   \n",
      "4       NaN       NaN       NaN       NaN       NaN       0.0       NaN   \n",
      "\n",
      "   s5bedhlp  \n",
      "0       NaN  \n",
      "1       NaN  \n",
      "2       NaN  \n",
      "3       NaN  \n",
      "4       NaN  \n",
      "\n",
      "[5 rows x 50 columns]\n"
     ]
    }
   ],
   "source": [
    "# SECTION L: ASSISTANCE AND CAREGIVING (50 features)\n",
    "Assitan=['r1dresshlp', 'r2dresshlp', 'r3dresshlp', 'r4dresshlp', 'r5dresshlp', 's1dresshlp', 's2dresshlp', 's3dresshlp', 's4dresshlp', 's5dresshlp', 'r1walkhlp', 'r2walkhlp', 'r3walkhlp', 'r4walkhlp', 'r5walkhlp', 's1walkhlp', 's2walkhlp', 's3walkhlp', 's4walkhlp', 's5walkhlp', 'r1bathehlp', 'r2bathehlp', 'r3bathehlp', 'r4bathehlp', 'r5bathehlp', 's1bathehlp', 's2bathehlp', 's3bathehlp', 's4bathehlp', 's5bathehlp', 'r1eathlp', 'r2eathlp', 'r3eathlp', 'r4eathlp', 'r5eathlp', 's1eathlp', 's2eathlp', 's3eathlp', 's4eathlp', 's5eathlp', 'r1bedhlp', 'r2bedhlp', 'r3bedhlp', 'r4bedhlp', 'r5bedhlp', 's1bedhlp', 's2bedhlp', 's3bedhlp', 's4bedhlp', 's5bedhlp']\n",
    "print(df[Assitan].head())"
   ]
  },
  {
   "cell_type": "code",
   "execution_count": 14,
   "metadata": {},
   "outputs": [
    {
     "name": "stdout",
     "output_type": "stream",
     "text": [
      "   r2sustdfe_m  r3sustdfe_m  s2sustdfe_m  s3sustdfe_m  r2srely_m  r3srely_m  \\\n",
      "0          2.0          3.0          2.0          3.0        1.0        3.0   \n",
      "1          2.0          3.0          2.0          3.0        1.0        3.0   \n",
      "2          NaN          1.0          2.0          NaN        NaN        1.0   \n",
      "3          2.0          NaN          NaN          1.0        1.0        NaN   \n",
      "4          1.0          1.0          1.0          1.0        1.0        1.0   \n",
      "\n",
      "   s2srely_m  s3srely_m  r2sopenup_m  r3sopenup_m  ...  s2sletdow_m  \\\n",
      "0        1.0        3.0          1.0          3.0  ...          2.0   \n",
      "1        1.0        3.0          2.0          3.0  ...          2.0   \n",
      "2        1.0        NaN          NaN          1.0  ...          2.0   \n",
      "3        NaN        1.0          2.0          NaN  ...          NaN   \n",
      "4        1.0        1.0          1.0          1.0  ...          3.0   \n",
      "\n",
      "   s3sletdow_m  r2ssupport4_m  r3ssupport4_m  s2ssupport4_m  s3ssupport4_m  \\\n",
      "0          1.0           1.50           3.00           1.75           3.00   \n",
      "1          1.0           1.75           3.00           1.50           3.00   \n",
      "2          NaN            NaN           1.25           1.75            NaN   \n",
      "3          2.0           1.75            NaN            NaN           1.25   \n",
      "4          3.0           1.00           1.00           1.00           1.00   \n",
      "\n",
      "   r2ssupport4m_m  r3ssupport4m_m  s2ssupport4m_m  s3ssupport4m_m  \n",
      "0             0.0             0.0             0.0             0.0  \n",
      "1             0.0             0.0             0.0             0.0  \n",
      "2             4.0             0.0             0.0             4.0  \n",
      "3             0.0             4.0             4.0             0.0  \n",
      "4             0.0             0.0             0.0             0.0  \n",
      "\n",
      "[5 rows x 24 columns]\n"
     ]
    }
   ],
   "source": [
    "# SECTION M: STRESS (24 features)\n",
    "Stress=['r2sustdfe_m', 'r3sustdfe_m', 's2sustdfe_m', 's3sustdfe_m', 'r2srely_m', 'r3srely_m', 's2srely_m', 's3srely_m', 'r2sopenup_m', 'r3sopenup_m', 's2sopenup_m', 's3sopenup_m', 'r2sletdow_m', 'r3sletdow_m', 's2sletdow_m', 's3sletdow_m', 'r2ssupport4_m', 'r3ssupport4_m', 's2ssupport4_m', 's3ssupport4_m', 'r2ssupport4m_m', 'r3ssupport4m_m', 's2ssupport4m_m', 's3ssupport4m_m']\n",
    "print(df[Stress].head())"
   ]
  },
  {
   "cell_type": "code",
   "execution_count": 15,
   "metadata": {},
   "outputs": [
    {
     "name": "stdout",
     "output_type": "stream",
     "text": [
      "   h1witwill_m  h2witwill_m  h3witwill_m  h4witwill_m  h5witwill_m  h3witwill  \\\n",
      "0          0.0          0.0          0.0          NaN          NaN        0.0   \n",
      "1          0.0          0.0          0.0          0.0          0.0        0.0   \n",
      "2          0.0          0.0          NaN          0.0          1.0        NaN   \n",
      "3          0.0          0.0          NaN          0.0          NaN        NaN   \n",
      "4          0.0          0.0          0.0          NaN          1.0        0.0   \n",
      "\n",
      "   h4witwill  h5witwill  \n",
      "0        NaN        NaN  \n",
      "1        0.0        0.0  \n",
      "2        0.0        0.0  \n",
      "3        0.0        NaN  \n",
      "4        NaN        1.0  \n"
     ]
    }
   ],
   "source": [
    "# SECTION O: END OF LIFE PLANNING (8 features)\n",
    "Plannin=['h1witwill_m', 'h2witwill_m', 'h3witwill_m', 'h4witwill_m', 'h5witwill_m', 'h3witwill', 'h4witwill', 'h5witwill']\n",
    "print(df[Plannin].head())"
   ]
  },
  {
   "cell_type": "code",
   "execution_count": 18,
   "metadata": {},
   "outputs": [
    {
     "name": "stdout",
     "output_type": "stream",
     "text": [
      "   r1depres  r2depres  r3depres  r4depres  r5depres  s1depres  s2depres  \\\n",
      "0       1.0       0.0       1.0       NaN       NaN       0.0       0.0   \n",
      "1       0.0       0.0       0.0       1.0       1.0       1.0       0.0   \n",
      "2       1.0       NaN       1.0       1.0       0.0       0.0       0.0   \n",
      "3       0.0       0.0       NaN       NaN       NaN       1.0       NaN   \n",
      "4       0.0       0.0       0.0       0.0       0.0       NaN       0.0   \n",
      "\n",
      "   s3depres  s4depres  s5depres  ...  r1cesdm_m  r2cesdm_m  r3cesdm_m  \\\n",
      "0       0.0       NaN       NaN  ...        0.0        0.0        0.0   \n",
      "1       1.0       NaN       NaN  ...        0.0        0.0        0.0   \n",
      "2       NaN       NaN       NaN  ...        0.0        9.0        0.0   \n",
      "3       1.0       1.0       NaN  ...        0.0        0.0        9.0   \n",
      "4       0.0       1.0       1.0  ...        0.0        0.0        0.0   \n",
      "\n",
      "   r4cesdm_m  r5cesdm_m  s1cesdm_m  s2cesdm_m  s3cesdm_m  s4cesdm_m  s5cesdm_m  \n",
      "0        NaN        NaN        0.0        0.0        0.0        NaN        NaN  \n",
      "1        0.0        0.0        0.0        0.0        0.0        NaN        NaN  \n",
      "2        0.0        0.0        0.0        0.0        9.0        9.0        NaN  \n",
      "3        9.0        NaN        0.0        9.0        0.0        0.0        NaN  \n",
      "4        0.0        0.0        NaN        0.0        0.0        0.0        0.0  \n",
      "\n",
      "[5 rows x 110 columns]\n"
     ]
    }
   ],
   "source": [
    "# SECTION Q: PSYCHOSOCIAL (110 features)\n",
    "Phychosocial=['r1depres', 'r2depres', 'r3depres', 'r4depres', 'r5depres', 's1depres', 's2depres', 's3depres', 's4depres', 's5depres', 'r1effort', 'r2effort', 'r3effort', 'r4effort', 'r5effort', 's1effort', 's2effort', 's3effort', 's4effort', 's5effort', 'r1sleepr', 'r2sleepr', 'r3sleepr', 'r4sleepr', 'r5sleepr', 's1sleepr', 's2sleepr', 's3sleepr', 's4sleepr', 's5sleepr', 'r1whappy', 'r2whappy', 'r3whappy', 'r4whappy', 'r5whappy', 's1whappy', 's2whappy', 's3whappy', 's4whappy', 's5whappy', 'r1flone', 'r2flone', 'r3flone', 'r4flone', 'r5flone', 's1flone', 's2flone', 's3flone', 's4flone', 's5flone', 'r1enlife', 'r2enlife', 'r3enlife', 'r4enlife', 'r5enlife', 's1enlife', 's2enlife', 's3enlife', 's4enlife', 's5enlife', 'r1fsad', 'r2fsad', 'r3fsad', 'r4fsad', 'r5fsad', 's1fsad', 's2fsad', 's3fsad', 's4fsad', 's5fsad', 'r1ftired', 'r2ftired', 'r3ftired', 'r4ftired', 'r5ftired', 's1ftired', 's2ftired', 's3ftired', 's4ftired', 's5ftired', 'r1energ', 'r2energ', 'r3energ', 'r4energ', 'r5energ', 's1energ', 's2energ', 's3energ', 's4energ', 's5energ', 'r1cesd_m', 'r2cesd_m', 'r3cesd_m', 'r4cesd_m', 'r5cesd_m', 's1cesd_m', 's2cesd_m', 's3cesd_m', 's4cesd_m', 's5cesd_m', 'r1cesdm_m', 'r2cesdm_m', 'r3cesdm_m', 'r4cesdm_m', 'r5cesdm_m', 's1cesdm_m', 's2cesdm_m', 's3cesdm_m', 's4cesdm_m', 's5cesdm_m']\n",
    "print(df[Phychosocial].head())"
   ]
  }
 ],
 "metadata": {
  "kernelspec": {
   "display_name": "testenv",
   "language": "python",
   "name": "python3"
  },
  "language_info": {
   "codemirror_mode": {
    "name": "ipython",
    "version": 3
   },
   "file_extension": ".py",
   "mimetype": "text/x-python",
   "name": "python",
   "nbconvert_exporter": "python",
   "pygments_lexer": "ipython3",
   "version": "3.10.11"
  }
 },
 "nbformat": 4,
 "nbformat_minor": 2
}
